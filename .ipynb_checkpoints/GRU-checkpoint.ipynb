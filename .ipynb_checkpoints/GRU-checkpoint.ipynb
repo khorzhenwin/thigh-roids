{
 "cells": [
  {
   "cell_type": "markdown",
   "id": "30fc284a",
   "metadata": {},
   "source": [
    "# GRU Model\n",
    "\n",
    "## Data Import"
   ]
  },
  {
   "cell_type": "code",
   "execution_count": 289,
   "id": "903fdf0a",
   "metadata": {},
   "outputs": [],
   "source": [
    "import pandas as pd\n",
    "import numpy as np\n",
    "import matplotlib.pyplot as plt\n",
    "import seaborn as sns\n",
    "import os\n",
    "import tensorflow as tf\n",
    "from tensorflow.keras.models import Sequential\n",
    "from tensorflow.keras.layers import GRU, Dense, Dropout\n",
    "from tensorflow.keras.optimizers import Adam\n",
    "from tensorflow.keras.losses import MeanSquaredError\n",
    "from tensorflow.keras.metrics import Precision, Recall, AUC, Accuracy\n",
    "from keras.models import Sequential\n",
    "from sklearn.preprocessing import normalize, StandardScaler\n",
    "from keras_tuner.tuners import RandomSearch\n",
    "from sklearn.metrics import (\n",
    "    accuracy_score,\n",
    "    precision_score,\n",
    "    recall_score,\n",
    "    f1_score,\n",
    "    confusion_matrix,\n",
    "    classification_report,\n",
    ")"
   ]
  },
  {
   "cell_type": "markdown",
   "id": "e732cee4",
   "metadata": {},
   "source": [
    "## Data Preparation"
   ]
  },
  {
   "cell_type": "code",
   "execution_count": 290,
   "id": "f854c205",
   "metadata": {},
   "outputs": [],
   "source": [
    "df_train = pd.read_csv(\"dataset/output/no-oversampling/train.csv\")\n",
    "df_test = pd.read_csv(\"dataset/output/test.csv\")"
   ]
  },
  {
   "cell_type": "code",
   "execution_count": 291,
   "id": "0d0a89e4",
   "metadata": {},
   "outputs": [],
   "source": [
    "# split into X_train, y_train, X_test, y_test\n",
    "X_train = df_train.drop(columns=[\"target\"])\n",
    "y_train = df_train[\"target\"]\n",
    "X_test = df_test.drop(columns=[\"target\"])\n",
    "y_test = df_test[\"target\"]\n",
    "\n",
    "# normalize data\n",
    "X_train = normalize(X_train)\n",
    "X_test = normalize(X_test)\n",
    "y_train = normalize(y_train.values.reshape(-1, 1))\n",
    "y_test = normalize(y_test.values.reshape(-1, 1))"
   ]
  },
  {
   "cell_type": "code",
   "execution_count": 292,
   "id": "0fbe4b2a",
   "metadata": {},
   "outputs": [],
   "source": [
    "scaler = StandardScaler()\n",
    "train_features = scaler.fit_transform(X_train)\n",
    "test_features = scaler.fit_transform(X_test)\n",
    "\n",
    "sequence_length = 10\n",
    "batch_size = 32\n",
    "\n",
    "train_sequences = []\n",
    "test_sequences = []\n",
    "\n",
    "for i in range(len(train_features) - sequence_length + 1):\n",
    "    train_sequences.append(train_features[i:i + sequence_length])\n",
    "xtrain = np.array(train_sequences)\n",
    "ytrain = y_train[sequence_length - 1:]\n",
    "\n",
    "\n",
    "for i in range(len(test_features) - sequence_length + 1):\n",
    "    test_sequences.append(test_features[i:i + sequence_length])\n",
    "xtest = np.array(test_sequences)\n",
    "ytest = y_test[sequence_length - 1:]"
   ]
  },
  {
   "cell_type": "markdown",
   "id": "78c38050",
   "metadata": {},
   "source": [
    "## Helper Functions"
   ]
  },
  {
   "cell_type": "code",
   "execution_count": 293,
   "id": "1c1773b3",
   "metadata": {},
   "outputs": [],
   "source": [
    "# This plots the auc against iteration to detect overfitting\n",
    "def plot_hist(hist, metric=\"accuracy\"):\n",
    "    plt.plot(hist.history[metric])\n",
    "    plt.plot(hist.history[\"val_\" + metric])\n",
    "    plt.title(f\"model performance\")\n",
    "    plt.ylabel(\"accuracy\")\n",
    "    plt.xlabel(\"epoch\")\n",
    "    plt.legend([\"train\", \"validation\"], loc=\"upper left\")\n",
    "    plt.show()\n",
    "    return"
   ]
  },
  {
   "cell_type": "markdown",
   "id": "072a902e",
   "metadata": {},
   "source": [
    "## Model Building\n",
    "### Base Model"
   ]
  },
  {
   "cell_type": "code",
   "execution_count": 294,
   "id": "6d4a548d",
   "metadata": {},
   "outputs": [],
   "source": [
    "def create_gru_model(sequence_length, num_features):\n",
    "    model = Sequential()\n",
    "    model.add(GRU(32, input_shape=(sequence_length, num_features), dropout=0.2, recurrent_dropout=0.2))\n",
    "    model.add(Dense(1, activation='sigmoid'))\n",
    "    model.compile(optimizer=Adam(), loss='binary_crossentropy', metrics=['accuracy', Precision(), Recall()])\n",
    "    return model"
   ]
  },
  {
   "cell_type": "code",
   "execution_count": 295,
   "id": "338f5fd1",
   "metadata": {
    "scrolled": true
   },
   "outputs": [
    {
     "name": "stdout",
     "output_type": "stream",
     "text": [
      "Model: \"sequential_1\"\n",
      "_________________________________________________________________\n",
      " Layer (type)                Output Shape              Param #   \n",
      "=================================================================\n",
      " gru_2 (GRU)                 (None, 32)                4032      \n",
      "                                                                 \n",
      " dense_1 (Dense)             (None, 1)                 33        \n",
      "                                                                 \n",
      "=================================================================\n",
      "Total params: 4,065\n",
      "Trainable params: 4,065\n",
      "Non-trainable params: 0\n",
      "_________________________________________________________________\n"
     ]
    }
   ],
   "source": [
    "# Create and compile the model\n",
    "sequence_length, num_features = sequence_length, X_train.shape[1]\n",
    "model = create_gru_model(sequence_length, num_features)\n",
    "model.summary()"
   ]
  },
  {
   "cell_type": "code",
   "execution_count": 296,
   "id": "a5f3a71f",
   "metadata": {
    "scrolled": true
   },
   "outputs": [
    {
     "name": "stdout",
     "output_type": "stream",
     "text": [
      "Epoch 1/100\n",
      "280/280 [==============================] - 4s 8ms/step - loss: 0.6510 - accuracy: 0.6355 - precision_1: 0.5498 - recall_1: 0.1336 - val_loss: 0.6335 - val_accuracy: 0.6722 - val_precision_1: 0.6344 - val_recall_1: 0.1816\n",
      "Epoch 2/100\n",
      "280/280 [==============================] - 2s 6ms/step - loss: 0.6440 - accuracy: 0.6450 - precision_1: 0.6133 - recall_1: 0.1350 - val_loss: 0.6285 - val_accuracy: 0.6695 - val_precision_1: 0.6536 - val_recall_1: 0.1475\n",
      "Epoch 3/100\n",
      "280/280 [==============================] - 2s 6ms/step - loss: 0.6417 - accuracy: 0.6454 - precision_1: 0.6124 - recall_1: 0.1383 - val_loss: 0.6280 - val_accuracy: 0.6726 - val_precision_1: 0.6325 - val_recall_1: 0.1866\n",
      "Epoch 4/100\n",
      "280/280 [==============================] - 2s 7ms/step - loss: 0.6413 - accuracy: 0.6435 - precision_1: 0.6107 - recall_1: 0.1261 - val_loss: 0.6284 - val_accuracy: 0.6749 - val_precision_1: 0.6438 - val_recall_1: 0.1892\n",
      "Epoch 5/100\n",
      "280/280 [==============================] - 2s 6ms/step - loss: 0.6391 - accuracy: 0.6473 - precision_1: 0.6206 - recall_1: 0.1437 - val_loss: 0.6244 - val_accuracy: 0.6762 - val_precision_1: 0.6471 - val_recall_1: 0.1942\n",
      "Epoch 6/100\n",
      "280/280 [==============================] - 2s 6ms/step - loss: 0.6379 - accuracy: 0.6497 - precision_1: 0.6298 - recall_1: 0.1515 - val_loss: 0.6251 - val_accuracy: 0.6726 - val_precision_1: 0.6505 - val_recall_1: 0.1690\n",
      "Epoch 7/100\n",
      "280/280 [==============================] - 2s 7ms/step - loss: 0.6387 - accuracy: 0.6473 - precision_1: 0.6315 - recall_1: 0.1341 - val_loss: 0.6230 - val_accuracy: 0.6704 - val_precision_1: 0.6508 - val_recall_1: 0.1551\n",
      "Epoch 8/100\n",
      "280/280 [==============================] - 2s 7ms/step - loss: 0.6383 - accuracy: 0.6471 - precision_1: 0.6158 - recall_1: 0.1470 - val_loss: 0.6238 - val_accuracy: 0.6695 - val_precision_1: 0.6486 - val_recall_1: 0.1513\n",
      "Epoch 9/100\n",
      "280/280 [==============================] - 2s 7ms/step - loss: 0.6364 - accuracy: 0.6498 - precision_1: 0.6411 - recall_1: 0.1425 - val_loss: 0.6251 - val_accuracy: 0.6717 - val_precision_1: 0.6261 - val_recall_1: 0.1879\n",
      "Epoch 10/100\n",
      "280/280 [==============================] - 2s 7ms/step - loss: 0.6375 - accuracy: 0.6465 - precision_1: 0.6139 - recall_1: 0.1449 - val_loss: 0.6239 - val_accuracy: 0.6717 - val_precision_1: 0.6500 - val_recall_1: 0.1639\n",
      "Epoch 11/100\n",
      "280/280 [==============================] - 2s 6ms/step - loss: 0.6363 - accuracy: 0.6473 - precision_1: 0.6188 - recall_1: 0.1455 - val_loss: 0.6231 - val_accuracy: 0.6726 - val_precision_1: 0.6598 - val_recall_1: 0.1614\n",
      "Epoch 12/100\n",
      "280/280 [==============================] - 2s 7ms/step - loss: 0.6356 - accuracy: 0.6486 - precision_1: 0.6261 - recall_1: 0.1476 - val_loss: 0.6241 - val_accuracy: 0.6708 - val_precision_1: 0.6450 - val_recall_1: 0.1627\n",
      "Epoch 13/100\n",
      "280/280 [==============================] - 2s 7ms/step - loss: 0.6352 - accuracy: 0.6504 - precision_1: 0.6356 - recall_1: 0.1506 - val_loss: 0.6234 - val_accuracy: 0.6691 - val_precision_1: 0.6298 - val_recall_1: 0.1652\n",
      "Epoch 14/100\n",
      "280/280 [==============================] - 2s 7ms/step - loss: 0.6333 - accuracy: 0.6513 - precision_1: 0.6298 - recall_1: 0.1616 - val_loss: 0.6270 - val_accuracy: 0.6691 - val_precision_1: 0.6570 - val_recall_1: 0.1425\n",
      "Epoch 15/100\n",
      "280/280 [==============================] - 2s 7ms/step - loss: 0.6349 - accuracy: 0.6516 - precision_1: 0.6430 - recall_1: 0.1518 - val_loss: 0.6232 - val_accuracy: 0.6740 - val_precision_1: 0.6395 - val_recall_1: 0.1879\n",
      "Epoch 16/100\n",
      "280/280 [==============================] - 2s 7ms/step - loss: 0.6346 - accuracy: 0.6514 - precision_1: 0.6376 - recall_1: 0.1551 - val_loss: 0.6254 - val_accuracy: 0.6749 - val_precision_1: 0.6450 - val_recall_1: 0.1879\n",
      "Epoch 17/100\n",
      "280/280 [==============================] - 2s 8ms/step - loss: 0.6334 - accuracy: 0.6525 - precision_1: 0.6348 - recall_1: 0.1646 - val_loss: 0.6227 - val_accuracy: 0.6677 - val_precision_1: 0.6509 - val_recall_1: 0.1387\n",
      "Epoch 18/100\n",
      "280/280 [==============================] - 2s 7ms/step - loss: 0.6322 - accuracy: 0.6498 - precision_1: 0.6290 - recall_1: 0.1530 - val_loss: 0.6255 - val_accuracy: 0.6717 - val_precision_1: 0.6210 - val_recall_1: 0.1942\n",
      "Epoch 19/100\n",
      "280/280 [==============================] - 2s 7ms/step - loss: 0.6332 - accuracy: 0.6506 - precision_1: 0.6194 - recall_1: 0.1682 - val_loss: 0.6241 - val_accuracy: 0.6700 - val_precision_1: 0.6207 - val_recall_1: 0.1816\n",
      "Epoch 20/100\n",
      "280/280 [==============================] - 2s 7ms/step - loss: 0.6327 - accuracy: 0.6491 - precision_1: 0.6127 - recall_1: 0.1649 - val_loss: 0.6228 - val_accuracy: 0.6673 - val_precision_1: 0.6330 - val_recall_1: 0.1501\n",
      "Epoch 21/100\n",
      "280/280 [==============================] - 2s 7ms/step - loss: 0.6317 - accuracy: 0.6476 - precision_1: 0.6209 - recall_1: 0.1458 - val_loss: 0.6246 - val_accuracy: 0.6673 - val_precision_1: 0.6225 - val_recall_1: 0.1602\n",
      "Epoch 22/100\n",
      "280/280 [==============================] - 2s 7ms/step - loss: 0.6317 - accuracy: 0.6503 - precision_1: 0.6302 - recall_1: 0.1548 - val_loss: 0.6243 - val_accuracy: 0.6708 - val_precision_1: 0.6306 - val_recall_1: 0.1765\n",
      "Epoch 23/100\n",
      "280/280 [==============================] - 2s 7ms/step - loss: 0.6312 - accuracy: 0.6523 - precision_1: 0.6339 - recall_1: 0.1640 - val_loss: 0.6243 - val_accuracy: 0.6691 - val_precision_1: 0.6337 - val_recall_1: 0.1614\n",
      "Epoch 24/100\n",
      "280/280 [==============================] - 2s 7ms/step - loss: 0.6316 - accuracy: 0.6523 - precision_1: 0.6315 - recall_1: 0.1664 - val_loss: 0.6237 - val_accuracy: 0.6722 - val_precision_1: 0.6266 - val_recall_1: 0.1904\n",
      "Epoch 25/100\n",
      "280/280 [==============================] - 2s 8ms/step - loss: 0.6301 - accuracy: 0.6517 - precision_1: 0.6280 - recall_1: 0.1664 - val_loss: 0.6252 - val_accuracy: 0.6717 - val_precision_1: 0.6230 - val_recall_1: 0.1917\n",
      "Epoch 26/100\n",
      "280/280 [==============================] - 2s 7ms/step - loss: 0.6291 - accuracy: 0.6560 - precision_1: 0.6458 - recall_1: 0.1754 - val_loss: 0.6246 - val_accuracy: 0.6686 - val_precision_1: 0.6137 - val_recall_1: 0.1803\n",
      "Epoch 27/100\n",
      "280/280 [==============================] - 2s 7ms/step - loss: 0.6297 - accuracy: 0.6524 - precision_1: 0.6296 - recall_1: 0.1691 - val_loss: 0.6252 - val_accuracy: 0.6708 - val_precision_1: 0.6142 - val_recall_1: 0.1967\n",
      "Epoch 28/100\n",
      "280/280 [==============================] - 2s 7ms/step - loss: 0.6287 - accuracy: 0.6536 - precision_1: 0.6335 - recall_1: 0.1730 - val_loss: 0.6253 - val_accuracy: 0.6700 - val_precision_1: 0.6138 - val_recall_1: 0.1904\n",
      "Epoch 29/100\n",
      "280/280 [==============================] - 2s 7ms/step - loss: 0.6293 - accuracy: 0.6520 - precision_1: 0.6246 - recall_1: 0.1715 - val_loss: 0.6267 - val_accuracy: 0.6704 - val_precision_1: 0.6118 - val_recall_1: 0.1967\n",
      "Epoch 30/100\n",
      "280/280 [==============================] - 2s 7ms/step - loss: 0.6289 - accuracy: 0.6523 - precision_1: 0.6208 - recall_1: 0.1781 - val_loss: 0.6247 - val_accuracy: 0.6641 - val_precision_1: 0.5947 - val_recall_1: 0.1702\n",
      "Epoch 31/100\n",
      "280/280 [==============================] - 2s 7ms/step - loss: 0.6278 - accuracy: 0.6531 - precision_1: 0.6329 - recall_1: 0.1700 - val_loss: 0.6245 - val_accuracy: 0.6708 - val_precision_1: 0.6160 - val_recall_1: 0.1942\n",
      "Epoch 32/100\n",
      "280/280 [==============================] - 2s 7ms/step - loss: 0.6281 - accuracy: 0.6545 - precision_1: 0.6296 - recall_1: 0.1829 - val_loss: 0.6285 - val_accuracy: 0.6722 - val_precision_1: 0.6013 - val_recall_1: 0.2282\n",
      "Epoch 33/100\n",
      "280/280 [==============================] - 2s 7ms/step - loss: 0.6282 - accuracy: 0.6514 - precision_1: 0.6152 - recall_1: 0.1787 - val_loss: 0.6241 - val_accuracy: 0.6717 - val_precision_1: 0.6282 - val_recall_1: 0.1854\n",
      "Epoch 34/100\n",
      "280/280 [==============================] - 2s 8ms/step - loss: 0.6267 - accuracy: 0.6553 - precision_1: 0.6376 - recall_1: 0.1793 - val_loss: 0.6278 - val_accuracy: 0.6722 - val_precision_1: 0.6117 - val_recall_1: 0.2106\n",
      "Epoch 35/100\n",
      "280/280 [==============================] - 2s 7ms/step - loss: 0.6267 - accuracy: 0.6532 - precision_1: 0.6232 - recall_1: 0.1814 - val_loss: 0.6272 - val_accuracy: 0.6677 - val_precision_1: 0.6032 - val_recall_1: 0.1879\n",
      "Epoch 36/100\n"
     ]
    },
    {
     "name": "stdout",
     "output_type": "stream",
     "text": [
      "280/280 [==============================] - 2s 7ms/step - loss: 0.6260 - accuracy: 0.6557 - precision_1: 0.6331 - recall_1: 0.1861 - val_loss: 0.6267 - val_accuracy: 0.6641 - val_precision_1: 0.5907 - val_recall_1: 0.1765\n",
      "Epoch 37/100\n",
      "280/280 [==============================] - 2s 7ms/step - loss: 0.6269 - accuracy: 0.6520 - precision_1: 0.6153 - recall_1: 0.1826 - val_loss: 0.6263 - val_accuracy: 0.6673 - val_precision_1: 0.6000 - val_recall_1: 0.1892\n",
      "Epoch 38/100\n",
      "280/280 [==============================] - 2s 7ms/step - loss: 0.6255 - accuracy: 0.6568 - precision_1: 0.6371 - recall_1: 0.1888 - val_loss: 0.6294 - val_accuracy: 0.6691 - val_precision_1: 0.5925 - val_recall_1: 0.2182\n",
      "Epoch 39/100\n",
      "280/280 [==============================] - 2s 7ms/step - loss: 0.6246 - accuracy: 0.6557 - precision_1: 0.6274 - recall_1: 0.1927 - val_loss: 0.6274 - val_accuracy: 0.6704 - val_precision_1: 0.6014 - val_recall_1: 0.2131\n",
      "Epoch 40/100\n",
      "280/280 [==============================] - 2s 7ms/step - loss: 0.6245 - accuracy: 0.6545 - precision_1: 0.6245 - recall_1: 0.1888 - val_loss: 0.6253 - val_accuracy: 0.6686 - val_precision_1: 0.5936 - val_recall_1: 0.2119\n",
      "Epoch 41/100\n",
      "280/280 [==============================] - 2s 7ms/step - loss: 0.6225 - accuracy: 0.6611 - precision_1: 0.6447 - recall_1: 0.2071 - val_loss: 0.6259 - val_accuracy: 0.6686 - val_precision_1: 0.6031 - val_recall_1: 0.1955\n",
      "Epoch 42/100\n",
      "280/280 [==============================] - 2s 8ms/step - loss: 0.6196 - accuracy: 0.6583 - precision_1: 0.6300 - recall_1: 0.2071 - val_loss: 0.6278 - val_accuracy: 0.6659 - val_precision_1: 0.5907 - val_recall_1: 0.1929\n",
      "Epoch 43/100\n",
      "280/280 [==============================] - 2s 7ms/step - loss: 0.6216 - accuracy: 0.6567 - precision_1: 0.6249 - recall_1: 0.2026 - val_loss: 0.6274 - val_accuracy: 0.6646 - val_precision_1: 0.5791 - val_recall_1: 0.2030\n",
      "Epoch 44/100\n",
      "280/280 [==============================] - 2s 7ms/step - loss: 0.6229 - accuracy: 0.6540 - precision_1: 0.6122 - recall_1: 0.2014 - val_loss: 0.6282 - val_accuracy: 0.6673 - val_precision_1: 0.6008 - val_recall_1: 0.1879\n",
      "Epoch 45/100\n",
      "280/280 [==============================] - 2s 7ms/step - loss: 0.6210 - accuracy: 0.6587 - precision_1: 0.6303 - recall_1: 0.2088 - val_loss: 0.6282 - val_accuracy: 0.6664 - val_precision_1: 0.5889 - val_recall_1: 0.2005\n",
      "Epoch 46/100\n",
      "280/280 [==============================] - 2s 7ms/step - loss: 0.6219 - accuracy: 0.6573 - precision_1: 0.6210 - recall_1: 0.2124 - val_loss: 0.6272 - val_accuracy: 0.6646 - val_precision_1: 0.5809 - val_recall_1: 0.1992\n",
      "Epoch 47/100\n",
      "280/280 [==============================] - 2s 7ms/step - loss: 0.6213 - accuracy: 0.6590 - precision_1: 0.6325 - recall_1: 0.2082 - val_loss: 0.6291 - val_accuracy: 0.6632 - val_precision_1: 0.5695 - val_recall_1: 0.2119\n",
      "Epoch 48/100\n",
      "280/280 [==============================] - 2s 7ms/step - loss: 0.6223 - accuracy: 0.6598 - precision_1: 0.6338 - recall_1: 0.2115 - val_loss: 0.6327 - val_accuracy: 0.6632 - val_precision_1: 0.5616 - val_recall_1: 0.2358\n",
      "Epoch 49/100\n",
      "280/280 [==============================] - 2s 7ms/step - loss: 0.6239 - accuracy: 0.6576 - precision_1: 0.6274 - recall_1: 0.2053 - val_loss: 0.6284 - val_accuracy: 0.6641 - val_precision_1: 0.5691 - val_recall_1: 0.2232\n",
      "Epoch 50/100\n",
      "280/280 [==============================] - 2s 8ms/step - loss: 0.6212 - accuracy: 0.6583 - precision_1: 0.6261 - recall_1: 0.2121 - val_loss: 0.6277 - val_accuracy: 0.6664 - val_precision_1: 0.5952 - val_recall_1: 0.1892\n",
      "Epoch 51/100\n",
      "280/280 [==============================] - 2s 7ms/step - loss: 0.6204 - accuracy: 0.6559 - precision_1: 0.6132 - recall_1: 0.2136 - val_loss: 0.6280 - val_accuracy: 0.6614 - val_precision_1: 0.5731 - val_recall_1: 0.1828\n",
      "Epoch 52/100\n",
      "280/280 [==============================] - 2s 7ms/step - loss: 0.6181 - accuracy: 0.6584 - precision_1: 0.6255 - recall_1: 0.2136 - val_loss: 0.6281 - val_accuracy: 0.6614 - val_precision_1: 0.5573 - val_recall_1: 0.2270\n",
      "Epoch 53/100\n",
      "280/280 [==============================] - 2s 7ms/step - loss: 0.6192 - accuracy: 0.6584 - precision_1: 0.6217 - recall_1: 0.2190 - val_loss: 0.6301 - val_accuracy: 0.6605 - val_precision_1: 0.5623 - val_recall_1: 0.1992\n",
      "Epoch 54/100\n",
      "280/280 [==============================] - 2s 7ms/step - loss: 0.6199 - accuracy: 0.6552 - precision_1: 0.6154 - recall_1: 0.2056 - val_loss: 0.6261 - val_accuracy: 0.6601 - val_precision_1: 0.5590 - val_recall_1: 0.2030\n",
      "Epoch 55/100\n",
      "280/280 [==============================] - 2s 7ms/step - loss: 0.6195 - accuracy: 0.6555 - precision_1: 0.6154 - recall_1: 0.2079 - val_loss: 0.6287 - val_accuracy: 0.6623 - val_precision_1: 0.5648 - val_recall_1: 0.2144\n",
      "Epoch 56/100\n",
      "280/280 [==============================] - 2s 7ms/step - loss: 0.6164 - accuracy: 0.6621 - precision_1: 0.6309 - recall_1: 0.2304 - val_loss: 0.6286 - val_accuracy: 0.6592 - val_precision_1: 0.5506 - val_recall_1: 0.2194\n",
      "Epoch 57/100\n",
      "280/280 [==============================] - 2s 7ms/step - loss: 0.6196 - accuracy: 0.6558 - precision_1: 0.6117 - recall_1: 0.2151 - val_loss: 0.6305 - val_accuracy: 0.6637 - val_precision_1: 0.5709 - val_recall_1: 0.2131\n",
      "Epoch 58/100\n",
      "280/280 [==============================] - 2s 7ms/step - loss: 0.6168 - accuracy: 0.6612 - precision_1: 0.6266 - recall_1: 0.2307 - val_loss: 0.6314 - val_accuracy: 0.6579 - val_precision_1: 0.5435 - val_recall_1: 0.2282\n",
      "Epoch 59/100\n",
      "280/280 [==============================] - 2s 8ms/step - loss: 0.6143 - accuracy: 0.6645 - precision_1: 0.6363 - recall_1: 0.2378 - val_loss: 0.6318 - val_accuracy: 0.6597 - val_precision_1: 0.5502 - val_recall_1: 0.2282\n",
      "Epoch 60/100\n",
      "280/280 [==============================] - 2s 7ms/step - loss: 0.6181 - accuracy: 0.6607 - precision_1: 0.6198 - recall_1: 0.2372 - val_loss: 0.6287 - val_accuracy: 0.6579 - val_precision_1: 0.5455 - val_recall_1: 0.2194\n",
      "Epoch 61/100\n",
      "280/280 [==============================] - 2s 7ms/step - loss: 0.6155 - accuracy: 0.6620 - precision_1: 0.6241 - recall_1: 0.2396 - val_loss: 0.6293 - val_accuracy: 0.6610 - val_precision_1: 0.5596 - val_recall_1: 0.2131\n",
      "Epoch 62/100\n",
      "280/280 [==============================] - 2s 7ms/step - loss: 0.6157 - accuracy: 0.6616 - precision_1: 0.6245 - recall_1: 0.2360 - val_loss: 0.6315 - val_accuracy: 0.6579 - val_precision_1: 0.5505 - val_recall_1: 0.1992\n",
      "Epoch 63/100\n",
      "280/280 [==============================] - 2s 7ms/step - loss: 0.6166 - accuracy: 0.6594 - precision_1: 0.6118 - recall_1: 0.2420 - val_loss: 0.6292 - val_accuracy: 0.6610 - val_precision_1: 0.5732 - val_recall_1: 0.1778\n",
      "Epoch 64/100\n",
      "280/280 [==============================] - 2s 7ms/step - loss: 0.6132 - accuracy: 0.6646 - precision_1: 0.6328 - recall_1: 0.2435 - val_loss: 0.6302 - val_accuracy: 0.6579 - val_precision_1: 0.5472 - val_recall_1: 0.2119\n",
      "Epoch 65/100\n",
      "280/280 [==============================] - 2s 7ms/step - loss: 0.6166 - accuracy: 0.6610 - precision_1: 0.6152 - recall_1: 0.2474 - val_loss: 0.6298 - val_accuracy: 0.6610 - val_precision_1: 0.5672 - val_recall_1: 0.1917\n",
      "Epoch 66/100\n",
      "280/280 [==============================] - 2s 7ms/step - loss: 0.6155 - accuracy: 0.6590 - precision_1: 0.6120 - recall_1: 0.2384 - val_loss: 0.6300 - val_accuracy: 0.6614 - val_precision_1: 0.5688 - val_recall_1: 0.1929\n",
      "Epoch 67/100\n",
      "280/280 [==============================] - 2s 8ms/step - loss: 0.6131 - accuracy: 0.6672 - precision_1: 0.6461 - recall_1: 0.2411 - val_loss: 0.6320 - val_accuracy: 0.6565 - val_precision_1: 0.5389 - val_recall_1: 0.2270\n",
      "Epoch 68/100\n",
      "280/280 [==============================] - 2s 7ms/step - loss: 0.6165 - accuracy: 0.6606 - precision_1: 0.6135 - recall_1: 0.2471 - val_loss: 0.6300 - val_accuracy: 0.6588 - val_precision_1: 0.5518 - val_recall_1: 0.2081\n",
      "Epoch 69/100\n",
      "280/280 [==============================] - 2s 7ms/step - loss: 0.6138 - accuracy: 0.6600 - precision_1: 0.6151 - recall_1: 0.2402 - val_loss: 0.6312 - val_accuracy: 0.6605 - val_precision_1: 0.5581 - val_recall_1: 0.2119\n",
      "Epoch 70/100\n",
      "280/280 [==============================] - 2s 7ms/step - loss: 0.6122 - accuracy: 0.6690 - precision_1: 0.6458 - recall_1: 0.2528 - val_loss: 0.6306 - val_accuracy: 0.6597 - val_precision_1: 0.5548 - val_recall_1: 0.2106\n",
      "Epoch 71/100\n"
     ]
    },
    {
     "name": "stdout",
     "output_type": "stream",
     "text": [
      "280/280 [==============================] - 2s 7ms/step - loss: 0.6131 - accuracy: 0.6603 - precision_1: 0.6083 - recall_1: 0.2552 - val_loss: 0.6307 - val_accuracy: 0.6583 - val_precision_1: 0.5478 - val_recall_1: 0.2169\n",
      "Epoch 72/100\n",
      "280/280 [==============================] - 2s 7ms/step - loss: 0.6116 - accuracy: 0.6644 - precision_1: 0.6267 - recall_1: 0.2513 - val_loss: 0.6330 - val_accuracy: 0.6552 - val_precision_1: 0.5313 - val_recall_1: 0.2459\n",
      "Epoch 73/100\n",
      "280/280 [==============================] - 2s 7ms/step - loss: 0.6124 - accuracy: 0.6651 - precision_1: 0.6264 - recall_1: 0.2569 - val_loss: 0.6336 - val_accuracy: 0.6538 - val_precision_1: 0.5305 - val_recall_1: 0.2194\n",
      "Epoch 74/100\n",
      "280/280 [==============================] - 2s 7ms/step - loss: 0.6119 - accuracy: 0.6683 - precision_1: 0.6424 - recall_1: 0.2528 - val_loss: 0.6343 - val_accuracy: 0.6556 - val_precision_1: 0.5351 - val_recall_1: 0.2308\n",
      "Epoch 75/100\n",
      "280/280 [==============================] - 2s 7ms/step - loss: 0.6148 - accuracy: 0.6638 - precision_1: 0.6249 - recall_1: 0.2504 - val_loss: 0.6345 - val_accuracy: 0.6552 - val_precision_1: 0.5305 - val_recall_1: 0.2522\n",
      "Epoch 76/100\n",
      "280/280 [==============================] - 2s 7ms/step - loss: 0.6121 - accuracy: 0.6654 - precision_1: 0.6294 - recall_1: 0.2537 - val_loss: 0.6355 - val_accuracy: 0.6529 - val_precision_1: 0.5246 - val_recall_1: 0.2421\n",
      "Epoch 77/100\n",
      "280/280 [==============================] - 2s 7ms/step - loss: 0.6125 - accuracy: 0.6601 - precision_1: 0.6047 - recall_1: 0.2605 - val_loss: 0.6337 - val_accuracy: 0.6646 - val_precision_1: 0.5821 - val_recall_1: 0.1967\n",
      "Epoch 78/100\n",
      "280/280 [==============================] - 2s 6ms/step - loss: 0.6110 - accuracy: 0.6661 - precision_1: 0.6357 - recall_1: 0.2492 - val_loss: 0.6344 - val_accuracy: 0.6458 - val_precision_1: 0.5027 - val_recall_1: 0.2358\n",
      "Epoch 79/100\n",
      "280/280 [==============================] - 2s 7ms/step - loss: 0.6132 - accuracy: 0.6641 - precision_1: 0.6167 - recall_1: 0.2668 - val_loss: 0.6343 - val_accuracy: 0.6489 - val_precision_1: 0.5116 - val_recall_1: 0.2509\n",
      "Epoch 80/100\n",
      "280/280 [==============================] - 2s 7ms/step - loss: 0.6110 - accuracy: 0.6653 - precision_1: 0.6265 - recall_1: 0.2575 - val_loss: 0.6326 - val_accuracy: 0.6543 - val_precision_1: 0.5317 - val_recall_1: 0.2219\n",
      "Epoch 81/100\n",
      "280/280 [==============================] - 2s 7ms/step - loss: 0.6110 - accuracy: 0.6679 - precision_1: 0.6362 - recall_1: 0.2596 - val_loss: 0.6333 - val_accuracy: 0.6529 - val_precision_1: 0.5250 - val_recall_1: 0.2383\n",
      "Epoch 82/100\n",
      "280/280 [==============================] - 2s 7ms/step - loss: 0.6128 - accuracy: 0.6629 - precision_1: 0.6128 - recall_1: 0.2653 - val_loss: 0.6335 - val_accuracy: 0.6565 - val_precision_1: 0.5414 - val_recall_1: 0.2144\n",
      "Epoch 83/100\n",
      "280/280 [==============================] - 2s 7ms/step - loss: 0.6146 - accuracy: 0.6621 - precision_1: 0.6166 - recall_1: 0.2528 - val_loss: 0.6335 - val_accuracy: 0.6574 - val_precision_1: 0.5400 - val_recall_1: 0.2383\n",
      "Epoch 84/100\n",
      "280/280 [==============================] - 2s 8ms/step - loss: 0.6113 - accuracy: 0.6636 - precision_1: 0.6154 - recall_1: 0.2653 - val_loss: 0.6335 - val_accuracy: 0.6538 - val_precision_1: 0.5298 - val_recall_1: 0.2245\n",
      "Epoch 85/100\n",
      "280/280 [==============================] - 2s 7ms/step - loss: 0.6100 - accuracy: 0.6668 - precision_1: 0.6327 - recall_1: 0.2578 - val_loss: 0.6342 - val_accuracy: 0.6570 - val_precision_1: 0.5360 - val_recall_1: 0.2535\n",
      "Epoch 86/100\n",
      "280/280 [==============================] - 2s 7ms/step - loss: 0.6071 - accuracy: 0.6695 - precision_1: 0.6352 - recall_1: 0.2710 - val_loss: 0.6332 - val_accuracy: 0.6556 - val_precision_1: 0.5328 - val_recall_1: 0.2459\n",
      "Epoch 87/100\n",
      "280/280 [==============================] - 2s 7ms/step - loss: 0.6103 - accuracy: 0.6667 - precision_1: 0.6253 - recall_1: 0.2692 - val_loss: 0.6326 - val_accuracy: 0.6534 - val_precision_1: 0.5284 - val_recall_1: 0.2232\n",
      "Epoch 88/100\n",
      "280/280 [==============================] - 2s 7ms/step - loss: 0.6088 - accuracy: 0.6649 - precision_1: 0.6177 - recall_1: 0.2704 - val_loss: 0.6329 - val_accuracy: 0.6507 - val_precision_1: 0.5180 - val_recall_1: 0.2358\n",
      "Epoch 89/100\n",
      "280/280 [==============================] - 2s 7ms/step - loss: 0.6101 - accuracy: 0.6668 - precision_1: 0.6223 - recall_1: 0.2752 - val_loss: 0.6322 - val_accuracy: 0.6574 - val_precision_1: 0.5407 - val_recall_1: 0.2346\n",
      "Epoch 90/100\n",
      "280/280 [==============================] - 2s 7ms/step - loss: 0.6069 - accuracy: 0.6702 - precision_1: 0.6373 - recall_1: 0.2719 - val_loss: 0.6368 - val_accuracy: 0.6507 - val_precision_1: 0.5172 - val_recall_1: 0.2459\n",
      "Epoch 91/100\n",
      "280/280 [==============================] - 2s 7ms/step - loss: 0.6087 - accuracy: 0.6641 - precision_1: 0.6109 - recall_1: 0.2782 - val_loss: 0.6344 - val_accuracy: 0.6502 - val_precision_1: 0.5169 - val_recall_1: 0.2308\n",
      "Epoch 92/100\n",
      "280/280 [==============================] - 2s 8ms/step - loss: 0.6073 - accuracy: 0.6655 - precision_1: 0.6207 - recall_1: 0.2689 - val_loss: 0.6335 - val_accuracy: 0.6574 - val_precision_1: 0.5405 - val_recall_1: 0.2358\n",
      "Epoch 93/100\n",
      "280/280 [==============================] - 2s 7ms/step - loss: 0.6091 - accuracy: 0.6686 - precision_1: 0.6311 - recall_1: 0.2719 - val_loss: 0.6345 - val_accuracy: 0.6534 - val_precision_1: 0.5259 - val_recall_1: 0.2434\n",
      "Epoch 94/100\n",
      "280/280 [==============================] - 2s 7ms/step - loss: 0.6055 - accuracy: 0.6669 - precision_1: 0.6198 - recall_1: 0.2805 - val_loss: 0.6356 - val_accuracy: 0.6489 - val_precision_1: 0.5109 - val_recall_1: 0.2648\n",
      "Epoch 95/100\n",
      "280/280 [==============================] - 2s 7ms/step - loss: 0.6083 - accuracy: 0.6673 - precision_1: 0.6204 - recall_1: 0.2817 - val_loss: 0.6411 - val_accuracy: 0.6386 - val_precision_1: 0.4852 - val_recall_1: 0.2888\n",
      "Epoch 96/100\n",
      "280/280 [==============================] - 2s 7ms/step - loss: 0.6109 - accuracy: 0.6636 - precision_1: 0.6056 - recall_1: 0.2853 - val_loss: 0.6355 - val_accuracy: 0.6547 - val_precision_1: 0.5299 - val_recall_1: 0.2459\n",
      "Epoch 97/100\n",
      "280/280 [==============================] - 2s 7ms/step - loss: 0.6091 - accuracy: 0.6654 - precision_1: 0.6194 - recall_1: 0.2704 - val_loss: 0.6379 - val_accuracy: 0.6570 - val_precision_1: 0.5333 - val_recall_1: 0.2724\n",
      "Epoch 98/100\n",
      "280/280 [==============================] - 2s 7ms/step - loss: 0.6048 - accuracy: 0.6738 - precision_1: 0.6420 - recall_1: 0.2871 - val_loss: 0.6381 - val_accuracy: 0.6556 - val_precision_1: 0.5296 - val_recall_1: 0.2711\n",
      "Epoch 99/100\n",
      "280/280 [==============================] - 2s 7ms/step - loss: 0.6107 - accuracy: 0.6606 - precision_1: 0.5973 - recall_1: 0.2805 - val_loss: 0.6336 - val_accuracy: 0.6583 - val_precision_1: 0.5469 - val_recall_1: 0.2207\n",
      "Epoch 100/100\n",
      "280/280 [==============================] - 2s 8ms/step - loss: 0.6058 - accuracy: 0.6641 - precision_1: 0.6100 - recall_1: 0.2800 - val_loss: 0.6349 - val_accuracy: 0.6570 - val_precision_1: 0.5410 - val_recall_1: 0.2245\n"
     ]
    }
   ],
   "source": [
    "history = model.fit(xtrain, ytrain, batch_size=batch_size, epochs=100, validation_data=(xtest, ytest))"
   ]
  },
  {
   "cell_type": "code",
   "execution_count": 299,
   "id": "2df9ca69",
   "metadata": {
    "scrolled": true
   },
   "outputs": [
    {
     "data": {
      "image/png": "[encoded data removed]",
      "text/plain": [
       "<Figure size 640x480 with 1 Axes>"
      ]
     },
     "metadata": {},
     "output_type": "display_data"
    }
   ],
   "source": [
    "plot_hist(history)"
   ]
  },
  {
   "cell_type": "code",
   "execution_count": 300,
   "id": "486ff6c8",
   "metadata": {},
   "outputs": [
    {
     "name": "stdout",
     "output_type": "stream",
     "text": [
      "70/70 [==============================] - 0s 2ms/step\n",
      "Accuracy:  0.6569637259292431\n",
      "\n",
      "Confusion Matrix: \n",
      " [[1289  151]\n",
      " [ 615  178]]\n",
      "\n",
      "classification_report: \n",
      "               precision    recall  f1-score   support\n",
      "\n",
      "         0.0       0.68      0.90      0.77      1440\n",
      "         1.0       0.54      0.22      0.32       793\n",
      "\n",
      "    accuracy                           0.66      2233\n",
      "   macro avg       0.61      0.56      0.54      2233\n",
      "weighted avg       0.63      0.66      0.61      2233\n",
      "\n"
     ]
    }
   ],
   "source": [
    "y_pred = model.predict(xtest)\n",
    "y_pred = np.where(y_pred > 0.5, 1, 0)\n",
    "cm = confusion_matrix(ytest, y_pred)\n",
    "print(\"Accuracy: \", accuracy_score(ytest, y_pred))\n",
    "print(\"\\nConfusion Matrix: \\n\", cm)\n",
    "print(\"\\nclassification_report: \\n\", classification_report(ytest, y_pred))"
   ]
  },
  {
   "cell_type": "markdown",
   "id": "6f3093eb",
   "metadata": {},
   "source": [
    "### Tuned Model"
   ]
  },
  {
   "cell_type": "code",
   "execution_count": 301,
   "id": "cbc4e08a",
   "metadata": {},
   "outputs": [],
   "source": [
    "def build_model(hp):\n",
    "    model = Sequential()\n",
    "    model.add(GRU(\n",
    "        units=hp.Int(\"units\", min_value=32, max_value=256, step=32),\n",
    "        return_sequences=True,\n",
    "        input_shape=(sequence_length, features.shape[1]),\n",
    "    ))\n",
    "#     model.add(Dropout(hp.Float(\"dropout_1\", min_value=0.2, max_value=0.5, step=0.1)))\n",
    "#     model.add(GRU(\n",
    "#         units=hp.Int(\"units\", min_value=32, max_value=256, step=32),\n",
    "#     ))\n",
    "    model.add(Dropout(hp.Float(\"dropout_1\", min_value=0.2, max_value=0.5, step=0.1)))\n",
    "    model.add(Dense(1, activation='sigmoid'))\n",
    "    \n",
    "    model.compile(\n",
    "        optimizer=hp.Choice(\"optimizer\", [\"adam\", \"rmsprop\", \"sgd\"]),\n",
    "        loss=hp.Choice(\"loss\", [\"binary_crossentropy\", \"mean_squared_error\"]),\n",
    "        metrics=[\"accuracy\", Precision(), Recall()],\n",
    "    )\n",
    "    return model"
   ]
  },
  {
   "cell_type": "code",
   "execution_count": 302,
   "id": "1f9ff3ad",
   "metadata": {},
   "outputs": [
    {
     "name": "stdout",
     "output_type": "stream",
     "text": [
      "INFO:tensorflow:Reloading Tuner from tuned_models\\thyroid_gru_tuning\\tuner0.json\n",
      "INFO:tensorflow:Oracle triggered exit\n"
     ]
    }
   ],
   "source": [
    "# RandomSearch to find the best hyperparameters\n",
    "tuner = RandomSearch(\n",
    "    build_model,\n",
    "    objective='val_accuracy',\n",
    "    max_trials=5,  # Adjust the number of trials as needed\n",
    "    directory='tuned_models',\n",
    "    project_name='thyroid_gru_tuning'\n",
    ")\n",
    "\n",
    "tuner.search(xtrain, \n",
    "             ytrain, \n",
    "             validation_data=(xtest, ytest),\n",
    "             callbacks=[tf.keras.callbacks.EarlyStopping(patience=5)])"
   ]
  },
  {
   "cell_type": "code",
   "execution_count": 303,
   "id": "041766d9",
   "metadata": {},
   "outputs": [
    {
     "data": {
      "text/plain": [
       "{'units': 160,\n",
       " 'dropout_1': 0.4,\n",
       " 'optimizer': 'rmsprop',\n",
       " 'loss': 'binary_crossentropy'}"
      ]
     },
     "execution_count": 303,
     "metadata": {},
     "output_type": "execute_result"
    }
   ],
   "source": [
    "# get params of best model\n",
    "best_hps = tuner.get_best_hyperparameters(num_trials=1)[0]\n",
    "best_hps.values"
   ]
  },
  {
   "cell_type": "code",
   "execution_count": 315,
   "id": "50cfa4ac",
   "metadata": {},
   "outputs": [
    {
     "name": "stdout",
     "output_type": "stream",
     "text": [
      "WARNING:tensorflow:Detecting that an object or model or tf.train.Checkpoint is being deleted with unrestored values. See the following logs for the specific values in question. To silence these warnings, use `status.expect_partial()`. See https://www.tensorflow.org/api_docs/python/tf/train/Checkpoint#restorefor details about the status object returned by the restore function.\n",
      "WARNING:tensorflow:Value in checkpoint could not be found in the restored object: (root).layer_with_weights-2.kernel\n",
      "WARNING:tensorflow:Value in checkpoint could not be found in the restored object: (root).layer_with_weights-2.bias\n",
      "WARNING:tensorflow:Value in checkpoint could not be found in the restored object: (root).layer_with_weights-1.cell.kernel\n",
      "WARNING:tensorflow:Value in checkpoint could not be found in the restored object: (root).layer_with_weights-1.cell.recurrent_kernel\n",
      "WARNING:tensorflow:Value in checkpoint could not be found in the restored object: (root).layer_with_weights-1.cell.bias\n",
      "WARNING:tensorflow:Value in checkpoint could not be found in the restored object: (root).optimizer._variables.6\n",
      "WARNING:tensorflow:Value in checkpoint could not be found in the restored object: (root).optimizer._variables.7\n",
      "WARNING:tensorflow:Value in checkpoint could not be found in the restored object: (root).optimizer._variables.8\n",
      "WARNING:tensorflow:Inconsistent references when loading the checkpoint into this object graph. For example, in the saved checkpoint object, `model.layer.weight` and `model.layer_copy.weight` reference the same variable, while in the current object these are two different variables. The referenced variables are:(<keras.layers.core.dense.Dense object at 0x000001DEDD309250> and <keras.layers.regularization.dropout.Dropout object at 0x000001DED58D1160>).\n",
      "Model: \"sequential\"\n",
      "_________________________________________________________________\n",
      " Layer (type)                Output Shape              Param #   \n",
      "=================================================================\n",
      " gru (GRU)                   (None, 10, 160)           81600     \n",
      "                                                                 \n",
      " dropout (Dropout)           (None, 10, 160)           0         \n",
      "                                                                 \n",
      " dense (Dense)               (None, 10, 1)             161       \n",
      "                                                                 \n",
      "=================================================================\n",
      "Total params: 81,761\n",
      "Trainable params: 81,761\n",
      "Non-trainable params: 0\n",
      "_________________________________________________________________\n"
     ]
    }
   ],
   "source": [
    "best_model = tuner.get_best_models(num_models=1)[0]\n",
    "best_model.summary()"
   ]
  },
  {
   "cell_type": "code",
   "execution_count": 317,
   "id": "f304ca0b",
   "metadata": {},
   "outputs": [
    {
     "name": "stdout",
     "output_type": "stream",
     "text": [
      "Epoch 1/100\n"
     ]
    },
    {
     "ename": "TypeError",
     "evalue": "'NoneType' object is not callable",
     "output_type": "error",
     "traceback": [
      "\u001b[1;31m---------------------------------------------------------------------------\u001b[0m",
      "\u001b[1;31mTypeError\u001b[0m                                 Traceback (most recent call last)",
      "\u001b[1;32m~\\AppData\\Local\\Temp\\ipykernel_23764\\2447940684.py\u001b[0m in \u001b[0;36m<module>\u001b[1;34m\u001b[0m\n\u001b[0;32m      1\u001b[0m \u001b[1;31m# build and fit best model\u001b[0m\u001b[1;33m\u001b[0m\u001b[1;33m\u001b[0m\u001b[0m\n\u001b[1;32m----> 2\u001b[1;33m best_model.fit(\n\u001b[0m\u001b[0;32m      3\u001b[0m     \u001b[0mxtrain\u001b[0m\u001b[1;33m,\u001b[0m\u001b[1;33m\u001b[0m\u001b[1;33m\u001b[0m\u001b[0m\n\u001b[0;32m      4\u001b[0m     \u001b[0mytrain\u001b[0m\u001b[1;33m,\u001b[0m\u001b[1;33m\u001b[0m\u001b[1;33m\u001b[0m\u001b[0m\n\u001b[0;32m      5\u001b[0m     \u001b[0mepochs\u001b[0m\u001b[1;33m=\u001b[0m\u001b[1;36m100\u001b[0m\u001b[1;33m,\u001b[0m\u001b[1;33m\u001b[0m\u001b[1;33m\u001b[0m\u001b[0m\n",
      "\u001b[1;32mD:\\Ananconda\\lib\\site-packages\\keras\\utils\\traceback_utils.py\u001b[0m in \u001b[0;36merror_handler\u001b[1;34m(*args, **kwargs)\u001b[0m\n\u001b[0;32m     68\u001b[0m             \u001b[1;31m# To get the full stack trace, call:\u001b[0m\u001b[1;33m\u001b[0m\u001b[1;33m\u001b[0m\u001b[0m\n\u001b[0;32m     69\u001b[0m             \u001b[1;31m# `tf.debugging.disable_traceback_filtering()`\u001b[0m\u001b[1;33m\u001b[0m\u001b[1;33m\u001b[0m\u001b[0m\n\u001b[1;32m---> 70\u001b[1;33m             \u001b[1;32mraise\u001b[0m \u001b[0me\u001b[0m\u001b[1;33m.\u001b[0m\u001b[0mwith_traceback\u001b[0m\u001b[1;33m(\u001b[0m\u001b[0mfiltered_tb\u001b[0m\u001b[1;33m)\u001b[0m \u001b[1;32mfrom\u001b[0m \u001b[1;32mNone\u001b[0m\u001b[1;33m\u001b[0m\u001b[1;33m\u001b[0m\u001b[0m\n\u001b[0m\u001b[0;32m     71\u001b[0m         \u001b[1;32mfinally\u001b[0m\u001b[1;33m:\u001b[0m\u001b[1;33m\u001b[0m\u001b[1;33m\u001b[0m\u001b[0m\n\u001b[0;32m     72\u001b[0m             \u001b[1;32mdel\u001b[0m \u001b[0mfiltered_tb\u001b[0m\u001b[1;33m\u001b[0m\u001b[1;33m\u001b[0m\u001b[0m\n",
      "\u001b[1;32mD:\\Ananconda\\lib\\site-packages\\tensorflow\\python\\eager\\polymorphic_function\\polymorphic_function.py\u001b[0m in \u001b[0;36m_call\u001b[1;34m(self, *args, **kwds)\u001b[0m\n\u001b[0;32m    910\u001b[0m       \u001b[1;31m# In this case we have created variables on the first call, so we run the\u001b[0m\u001b[1;33m\u001b[0m\u001b[1;33m\u001b[0m\u001b[0m\n\u001b[0;32m    911\u001b[0m       \u001b[1;31m# defunned version which is guaranteed to never create variables.\u001b[0m\u001b[1;33m\u001b[0m\u001b[1;33m\u001b[0m\u001b[0m\n\u001b[1;32m--> 912\u001b[1;33m       \u001b[1;32mreturn\u001b[0m \u001b[0mself\u001b[0m\u001b[1;33m.\u001b[0m\u001b[0m_no_variable_creation_fn\u001b[0m\u001b[1;33m(\u001b[0m\u001b[1;33m*\u001b[0m\u001b[0margs\u001b[0m\u001b[1;33m,\u001b[0m \u001b[1;33m**\u001b[0m\u001b[0mkwds\u001b[0m\u001b[1;33m)\u001b[0m  \u001b[1;31m# pylint: disable=not-callable\u001b[0m\u001b[1;33m\u001b[0m\u001b[1;33m\u001b[0m\u001b[0m\n\u001b[0m\u001b[0;32m    913\u001b[0m     \u001b[1;32melif\u001b[0m \u001b[0mself\u001b[0m\u001b[1;33m.\u001b[0m\u001b[0m_variable_creation_fn\u001b[0m \u001b[1;32mis\u001b[0m \u001b[1;32mnot\u001b[0m \u001b[1;32mNone\u001b[0m\u001b[1;33m:\u001b[0m\u001b[1;33m\u001b[0m\u001b[1;33m\u001b[0m\u001b[0m\n\u001b[0;32m    914\u001b[0m       \u001b[1;31m# Release the lock early so that multiple threads can perform the call\u001b[0m\u001b[1;33m\u001b[0m\u001b[1;33m\u001b[0m\u001b[0m\n",
      "\u001b[1;31mTypeError\u001b[0m: 'NoneType' object is not callable"
     ]
    }
   ],
   "source": [
    "# build and fit best model\n",
    "history = best_model.fit(\n",
    "    xtrain,\n",
    "    ytrain,\n",
    "    epochs=100,\n",
    "    batch_size=32,\n",
    "    validation_data=(xtest, ytest),\n",
    ")"
   ]
  },
  {
   "cell_type": "code",
   "execution_count": null,
   "id": "7131bebb",
   "metadata": {},
   "outputs": [],
   "source": [
    "plot_hist(history)"
   ]
  },
  {
   "cell_type": "code",
   "execution_count": null,
   "id": "37ca4161",
   "metadata": {},
   "outputs": [],
   "source": [
    "y_pred = model.predict(xtest)\n",
    "y_pred = np.where(y_pred > 0.5, 1, 0)\n",
    "cm = confusion_matrix(ytest, y_pred)\n",
    "print(\"Accuracy: \", accuracy_score(ytest, y_pred))\n",
    "print(\"\\nConfusion Matrix: \\n\", cm)\n",
    "print(\"\\nclassification_report: \\n\", classification_report(ytest, y_pred))"
   ]
  }
 ],
 "metadata": {
  "kernelspec": {
   "display_name": "Python 3 (ipykernel)",
   "language": "python",
   "name": "python3"
  },
  "language_info": {
   "codemirror_mode": {
    "name": "ipython",
    "version": 3
   },
   "file_extension": ".py",
   "mimetype": "text/x-python",
   "name": "python",
   "nbconvert_exporter": "python",
   "pygments_lexer": "ipython3",
   "version": "3.9.13"
  }
 },
 "nbformat": 4,
 "nbformat_minor": 5
}
