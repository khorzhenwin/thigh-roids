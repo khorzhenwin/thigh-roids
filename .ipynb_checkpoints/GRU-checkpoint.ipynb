{
 "cells": [
  {
   "cell_type": "markdown",
   "id": "30fc284a",
   "metadata": {},
   "source": [
    "# GRU Model\n",
    "\n",
    "## Data Import"
   ]
  },
  {
   "cell_type": "code",
   "execution_count": 67,
   "id": "903fdf0a",
   "metadata": {},
   "outputs": [],
   "source": [
    "import pandas as pd\n",
    "import numpy as np\n",
    "import matplotlib.pyplot as plt\n",
    "import seaborn as sns\n",
    "import os\n",
    "import tensorflow as tf\n",
    "from tensorflow.keras.models import Sequential\n",
    "from tensorflow.keras.layers import GRU, Dense, Dropout\n",
    "from tensorflow.keras.optimizers import Adam\n",
    "from tensorflow.keras.losses import MeanSquaredError\n",
    "from tensorflow.keras.metrics import Precision, Recall, AUC, Accuracy\n",
    "from keras.models import Sequential\n",
    "from sklearn.preprocessing import normalize, StandardScaler\n",
    "from keras_tuner.tuners import RandomSearch\n",
    "from sklearn.metrics import (\n",
    "    accuracy_score,\n",
    "    precision_score,\n",
    "    recall_score,\n",
    "    f1_score,\n",
    "    confusion_matrix,\n",
    "    classification_report,\n",
    ")"
   ]
  },
  {
   "cell_type": "markdown",
   "id": "e732cee4",
   "metadata": {},
   "source": [
    "## Data Preparation"
   ]
  },
  {
   "cell_type": "code",
   "execution_count": 68,
   "id": "f854c205",
   "metadata": {},
   "outputs": [],
   "source": [
    "df_train = pd.read_csv(\"dataset/output/no-oversampling/train.csv\")\n",
    "df_test = pd.read_csv(\"dataset/output/test.csv\")"
   ]
  },
  {
   "cell_type": "code",
   "execution_count": 69,
   "id": "0d0a89e4",
   "metadata": {},
   "outputs": [],
   "source": [
    "# split into X_train, y_train, X_test, y_test\n",
    "X_train = df_train.drop(columns=[\"target\"])\n",
    "y_train = df_train[\"target\"]\n",
    "X_test = df_test.drop(columns=[\"target\"])\n",
    "y_test = df_test[\"target\"]\n",
    "\n",
    "# normalize data\n",
    "X_train = normalize(X_train)\n",
    "X_test = normalize(X_test)\n",
    "y_train = normalize(y_train.values.reshape(-1, 1))\n",
    "y_test = normalize(y_test.values.reshape(-1, 1))"
   ]
  },
  {
   "cell_type": "code",
   "execution_count": 70,
   "id": "0fbe4b2a",
   "metadata": {},
   "outputs": [],
   "source": [
    "scaler = StandardScaler()\n",
    "train_features = scaler.fit_transform(X_train)\n",
    "test_features = scaler.fit_transform(X_test)\n",
    "\n",
    "sequence_length = 10\n",
    "batch_size = 32\n",
    "\n",
    "train_sequences = []\n",
    "test_sequences = []\n",
    "\n",
    "for i in range(len(train_features) - sequence_length + 1):\n",
    "    train_sequences.append(train_features[i:i + sequence_length])\n",
    "xtrain = np.array(train_sequences)\n",
    "ytrain = y_train[sequence_length - 1:]\n",
    "\n",
    "\n",
    "for i in range(len(test_features) - sequence_length + 1):\n",
    "    test_sequences.append(test_features[i:i + sequence_length])\n",
    "xtest = np.array(test_sequences)\n",
    "ytest = y_test[sequence_length - 1:]"
   ]
  },
  {
   "cell_type": "markdown",
   "id": "78c38050",
   "metadata": {},
   "source": [
    "## Helper Functions"
   ]
  },
  {
   "cell_type": "code",
   "execution_count": 71,
   "id": "1c1773b3",
   "metadata": {},
   "outputs": [],
   "source": [
    "# This plots the auc against iteration to detect overfitting\n",
    "def plot_hist(hist, metric=\"accuracy\"):\n",
    "    plt.plot(hist.history[metric])\n",
    "    plt.plot(hist.history[\"val_\" + metric])\n",
    "    plt.title(f\"model performance\")\n",
    "    plt.ylabel(\"accuracy\")\n",
    "    plt.xlabel(\"epoch\")\n",
    "    plt.legend([\"train\", \"validation\"], loc=\"upper left\")\n",
    "    plt.show()\n",
    "    return"
   ]
  },
  {
   "cell_type": "markdown",
   "id": "072a902e",
   "metadata": {},
   "source": [
    "## Model Building\n",
    "### Base Model"
   ]
  },
  {
   "cell_type": "code",
   "execution_count": 72,
   "id": "6d4a548d",
   "metadata": {},
   "outputs": [],
   "source": [
    "def create_gru_model(sequence_length, num_features):\n",
    "    model = Sequential()\n",
    "    model.add(GRU(32, input_shape=(sequence_length, num_features), dropout=0.2, recurrent_dropout=0.2))\n",
    "    model.add(Dense(1, activation='sigmoid'))\n",
    "    model.compile(optimizer=Adam(), loss='binary_crossentropy', metrics=['accuracy', Precision(), Recall()])\n",
    "    return model"
   ]
  },
  {
   "cell_type": "code",
   "execution_count": 73,
   "id": "338f5fd1",
   "metadata": {
    "scrolled": true
   },
   "outputs": [
    {
     "name": "stdout",
     "output_type": "stream",
     "text": [
      "Model: \"sequential_1\"\n",
      "_________________________________________________________________\n",
      " Layer (type)                Output Shape              Param #   \n",
      "=================================================================\n",
      " gru_1 (GRU)                 (None, 32)                4032      \n",
      "                                                                 \n",
      " dense_1 (Dense)             (None, 1)                 33        \n",
      "                                                                 \n",
      "=================================================================\n",
      "Total params: 4,065\n",
      "Trainable params: 4,065\n",
      "Non-trainable params: 0\n",
      "_________________________________________________________________\n"
     ]
    }
   ],
   "source": [
    "# Create and compile the model\n",
    "sequence_length, num_features = sequence_length, X_train.shape[1]\n",
    "model = create_gru_model(sequence_length, num_features)\n",
    "model.summary()"
   ]
  },
  {
   "cell_type": "code",
   "execution_count": 74,
   "id": "a5f3a71f",
   "metadata": {
    "scrolled": true
   },
   "outputs": [
    {
     "name": "stdout",
     "output_type": "stream",
     "text": [
      "Epoch 1/100\n",
      "280/280 [==============================] - 5s 9ms/step - loss: 0.6539 - accuracy: 0.6299 - precision_1: 0.5233 - recall_1: 0.1040 - val_loss: 0.6286 - val_accuracy: 0.6717 - val_precision_1: 0.6705 - val_recall_1: 0.1488\n",
      "Epoch 2/100\n",
      "280/280 [==============================] - 2s 8ms/step - loss: 0.6413 - accuracy: 0.6445 - precision_1: 0.6098 - recall_1: 0.1344 - val_loss: 0.6245 - val_accuracy: 0.6691 - val_precision_1: 0.6570 - val_recall_1: 0.1425\n",
      "Epoch 3/100\n",
      "280/280 [==============================] - 2s 8ms/step - loss: 0.6403 - accuracy: 0.6449 - precision_1: 0.6193 - recall_1: 0.1288 - val_loss: 0.6244 - val_accuracy: 0.6704 - val_precision_1: 0.6524 - val_recall_1: 0.1538\n",
      "Epoch 4/100\n",
      "280/280 [==============================] - 2s 8ms/step - loss: 0.6401 - accuracy: 0.6463 - precision_1: 0.6209 - recall_1: 0.1365 - val_loss: 0.6264 - val_accuracy: 0.6691 - val_precision_1: 0.6421 - val_recall_1: 0.1538\n",
      "Epoch 5/100\n",
      "280/280 [==============================] - 2s 9ms/step - loss: 0.6396 - accuracy: 0.6452 - precision_1: 0.6157 - recall_1: 0.1336 - val_loss: 0.6240 - val_accuracy: 0.6726 - val_precision_1: 0.6449 - val_recall_1: 0.1740\n",
      "Epoch 6/100\n",
      "280/280 [==============================] - 2s 7ms/step - loss: 0.6382 - accuracy: 0.6469 - precision_1: 0.6204 - recall_1: 0.1416 - val_loss: 0.6264 - val_accuracy: 0.6735 - val_precision_1: 0.6356 - val_recall_1: 0.1892\n",
      "Epoch 7/100\n",
      "280/280 [==============================] - 2s 6ms/step - loss: 0.6394 - accuracy: 0.6467 - precision_1: 0.6182 - recall_1: 0.1422 - val_loss: 0.6235 - val_accuracy: 0.6722 - val_precision_1: 0.6580 - val_recall_1: 0.1602\n",
      "Epoch 8/100\n",
      "280/280 [==============================] - 2s 6ms/step - loss: 0.6384 - accuracy: 0.6461 - precision_1: 0.6100 - recall_1: 0.1458 - val_loss: 0.6241 - val_accuracy: 0.6726 - val_precision_1: 0.6550 - val_recall_1: 0.1652\n",
      "Epoch 9/100\n",
      "280/280 [==============================] - 2s 8ms/step - loss: 0.6383 - accuracy: 0.6466 - precision_1: 0.6205 - recall_1: 0.1392 - val_loss: 0.6243 - val_accuracy: 0.6717 - val_precision_1: 0.6429 - val_recall_1: 0.1702\n",
      "Epoch 10/100\n",
      "280/280 [==============================] - 2s 8ms/step - loss: 0.6379 - accuracy: 0.6481 - precision_1: 0.6280 - recall_1: 0.1422 - val_loss: 0.6253 - val_accuracy: 0.6664 - val_precision_1: 0.6319 - val_recall_1: 0.1450\n",
      "Epoch 11/100\n",
      "280/280 [==============================] - 2s 8ms/step - loss: 0.6354 - accuracy: 0.6495 - precision_1: 0.6242 - recall_1: 0.1554 - val_loss: 0.6249 - val_accuracy: 0.6650 - val_precision_1: 0.6380 - val_recall_1: 0.1311\n",
      "Epoch 12/100\n",
      "280/280 [==============================] - 2s 8ms/step - loss: 0.6364 - accuracy: 0.6481 - precision_1: 0.6177 - recall_1: 0.1521 - val_loss: 0.6257 - val_accuracy: 0.6668 - val_precision_1: 0.6503 - val_recall_1: 0.1337\n",
      "Epoch 13/100\n",
      "280/280 [==============================] - 2s 8ms/step - loss: 0.6351 - accuracy: 0.6474 - precision_1: 0.6199 - recall_1: 0.1452 - val_loss: 0.6251 - val_accuracy: 0.6717 - val_precision_1: 0.6240 - val_recall_1: 0.1904\n",
      "Epoch 14/100\n",
      "280/280 [==============================] - 2s 6ms/step - loss: 0.6355 - accuracy: 0.6482 - precision_1: 0.6211 - recall_1: 0.1494 - val_loss: 0.6254 - val_accuracy: 0.6704 - val_precision_1: 0.6351 - val_recall_1: 0.1690\n",
      "Epoch 15/100\n",
      "280/280 [==============================] - 2s 6ms/step - loss: 0.6350 - accuracy: 0.6520 - precision_1: 0.6470 - recall_1: 0.1506 - val_loss: 0.6217 - val_accuracy: 0.6735 - val_precision_1: 0.6481 - val_recall_1: 0.1765\n",
      "Epoch 16/100\n",
      "280/280 [==============================] - 2s 6ms/step - loss: 0.6347 - accuracy: 0.6475 - precision_1: 0.6183 - recall_1: 0.1476 - val_loss: 0.6238 - val_accuracy: 0.6744 - val_precision_1: 0.6387 - val_recall_1: 0.1917\n",
      "Epoch 17/100\n",
      "280/280 [==============================] - 2s 8ms/step - loss: 0.6354 - accuracy: 0.6485 - precision_1: 0.6151 - recall_1: 0.1581 - val_loss: 0.6251 - val_accuracy: 0.6686 - val_precision_1: 0.6073 - val_recall_1: 0.1892\n",
      "Epoch 18/100\n",
      "280/280 [==============================] - 2s 8ms/step - loss: 0.6345 - accuracy: 0.6477 - precision_1: 0.6169 - recall_1: 0.1506 - val_loss: 0.6226 - val_accuracy: 0.6713 - val_precision_1: 0.6300 - val_recall_1: 0.1803\n",
      "Epoch 19/100\n",
      "280/280 [==============================] - 2s 8ms/step - loss: 0.6334 - accuracy: 0.6461 - precision_1: 0.6038 - recall_1: 0.1530 - val_loss: 0.6245 - val_accuracy: 0.6682 - val_precision_1: 0.6193 - val_recall_1: 0.1702\n",
      "Epoch 20/100\n",
      "280/280 [==============================] - 2s 8ms/step - loss: 0.6320 - accuracy: 0.6536 - precision_1: 0.6359 - recall_1: 0.1706 - val_loss: 0.6231 - val_accuracy: 0.6700 - val_precision_1: 0.6239 - val_recall_1: 0.1778\n",
      "Epoch 21/100\n",
      "280/280 [==============================] - 2s 8ms/step - loss: 0.6320 - accuracy: 0.6525 - precision_1: 0.6380 - recall_1: 0.1616 - val_loss: 0.6241 - val_accuracy: 0.6708 - val_precision_1: 0.6107 - val_recall_1: 0.2018\n",
      "Epoch 22/100\n",
      "280/280 [==============================] - 2s 6ms/step - loss: 0.6329 - accuracy: 0.6529 - precision_1: 0.6318 - recall_1: 0.1697 - val_loss: 0.6255 - val_accuracy: 0.6668 - val_precision_1: 0.6150 - val_recall_1: 0.1652\n",
      "Epoch 23/100\n",
      "280/280 [==============================] - 2s 6ms/step - loss: 0.6318 - accuracy: 0.6531 - precision_1: 0.6394 - recall_1: 0.1637 - val_loss: 0.6245 - val_accuracy: 0.6708 - val_precision_1: 0.6151 - val_recall_1: 0.1955\n",
      "Epoch 24/100\n",
      "280/280 [==============================] - 2s 6ms/step - loss: 0.6312 - accuracy: 0.6519 - precision_1: 0.6269 - recall_1: 0.1682 - val_loss: 0.6240 - val_accuracy: 0.6686 - val_precision_1: 0.6137 - val_recall_1: 0.1803\n",
      "Epoch 25/100\n",
      "280/280 [==============================] - 2s 8ms/step - loss: 0.6313 - accuracy: 0.6534 - precision_1: 0.6378 - recall_1: 0.1673 - val_loss: 0.6237 - val_accuracy: 0.6655 - val_precision_1: 0.6198 - val_recall_1: 0.1501\n",
      "Epoch 26/100\n",
      "280/280 [==============================] - 2s 8ms/step - loss: 0.6316 - accuracy: 0.6513 - precision_1: 0.6332 - recall_1: 0.1584 - val_loss: 0.6253 - val_accuracy: 0.6713 - val_precision_1: 0.6113 - val_recall_1: 0.2043\n",
      "Epoch 27/100\n",
      "280/280 [==============================] - 2s 8ms/step - loss: 0.6312 - accuracy: 0.6505 - precision_1: 0.6187 - recall_1: 0.1682 - val_loss: 0.6235 - val_accuracy: 0.6708 - val_precision_1: 0.6169 - val_recall_1: 0.1929\n",
      "Epoch 28/100\n",
      "280/280 [==============================] - 2s 8ms/step - loss: 0.6305 - accuracy: 0.6535 - precision_1: 0.6325 - recall_1: 0.1733 - val_loss: 0.6239 - val_accuracy: 0.6708 - val_precision_1: 0.6208 - val_recall_1: 0.1879\n",
      "Epoch 29/100\n",
      "280/280 [==============================] - 2s 8ms/step - loss: 0.6304 - accuracy: 0.6507 - precision_1: 0.6262 - recall_1: 0.1616 - val_loss: 0.6243 - val_accuracy: 0.6673 - val_precision_1: 0.5977 - val_recall_1: 0.1929\n",
      "Epoch 30/100\n",
      "280/280 [==============================] - 2s 6ms/step - loss: 0.6299 - accuracy: 0.6513 - precision_1: 0.6203 - recall_1: 0.1718 - val_loss: 0.6269 - val_accuracy: 0.6646 - val_precision_1: 0.5840 - val_recall_1: 0.1929\n",
      "Epoch 31/100\n",
      "280/280 [==============================] - 2s 6ms/step - loss: 0.6294 - accuracy: 0.6539 - precision_1: 0.6349 - recall_1: 0.1730 - val_loss: 0.6264 - val_accuracy: 0.6623 - val_precision_1: 0.5765 - val_recall_1: 0.1854\n",
      "Epoch 32/100\n",
      "280/280 [==============================] - 2s 7ms/step - loss: 0.6294 - accuracy: 0.6538 - precision_1: 0.6369 - recall_1: 0.1703 - val_loss: 0.6247 - val_accuracy: 0.6695 - val_precision_1: 0.6180 - val_recall_1: 0.1816\n",
      "Epoch 33/100\n",
      "280/280 [==============================] - 2s 8ms/step - loss: 0.6293 - accuracy: 0.6531 - precision_1: 0.6259 - recall_1: 0.1775 - val_loss: 0.6247 - val_accuracy: 0.6700 - val_precision_1: 0.6273 - val_recall_1: 0.1740\n",
      "Epoch 34/100\n",
      "280/280 [==============================] - 2s 8ms/step - loss: 0.6288 - accuracy: 0.6509 - precision_1: 0.6229 - recall_1: 0.1658 - val_loss: 0.6258 - val_accuracy: 0.6695 - val_precision_1: 0.6170 - val_recall_1: 0.1828\n",
      "Epoch 35/100\n",
      "280/280 [==============================] - 2s 8ms/step - loss: 0.6283 - accuracy: 0.6539 - precision_1: 0.6287 - recall_1: 0.1796 - val_loss: 0.6253 - val_accuracy: 0.6664 - val_precision_1: 0.6026 - val_recall_1: 0.1778\n",
      "Epoch 36/100\n"
     ]
    },
    {
     "name": "stdout",
     "output_type": "stream",
     "text": [
      "280/280 [==============================] - 2s 8ms/step - loss: 0.6293 - accuracy: 0.6544 - precision_1: 0.6320 - recall_1: 0.1796 - val_loss: 0.6260 - val_accuracy: 0.6673 - val_precision_1: 0.6087 - val_recall_1: 0.1765\n",
      "Epoch 37/100\n",
      "280/280 [==============================] - 2s 7ms/step - loss: 0.6288 - accuracy: 0.6534 - precision_1: 0.6357 - recall_1: 0.1694 - val_loss: 0.6243 - val_accuracy: 0.6668 - val_precision_1: 0.5992 - val_recall_1: 0.1866\n",
      "Epoch 38/100\n",
      "280/280 [==============================] - 2s 6ms/step - loss: 0.6261 - accuracy: 0.6531 - precision_1: 0.6278 - recall_1: 0.1754 - val_loss: 0.6253 - val_accuracy: 0.6659 - val_precision_1: 0.5914 - val_recall_1: 0.1917\n",
      "Epoch 39/100\n",
      "280/280 [==============================] - 2s 6ms/step - loss: 0.6259 - accuracy: 0.6519 - precision_1: 0.6170 - recall_1: 0.1796 - val_loss: 0.6281 - val_accuracy: 0.6623 - val_precision_1: 0.5753 - val_recall_1: 0.1879\n",
      "Epoch 40/100\n",
      "280/280 [==============================] - 2s 7ms/step - loss: 0.6251 - accuracy: 0.6534 - precision_1: 0.6212 - recall_1: 0.1852 - val_loss: 0.6282 - val_accuracy: 0.6659 - val_precision_1: 0.5808 - val_recall_1: 0.2131\n",
      "Epoch 41/100\n",
      "280/280 [==============================] - 2s 8ms/step - loss: 0.6234 - accuracy: 0.6563 - precision_1: 0.6345 - recall_1: 0.1888 - val_loss: 0.6299 - val_accuracy: 0.6605 - val_precision_1: 0.5655 - val_recall_1: 0.1904\n",
      "Epoch 42/100\n",
      "280/280 [==============================] - 2s 8ms/step - loss: 0.6255 - accuracy: 0.6520 - precision_1: 0.6117 - recall_1: 0.1873 - val_loss: 0.6269 - val_accuracy: 0.6664 - val_precision_1: 0.6043 - val_recall_1: 0.1753\n",
      "Epoch 43/100\n",
      "280/280 [==============================] - 2s 8ms/step - loss: 0.6227 - accuracy: 0.6554 - precision_1: 0.6262 - recall_1: 0.1927 - val_loss: 0.6288 - val_accuracy: 0.6583 - val_precision_1: 0.5514 - val_recall_1: 0.2030\n",
      "Epoch 44/100\n",
      "280/280 [==============================] - 2s 8ms/step - loss: 0.6253 - accuracy: 0.6538 - precision_1: 0.6113 - recall_1: 0.2011 - val_loss: 0.6288 - val_accuracy: 0.6619 - val_precision_1: 0.5805 - val_recall_1: 0.1728\n",
      "Epoch 45/100\n",
      "280/280 [==============================] - 2s 7ms/step - loss: 0.6244 - accuracy: 0.6553 - precision_1: 0.6259 - recall_1: 0.1924 - val_loss: 0.6275 - val_accuracy: 0.6637 - val_precision_1: 0.5882 - val_recall_1: 0.1765\n",
      "Epoch 46/100\n",
      "280/280 [==============================] - 2s 6ms/step - loss: 0.6240 - accuracy: 0.6543 - precision_1: 0.6230 - recall_1: 0.1891 - val_loss: 0.6283 - val_accuracy: 0.6601 - val_precision_1: 0.5644 - val_recall_1: 0.1879\n",
      "Epoch 47/100\n",
      "280/280 [==============================] - 2s 6ms/step - loss: 0.6220 - accuracy: 0.6563 - precision_1: 0.6205 - recall_1: 0.2062 - val_loss: 0.6291 - val_accuracy: 0.6637 - val_precision_1: 0.5833 - val_recall_1: 0.1854\n",
      "Epoch 48/100\n",
      "280/280 [==============================] - 2s 7ms/step - loss: 0.6208 - accuracy: 0.6530 - precision_1: 0.6118 - recall_1: 0.1945 - val_loss: 0.6288 - val_accuracy: 0.6646 - val_precision_1: 0.5866 - val_recall_1: 0.1879\n",
      "Epoch 49/100\n",
      "280/280 [==============================] - 2s 8ms/step - loss: 0.6240 - accuracy: 0.6528 - precision_1: 0.6061 - recall_1: 0.2014 - val_loss: 0.6291 - val_accuracy: 0.6597 - val_precision_1: 0.5663 - val_recall_1: 0.1778\n",
      "Epoch 50/100\n",
      "280/280 [==============================] - 2s 8ms/step - loss: 0.6205 - accuracy: 0.6574 - precision_1: 0.6273 - recall_1: 0.2047 - val_loss: 0.6299 - val_accuracy: 0.6619 - val_precision_1: 0.5714 - val_recall_1: 0.1917\n",
      "Epoch 51/100\n",
      "280/280 [==============================] - 2s 8ms/step - loss: 0.6217 - accuracy: 0.6569 - precision_1: 0.6222 - recall_1: 0.2076 - val_loss: 0.6322 - val_accuracy: 0.6592 - val_precision_1: 0.5552 - val_recall_1: 0.2030\n",
      "Epoch 52/100\n",
      "280/280 [==============================] - 2s 8ms/step - loss: 0.6221 - accuracy: 0.6563 - precision_1: 0.6171 - recall_1: 0.2109 - val_loss: 0.6316 - val_accuracy: 0.6579 - val_precision_1: 0.5520 - val_recall_1: 0.1942\n",
      "Epoch 53/100\n",
      "280/280 [==============================] - 2s 6ms/step - loss: 0.6207 - accuracy: 0.6610 - precision_1: 0.6364 - recall_1: 0.2160 - val_loss: 0.6313 - val_accuracy: 0.6605 - val_precision_1: 0.5665 - val_recall_1: 0.1879\n",
      "Epoch 54/100\n",
      "280/280 [==============================] - 2s 6ms/step - loss: 0.6183 - accuracy: 0.6594 - precision_1: 0.6263 - recall_1: 0.2193 - val_loss: 0.6312 - val_accuracy: 0.6592 - val_precision_1: 0.5602 - val_recall_1: 0.1879\n",
      "Epoch 55/100\n",
      "280/280 [==============================] - 2s 6ms/step - loss: 0.6179 - accuracy: 0.6608 - precision_1: 0.6288 - recall_1: 0.2247 - val_loss: 0.6313 - val_accuracy: 0.6588 - val_precision_1: 0.5594 - val_recall_1: 0.1841\n",
      "Epoch 56/100\n",
      "280/280 [==============================] - 2s 7ms/step - loss: 0.6185 - accuracy: 0.6601 - precision_1: 0.6343 - recall_1: 0.2130 - val_loss: 0.6330 - val_accuracy: 0.6601 - val_precision_1: 0.5509 - val_recall_1: 0.2320\n",
      "Epoch 57/100\n",
      "280/280 [==============================] - 2s 8ms/step - loss: 0.6208 - accuracy: 0.6588 - precision_1: 0.6225 - recall_1: 0.2202 - val_loss: 0.6314 - val_accuracy: 0.6623 - val_precision_1: 0.5759 - val_recall_1: 0.1866\n",
      "Epoch 58/100\n",
      "280/280 [==============================] - 2s 8ms/step - loss: 0.6194 - accuracy: 0.6587 - precision_1: 0.6230 - recall_1: 0.2187 - val_loss: 0.6315 - val_accuracy: 0.6637 - val_precision_1: 0.5695 - val_recall_1: 0.2169\n",
      "Epoch 59/100\n",
      "280/280 [==============================] - 2s 8ms/step - loss: 0.6202 - accuracy: 0.6587 - precision_1: 0.6203 - recall_1: 0.2226 - val_loss: 0.6326 - val_accuracy: 0.6597 - val_precision_1: 0.5575 - val_recall_1: 0.2018\n",
      "Epoch 60/100\n",
      "280/280 [==============================] - 2s 8ms/step - loss: 0.6170 - accuracy: 0.6605 - precision_1: 0.6287 - recall_1: 0.2226 - val_loss: 0.6310 - val_accuracy: 0.6619 - val_precision_1: 0.5720 - val_recall_1: 0.1904\n",
      "Epoch 61/100\n",
      "280/280 [==============================] - 2s 7ms/step - loss: 0.6168 - accuracy: 0.6626 - precision_1: 0.6424 - recall_1: 0.2184 - val_loss: 0.6346 - val_accuracy: 0.6561 - val_precision_1: 0.5410 - val_recall_1: 0.2081\n",
      "Epoch 62/100\n",
      "280/280 [==============================] - 2s 6ms/step - loss: 0.6174 - accuracy: 0.6600 - precision_1: 0.6193 - recall_1: 0.2333 - val_loss: 0.6315 - val_accuracy: 0.6632 - val_precision_1: 0.5823 - val_recall_1: 0.1828\n",
      "Epoch 63/100\n",
      "280/280 [==============================] - 2s 6ms/step - loss: 0.6150 - accuracy: 0.6602 - precision_1: 0.6231 - recall_1: 0.2292 - val_loss: 0.6345 - val_accuracy: 0.6610 - val_precision_1: 0.5647 - val_recall_1: 0.1980\n",
      "Epoch 64/100\n",
      "280/280 [==============================] - 2s 7ms/step - loss: 0.6207 - accuracy: 0.6596 - precision_1: 0.6202 - recall_1: 0.2289 - val_loss: 0.6327 - val_accuracy: 0.6597 - val_precision_1: 0.5531 - val_recall_1: 0.2169\n",
      "Epoch 65/100\n",
      "280/280 [==============================] - 2s 8ms/step - loss: 0.6175 - accuracy: 0.6574 - precision_1: 0.6093 - recall_1: 0.2316 - val_loss: 0.6319 - val_accuracy: 0.6623 - val_precision_1: 0.5704 - val_recall_1: 0.1992\n",
      "Epoch 66/100\n",
      "280/280 [==============================] - 2s 8ms/step - loss: 0.6174 - accuracy: 0.6583 - precision_1: 0.6128 - recall_1: 0.2321 - val_loss: 0.6328 - val_accuracy: 0.6623 - val_precision_1: 0.5639 - val_recall_1: 0.2169\n",
      "Epoch 67/100\n",
      "280/280 [==============================] - 2s 8ms/step - loss: 0.6178 - accuracy: 0.6579 - precision_1: 0.6139 - recall_1: 0.2271 - val_loss: 0.6335 - val_accuracy: 0.6601 - val_precision_1: 0.5582 - val_recall_1: 0.2055\n",
      "Epoch 68/100\n",
      "280/280 [==============================] - 2s 8ms/step - loss: 0.6158 - accuracy: 0.6612 - precision_1: 0.6198 - recall_1: 0.2411 - val_loss: 0.6369 - val_accuracy: 0.6547 - val_precision_1: 0.5337 - val_recall_1: 0.2194\n",
      "Epoch 69/100\n",
      "280/280 [==============================] - 2s 7ms/step - loss: 0.6183 - accuracy: 0.6592 - precision_1: 0.6150 - recall_1: 0.2348 - val_loss: 0.6347 - val_accuracy: 0.6632 - val_precision_1: 0.5858 - val_recall_1: 0.1765\n",
      "Epoch 70/100\n",
      "280/280 [==============================] - 2s 6ms/step - loss: 0.6165 - accuracy: 0.6581 - precision_1: 0.6156 - recall_1: 0.2259 - val_loss: 0.6356 - val_accuracy: 0.6583 - val_precision_1: 0.5469 - val_recall_1: 0.2207\n",
      "Epoch 71/100\n"
     ]
    },
    {
     "name": "stdout",
     "output_type": "stream",
     "text": [
      "280/280 [==============================] - 2s 6ms/step - loss: 0.6161 - accuracy: 0.6571 - precision_1: 0.6132 - recall_1: 0.2226 - val_loss: 0.6356 - val_accuracy: 0.6570 - val_precision_1: 0.5423 - val_recall_1: 0.2182\n",
      "Epoch 72/100\n",
      "280/280 [==============================] - 2s 8ms/step - loss: 0.6139 - accuracy: 0.6636 - precision_1: 0.6296 - recall_1: 0.2417 - val_loss: 0.6377 - val_accuracy: 0.6583 - val_precision_1: 0.5460 - val_recall_1: 0.2245\n",
      "Epoch 73/100\n",
      "280/280 [==============================] - 2s 8ms/step - loss: 0.6147 - accuracy: 0.6613 - precision_1: 0.6171 - recall_1: 0.2465 - val_loss: 0.6375 - val_accuracy: 0.6628 - val_precision_1: 0.5704 - val_recall_1: 0.2043\n",
      "Epoch 74/100\n",
      "280/280 [==============================] - 2s 8ms/step - loss: 0.6146 - accuracy: 0.6579 - precision_1: 0.6038 - recall_1: 0.2450 - val_loss: 0.6375 - val_accuracy: 0.6619 - val_precision_1: 0.5679 - val_recall_1: 0.2005\n",
      "Epoch 75/100\n",
      "280/280 [==============================] - 2s 8ms/step - loss: 0.6169 - accuracy: 0.6579 - precision_1: 0.6091 - recall_1: 0.2351 - val_loss: 0.6383 - val_accuracy: 0.6597 - val_precision_1: 0.5508 - val_recall_1: 0.2257\n",
      "Epoch 76/100\n",
      "280/280 [==============================] - 2s 8ms/step - loss: 0.6140 - accuracy: 0.6606 - precision_1: 0.6177 - recall_1: 0.2399 - val_loss: 0.6390 - val_accuracy: 0.6556 - val_precision_1: 0.5347 - val_recall_1: 0.2333\n",
      "Epoch 77/100\n",
      "280/280 [==============================] - 2s 6ms/step - loss: 0.6151 - accuracy: 0.6597 - precision_1: 0.6107 - recall_1: 0.2456 - val_loss: 0.6379 - val_accuracy: 0.6579 - val_precision_1: 0.5488 - val_recall_1: 0.2055\n",
      "Epoch 78/100\n",
      "280/280 [==============================] - 2s 6ms/step - loss: 0.6139 - accuracy: 0.6629 - precision_1: 0.6257 - recall_1: 0.2432 - val_loss: 0.6374 - val_accuracy: 0.6592 - val_precision_1: 0.5567 - val_recall_1: 0.1980\n",
      "Epoch 79/100\n",
      "280/280 [==============================] - 2s 6ms/step - loss: 0.6134 - accuracy: 0.6607 - precision_1: 0.6131 - recall_1: 0.2486 - val_loss: 0.6374 - val_accuracy: 0.6592 - val_precision_1: 0.5593 - val_recall_1: 0.1904\n",
      "Epoch 80/100\n",
      "280/280 [==============================] - 2s 8ms/step - loss: 0.6130 - accuracy: 0.6626 - precision_1: 0.6209 - recall_1: 0.2486 - val_loss: 0.6369 - val_accuracy: 0.6574 - val_precision_1: 0.5427 - val_recall_1: 0.2245\n",
      "Epoch 81/100\n",
      "280/280 [==============================] - 2s 8ms/step - loss: 0.6122 - accuracy: 0.6580 - precision_1: 0.6044 - recall_1: 0.2447 - val_loss: 0.6413 - val_accuracy: 0.6570 - val_precision_1: 0.5366 - val_recall_1: 0.2497\n",
      "Epoch 82/100\n",
      "280/280 [==============================] - 2s 8ms/step - loss: 0.6126 - accuracy: 0.6616 - precision_1: 0.6169 - recall_1: 0.2483 - val_loss: 0.6396 - val_accuracy: 0.6556 - val_precision_1: 0.5355 - val_recall_1: 0.2282\n",
      "Epoch 83/100\n",
      "280/280 [==============================] - 2s 8ms/step - loss: 0.6098 - accuracy: 0.6648 - precision_1: 0.6237 - recall_1: 0.2590 - val_loss: 0.6390 - val_accuracy: 0.6592 - val_precision_1: 0.5510 - val_recall_1: 0.2182\n",
      "Epoch 84/100\n",
      "280/280 [==============================] - 2s 8ms/step - loss: 0.6119 - accuracy: 0.6664 - precision_1: 0.6342 - recall_1: 0.2528 - val_loss: 0.6403 - val_accuracy: 0.6543 - val_precision_1: 0.5306 - val_recall_1: 0.2295\n",
      "Epoch 85/100\n",
      "280/280 [==============================] - 2s 6ms/step - loss: 0.6133 - accuracy: 0.6621 - precision_1: 0.6159 - recall_1: 0.2540 - val_loss: 0.6401 - val_accuracy: 0.6574 - val_precision_1: 0.5409 - val_recall_1: 0.2333\n",
      "Epoch 86/100\n",
      "280/280 [==============================] - 2s 6ms/step - loss: 0.6097 - accuracy: 0.6617 - precision_1: 0.6099 - recall_1: 0.2620 - val_loss: 0.6400 - val_accuracy: 0.6610 - val_precision_1: 0.5552 - val_recall_1: 0.2282\n",
      "Epoch 87/100\n",
      "280/280 [==============================] - 2s 7ms/step - loss: 0.6101 - accuracy: 0.6651 - precision_1: 0.6231 - recall_1: 0.2623 - val_loss: 0.6412 - val_accuracy: 0.6579 - val_precision_1: 0.5446 - val_recall_1: 0.2232\n",
      "Epoch 88/100\n",
      "280/280 [==============================] - 2s 8ms/step - loss: 0.6116 - accuracy: 0.6646 - precision_1: 0.6194 - recall_1: 0.2650 - val_loss: 0.6401 - val_accuracy: 0.6610 - val_precision_1: 0.5616 - val_recall_1: 0.2068\n",
      "Epoch 89/100\n",
      "280/280 [==============================] - 2s 8ms/step - loss: 0.6105 - accuracy: 0.6641 - precision_1: 0.6202 - recall_1: 0.2605 - val_loss: 0.6435 - val_accuracy: 0.6561 - val_precision_1: 0.5330 - val_recall_1: 0.2547\n",
      "Epoch 90/100\n",
      "280/280 [==============================] - 2s 8ms/step - loss: 0.6136 - accuracy: 0.6599 - precision_1: 0.6049 - recall_1: 0.2584 - val_loss: 0.6415 - val_accuracy: 0.6547 - val_precision_1: 0.5311 - val_recall_1: 0.2371\n",
      "Epoch 91/100\n",
      "280/280 [==============================] - 2s 9ms/step - loss: 0.6105 - accuracy: 0.6648 - precision_1: 0.6178 - recall_1: 0.2695 - val_loss: 0.6405 - val_accuracy: 0.6556 - val_precision_1: 0.5370 - val_recall_1: 0.2194\n",
      "Epoch 92/100\n",
      "280/280 [==============================] - 2s 7ms/step - loss: 0.6103 - accuracy: 0.6663 - precision_1: 0.6261 - recall_1: 0.2647 - val_loss: 0.6405 - val_accuracy: 0.6529 - val_precision_1: 0.5266 - val_recall_1: 0.2245\n",
      "Epoch 93/100\n",
      "280/280 [==============================] - 2s 6ms/step - loss: 0.6097 - accuracy: 0.6661 - precision_1: 0.6177 - recall_1: 0.2791 - val_loss: 0.6409 - val_accuracy: 0.6552 - val_precision_1: 0.5330 - val_recall_1: 0.2346\n",
      "Epoch 94/100\n",
      "280/280 [==============================] - 2s 6ms/step - loss: 0.6077 - accuracy: 0.6657 - precision_1: 0.6202 - recall_1: 0.2713 - val_loss: 0.6469 - val_accuracy: 0.6417 - val_precision_1: 0.4922 - val_recall_1: 0.2799\n",
      "Epoch 95/100\n",
      "280/280 [==============================] - 2s 7ms/step - loss: 0.6089 - accuracy: 0.6683 - precision_1: 0.6225 - recall_1: 0.2847 - val_loss: 0.6425 - val_accuracy: 0.6592 - val_precision_1: 0.5503 - val_recall_1: 0.2207\n",
      "Epoch 96/100\n",
      "280/280 [==============================] - 2s 8ms/step - loss: 0.6094 - accuracy: 0.6658 - precision_1: 0.6205 - recall_1: 0.2716 - val_loss: 0.6441 - val_accuracy: 0.6552 - val_precision_1: 0.5320 - val_recall_1: 0.2409\n",
      "Epoch 97/100\n",
      "280/280 [==============================] - 2s 8ms/step - loss: 0.6098 - accuracy: 0.6628 - precision_1: 0.6098 - recall_1: 0.2704 - val_loss: 0.6421 - val_accuracy: 0.6552 - val_precision_1: 0.5370 - val_recall_1: 0.2106\n",
      "Epoch 98/100\n",
      "280/280 [==============================] - 2s 8ms/step - loss: 0.6094 - accuracy: 0.6645 - precision_1: 0.6196 - recall_1: 0.2638 - val_loss: 0.6445 - val_accuracy: 0.6516 - val_precision_1: 0.5210 - val_recall_1: 0.2346\n",
      "Epoch 99/100\n",
      "280/280 [==============================] - 2s 9ms/step - loss: 0.6076 - accuracy: 0.6699 - precision_1: 0.6258 - recall_1: 0.2898 - val_loss: 0.6423 - val_accuracy: 0.6614 - val_precision_1: 0.5640 - val_recall_1: 0.2055\n",
      "Epoch 100/100\n",
      "280/280 [==============================] - 2s 7ms/step - loss: 0.6099 - accuracy: 0.6640 - precision_1: 0.6144 - recall_1: 0.2704 - val_loss: 0.6436 - val_accuracy: 0.6511 - val_precision_1: 0.5180 - val_recall_1: 0.2535\n"
     ]
    }
   ],
   "source": [
    "history = model.fit(xtrain, ytrain, batch_size=batch_size, epochs=100, validation_data=(xtest, ytest))"
   ]
  },
  {
   "cell_type": "code",
   "execution_count": 75,
   "id": "2df9ca69",
   "metadata": {
    "scrolled": false
   },
   "outputs": [
    {
     "data": {
      "image/png": "[encoded data removed]",
      "text/plain": [
       "<Figure size 640x480 with 1 Axes>"
      ]
     },
     "metadata": {},
     "output_type": "display_data"
    }
   ],
   "source": [
    "plot_hist(history)"
   ]
  },
  {
   "cell_type": "code",
   "execution_count": 76,
   "id": "486ff6c8",
   "metadata": {},
   "outputs": [
    {
     "name": "stdout",
     "output_type": "stream",
     "text": [
      "70/70 [==============================] - 0s 2ms/step\n",
      "Accuracy:  0.651141961486789\n",
      "\n",
      "Confusion Matrix: \n",
      " [[1253  187]\n",
      " [ 592  201]]\n",
      "\n",
      "classification_report: \n",
      "               precision    recall  f1-score   support\n",
      "\n",
      "         0.0       0.68      0.87      0.76      1440\n",
      "         1.0       0.52      0.25      0.34       793\n",
      "\n",
      "    accuracy                           0.65      2233\n",
      "   macro avg       0.60      0.56      0.55      2233\n",
      "weighted avg       0.62      0.65      0.61      2233\n",
      "\n"
     ]
    }
   ],
   "source": [
    "y_pred = model.predict(xtest)\n",
    "y_pred = np.where(y_pred > 0.5, 1, 0)\n",
    "cm = confusion_matrix(ytest, y_pred)\n",
    "print(\"Accuracy: \", accuracy_score(ytest, y_pred))\n",
    "print(\"\\nConfusion Matrix: \\n\", cm)\n",
    "print(\"\\nclassification_report: \\n\", classification_report(ytest, y_pred))"
   ]
  },
  {
   "cell_type": "markdown",
   "id": "6f3093eb",
   "metadata": {},
   "source": [
    "### Tuned Model"
   ]
  },
  {
   "cell_type": "code",
   "execution_count": 77,
   "id": "cbc4e08a",
   "metadata": {},
   "outputs": [],
   "source": [
    "def build_model(hp):\n",
    "    model = Sequential()\n",
    "    model.add(GRU(\n",
    "        units=hp.Int(\"units\", min_value=32, max_value=256, step=32),\n",
    "        return_sequences=True,\n",
    "        input_shape=(sequence_length, X_train.shape[1]),\n",
    "        recurrent_dropout=hp.Float(\"recurrent_dropout\", min_value=0.2, max_value=0.5, step=0.1)\n",
    "    ))\n",
    "    model.add(Dropout(hp.Float(\"dropout_1\", min_value=0.2, max_value=0.5, step=0.1)))\n",
    "    model.add(Dense(1, activation='sigmoid'))\n",
    "    \n",
    "    model.compile(\n",
    "        optimizer=hp.Choice(\"optimizer\", [\"adam\", \"rmsprop\", \"sgd\"]),\n",
    "        loss=hp.Choice(\"loss\", [\"binary_crossentropy\", \"mean_squared_error\"]),\n",
    "        metrics=[\"accuracy\", Precision(), Recall()],\n",
    "    )\n",
    "    return model"
   ]
  },
  {
   "cell_type": "code",
   "execution_count": 78,
   "id": "1f9ff3ad",
   "metadata": {},
   "outputs": [
    {
     "name": "stdout",
     "output_type": "stream",
     "text": [
      "INFO:tensorflow:Reloading Tuner from tuned_models\\thyroid_gru_tuning\\tuner0.json\n",
      "\n",
      "Search: Running Trial #3\n",
      "\n",
      "Value             |Best Value So Far |Hyperparameter\n",
      "64                |192               |units\n",
      "0.3               |0.2               |dropout_1\n",
      "adam              |adam              |optimizer\n",
      "binary_crossent...|mean_squared_error|loss\n",
      "\n"
     ]
    },
    {
     "name": "stderr",
     "output_type": "stream",
     "text": [
      "Traceback (most recent call last):\n",
      "  File \"D:\\Ananconda\\lib\\site-packages\\keras_tuner\\engine\\base_tuner.py\", line 270, in _try_run_and_update_trial\n",
      "    self._run_and_update_trial(trial, *fit_args, **fit_kwargs)\n",
      "  File \"D:\\Ananconda\\lib\\site-packages\\keras_tuner\\engine\\base_tuner.py\", line 235, in _run_and_update_trial\n",
      "    results = self.run_trial(trial, *fit_args, **fit_kwargs)\n",
      "  File \"D:\\Ananconda\\lib\\site-packages\\keras_tuner\\engine\\tuner.py\", line 287, in run_trial\n",
      "    obj_value = self._build_and_fit_model(trial, *args, **copied_kwargs)\n",
      "  File \"D:\\Ananconda\\lib\\site-packages\\keras_tuner\\engine\\tuner.py\", line 214, in _build_and_fit_model\n",
      "    results = self.hypermodel.fit(hp, model, *args, **kwargs)\n",
      "  File \"D:\\Ananconda\\lib\\site-packages\\keras_tuner\\engine\\hypermodel.py\", line 144, in fit\n",
      "    return model.fit(*args, **kwargs)\n",
      "  File \"D:\\Ananconda\\lib\\site-packages\\keras\\utils\\traceback_utils.py\", line 70, in error_handler\n",
      "    raise e.with_traceback(filtered_tb) from None\n",
      "  File \"C:\\Users\\lydia\\AppData\\Local\\Temp\\__autograph_generated_filec_3jr6el.py\", line 15, in tf__train_function\n",
      "    retval_ = ag__.converted_call(ag__.ld(step_function), (ag__.ld(self), ag__.ld(iterator)), None, fscope)\n",
      "ValueError: in user code:\n",
      "\n",
      "    File \"D:\\Ananconda\\lib\\site-packages\\keras\\engine\\training.py\", line 1249, in train_function  *\n",
      "        return step_function(self, iterator)\n",
      "    File \"D:\\Ananconda\\lib\\site-packages\\keras\\engine\\training.py\", line 1233, in step_function  **\n",
      "        outputs = model.distribute_strategy.run(run_step, args=(data,))\n",
      "    File \"D:\\Ananconda\\lib\\site-packages\\keras\\engine\\training.py\", line 1222, in run_step  **\n",
      "        outputs = model.train_step(data)\n",
      "    File \"D:\\Ananconda\\lib\\site-packages\\keras\\engine\\training.py\", line 1028, in train_step\n",
      "        return self.compute_metrics(x, y, y_pred, sample_weight)\n",
      "    File \"D:\\Ananconda\\lib\\site-packages\\keras\\engine\\training.py\", line 1122, in compute_metrics\n",
      "        self.compiled_metrics.update_state(y, y_pred, sample_weight)\n",
      "    File \"D:\\Ananconda\\lib\\site-packages\\keras\\engine\\compile_utils.py\", line 605, in update_state\n",
      "        metric_obj.update_state(y_t, y_p, sample_weight=mask)\n",
      "    File \"D:\\Ananconda\\lib\\site-packages\\keras\\utils\\metrics_utils.py\", line 77, in decorated\n",
      "        update_op = update_state_fn(*args, **kwargs)\n",
      "    File \"D:\\Ananconda\\lib\\site-packages\\keras\\metrics\\base_metric.py\", line 140, in update_state_fn\n",
      "        return ag_update_state(*args, **kwargs)\n",
      "    File \"D:\\Ananconda\\lib\\site-packages\\keras\\metrics\\metrics.py\", line 906, in update_state  **\n",
      "        return metrics_utils.update_confusion_matrix_variables(\n",
      "    File \"D:\\Ananconda\\lib\\site-packages\\keras\\utils\\metrics_utils.py\", line 674, in update_confusion_matrix_variables\n",
      "        y_pred.shape.assert_is_compatible_with(y_true.shape)\n",
      "\n",
      "    ValueError: Shapes (None, 10) and (None, 1) are incompatible\n",
      "\n"
     ]
    },
    {
     "ename": "RuntimeError",
     "evalue": "Number of consecutive failures excceeded the limit of 3.\nTraceback (most recent call last):\n  File \"D:\\Ananconda\\lib\\site-packages\\keras_tuner\\engine\\base_tuner.py\", line 270, in _try_run_and_update_trial\n    self._run_and_update_trial(trial, *fit_args, **fit_kwargs)\n  File \"D:\\Ananconda\\lib\\site-packages\\keras_tuner\\engine\\base_tuner.py\", line 235, in _run_and_update_trial\n    results = self.run_trial(trial, *fit_args, **fit_kwargs)\n  File \"D:\\Ananconda\\lib\\site-packages\\keras_tuner\\engine\\tuner.py\", line 287, in run_trial\n    obj_value = self._build_and_fit_model(trial, *args, **copied_kwargs)\n  File \"D:\\Ananconda\\lib\\site-packages\\keras_tuner\\engine\\tuner.py\", line 214, in _build_and_fit_model\n    results = self.hypermodel.fit(hp, model, *args, **kwargs)\n  File \"D:\\Ananconda\\lib\\site-packages\\keras_tuner\\engine\\hypermodel.py\", line 144, in fit\n    return model.fit(*args, **kwargs)\n  File \"D:\\Ananconda\\lib\\site-packages\\keras\\utils\\traceback_utils.py\", line 70, in error_handler\n    raise e.with_traceback(filtered_tb) from None\n  File \"C:\\Users\\lydia\\AppData\\Local\\Temp\\__autograph_generated_filec_3jr6el.py\", line 15, in tf__train_function\n    retval_ = ag__.converted_call(ag__.ld(step_function), (ag__.ld(self), ag__.ld(iterator)), None, fscope)\nValueError: in user code:\n\n    File \"D:\\Ananconda\\lib\\site-packages\\keras\\engine\\training.py\", line 1249, in train_function  *\n        return step_function(self, iterator)\n    File \"D:\\Ananconda\\lib\\site-packages\\keras\\engine\\training.py\", line 1233, in step_function  **\n        outputs = model.distribute_strategy.run(run_step, args=(data,))\n    File \"D:\\Ananconda\\lib\\site-packages\\keras\\engine\\training.py\", line 1222, in run_step  **\n        outputs = model.train_step(data)\n    File \"D:\\Ananconda\\lib\\site-packages\\keras\\engine\\training.py\", line 1028, in train_step\n        return self.compute_metrics(x, y, y_pred, sample_weight)\n    File \"D:\\Ananconda\\lib\\site-packages\\keras\\engine\\training.py\", line 1122, in compute_metrics\n        self.compiled_metrics.update_state(y, y_pred, sample_weight)\n    File \"D:\\Ananconda\\lib\\site-packages\\keras\\engine\\compile_utils.py\", line 605, in update_state\n        metric_obj.update_state(y_t, y_p, sample_weight=mask)\n    File \"D:\\Ananconda\\lib\\site-packages\\keras\\utils\\metrics_utils.py\", line 77, in decorated\n        update_op = update_state_fn(*args, **kwargs)\n    File \"D:\\Ananconda\\lib\\site-packages\\keras\\metrics\\base_metric.py\", line 140, in update_state_fn\n        return ag_update_state(*args, **kwargs)\n    File \"D:\\Ananconda\\lib\\site-packages\\keras\\metrics\\metrics.py\", line 906, in update_state  **\n        return metrics_utils.update_confusion_matrix_variables(\n    File \"D:\\Ananconda\\lib\\site-packages\\keras\\utils\\metrics_utils.py\", line 674, in update_confusion_matrix_variables\n        y_pred.shape.assert_is_compatible_with(y_true.shape)\n\n    ValueError: Shapes (None, 10) and (None, 1) are incompatible\n\n",
     "output_type": "error",
     "traceback": [
      "\u001b[1;31m---------------------------------------------------------------------------\u001b[0m",
      "\u001b[1;31mRuntimeError\u001b[0m                              Traceback (most recent call last)",
      "\u001b[1;32m~\\AppData\\Local\\Temp\\ipykernel_25516\\4261704090.py\u001b[0m in \u001b[0;36m<module>\u001b[1;34m\u001b[0m\n\u001b[0;32m      8\u001b[0m )\n\u001b[0;32m      9\u001b[0m \u001b[1;33m\u001b[0m\u001b[0m\n\u001b[1;32m---> 10\u001b[1;33m tuner.search(xtrain, \n\u001b[0m\u001b[0;32m     11\u001b[0m              \u001b[0mytrain\u001b[0m\u001b[1;33m,\u001b[0m\u001b[1;33m\u001b[0m\u001b[1;33m\u001b[0m\u001b[0m\n\u001b[0;32m     12\u001b[0m              \u001b[0mvalidation_data\u001b[0m\u001b[1;33m=\u001b[0m\u001b[1;33m(\u001b[0m\u001b[0mxtest\u001b[0m\u001b[1;33m,\u001b[0m \u001b[0mytest\u001b[0m\u001b[1;33m)\u001b[0m\u001b[1;33m,\u001b[0m\u001b[1;33m\u001b[0m\u001b[1;33m\u001b[0m\u001b[0m\n",
      "\u001b[1;32mD:\\Ananconda\\lib\\site-packages\\keras_tuner\\engine\\base_tuner.py\u001b[0m in \u001b[0;36msearch\u001b[1;34m(self, *fit_args, **fit_kwargs)\u001b[0m\n\u001b[0;32m    229\u001b[0m             \u001b[0mself\u001b[0m\u001b[1;33m.\u001b[0m\u001b[0mon_trial_begin\u001b[0m\u001b[1;33m(\u001b[0m\u001b[0mtrial\u001b[0m\u001b[1;33m)\u001b[0m\u001b[1;33m\u001b[0m\u001b[1;33m\u001b[0m\u001b[0m\n\u001b[0;32m    230\u001b[0m             \u001b[0mself\u001b[0m\u001b[1;33m.\u001b[0m\u001b[0m_try_run_and_update_trial\u001b[0m\u001b[1;33m(\u001b[0m\u001b[0mtrial\u001b[0m\u001b[1;33m,\u001b[0m \u001b[1;33m*\u001b[0m\u001b[0mfit_args\u001b[0m\u001b[1;33m,\u001b[0m \u001b[1;33m**\u001b[0m\u001b[0mfit_kwargs\u001b[0m\u001b[1;33m)\u001b[0m\u001b[1;33m\u001b[0m\u001b[1;33m\u001b[0m\u001b[0m\n\u001b[1;32m--> 231\u001b[1;33m             \u001b[0mself\u001b[0m\u001b[1;33m.\u001b[0m\u001b[0mon_trial_end\u001b[0m\u001b[1;33m(\u001b[0m\u001b[0mtrial\u001b[0m\u001b[1;33m)\u001b[0m\u001b[1;33m\u001b[0m\u001b[1;33m\u001b[0m\u001b[0m\n\u001b[0m\u001b[0;32m    232\u001b[0m         \u001b[0mself\u001b[0m\u001b[1;33m.\u001b[0m\u001b[0mon_search_end\u001b[0m\u001b[1;33m(\u001b[0m\u001b[1;33m)\u001b[0m\u001b[1;33m\u001b[0m\u001b[1;33m\u001b[0m\u001b[0m\n\u001b[0;32m    233\u001b[0m \u001b[1;33m\u001b[0m\u001b[0m\n",
      "\u001b[1;32mD:\\Ananconda\\lib\\site-packages\\keras_tuner\\engine\\base_tuner.py\u001b[0m in \u001b[0;36mon_trial_end\u001b[1;34m(self, trial)\u001b[0m\n\u001b[0;32m    333\u001b[0m             \u001b[0mtrial\u001b[0m\u001b[1;33m:\u001b[0m \u001b[0mA\u001b[0m\u001b[0;31m \u001b[0m\u001b[0;31m`\u001b[0m\u001b[0mTrial\u001b[0m\u001b[0;31m`\u001b[0m \u001b[0minstance\u001b[0m\u001b[1;33m.\u001b[0m\u001b[1;33m\u001b[0m\u001b[1;33m\u001b[0m\u001b[0m\n\u001b[0;32m    334\u001b[0m         \"\"\"\n\u001b[1;32m--> 335\u001b[1;33m         \u001b[0mself\u001b[0m\u001b[1;33m.\u001b[0m\u001b[0moracle\u001b[0m\u001b[1;33m.\u001b[0m\u001b[0mend_trial\u001b[0m\u001b[1;33m(\u001b[0m\u001b[0mtrial\u001b[0m\u001b[1;33m)\u001b[0m\u001b[1;33m\u001b[0m\u001b[1;33m\u001b[0m\u001b[0m\n\u001b[0m\u001b[0;32m    336\u001b[0m         \u001b[1;31m# Display needs the updated trial scored by the Oracle.\u001b[0m\u001b[1;33m\u001b[0m\u001b[1;33m\u001b[0m\u001b[0m\n\u001b[0;32m    337\u001b[0m         \u001b[0mself\u001b[0m\u001b[1;33m.\u001b[0m\u001b[0m_display\u001b[0m\u001b[1;33m.\u001b[0m\u001b[0mon_trial_end\u001b[0m\u001b[1;33m(\u001b[0m\u001b[0mself\u001b[0m\u001b[1;33m.\u001b[0m\u001b[0moracle\u001b[0m\u001b[1;33m.\u001b[0m\u001b[0mget_trial\u001b[0m\u001b[1;33m(\u001b[0m\u001b[0mtrial\u001b[0m\u001b[1;33m.\u001b[0m\u001b[0mtrial_id\u001b[0m\u001b[1;33m)\u001b[0m\u001b[1;33m)\u001b[0m\u001b[1;33m\u001b[0m\u001b[1;33m\u001b[0m\u001b[0m\n",
      "\u001b[1;32mD:\\Ananconda\\lib\\site-packages\\keras_tuner\\engine\\oracle.py\u001b[0m in \u001b[0;36mwrapped_func\u001b[1;34m(*args, **kwargs)\u001b[0m\n\u001b[0;32m    105\u001b[0m             \u001b[0mLOCKS\u001b[0m\u001b[1;33m[\u001b[0m\u001b[0moracle\u001b[0m\u001b[1;33m]\u001b[0m\u001b[1;33m.\u001b[0m\u001b[0macquire\u001b[0m\u001b[1;33m(\u001b[0m\u001b[1;33m)\u001b[0m\u001b[1;33m\u001b[0m\u001b[1;33m\u001b[0m\u001b[0m\n\u001b[0;32m    106\u001b[0m             \u001b[0mTHREADS\u001b[0m\u001b[1;33m[\u001b[0m\u001b[0moracle\u001b[0m\u001b[1;33m]\u001b[0m \u001b[1;33m=\u001b[0m \u001b[0mthread_name\u001b[0m\u001b[1;33m\u001b[0m\u001b[1;33m\u001b[0m\u001b[0m\n\u001b[1;32m--> 107\u001b[1;33m         \u001b[0mret_val\u001b[0m \u001b[1;33m=\u001b[0m \u001b[0mfunc\u001b[0m\u001b[1;33m(\u001b[0m\u001b[1;33m*\u001b[0m\u001b[0margs\u001b[0m\u001b[1;33m,\u001b[0m \u001b[1;33m**\u001b[0m\u001b[0mkwargs\u001b[0m\u001b[1;33m)\u001b[0m\u001b[1;33m\u001b[0m\u001b[1;33m\u001b[0m\u001b[0m\n\u001b[0m\u001b[0;32m    108\u001b[0m         \u001b[1;32mif\u001b[0m \u001b[0mneed_acquire\u001b[0m\u001b[1;33m:\u001b[0m\u001b[1;33m\u001b[0m\u001b[1;33m\u001b[0m\u001b[0m\n\u001b[0;32m    109\u001b[0m             \u001b[0mTHREADS\u001b[0m\u001b[1;33m[\u001b[0m\u001b[0moracle\u001b[0m\u001b[1;33m]\u001b[0m \u001b[1;33m=\u001b[0m \u001b[1;32mNone\u001b[0m\u001b[1;33m\u001b[0m\u001b[1;33m\u001b[0m\u001b[0m\n",
      "\u001b[1;32mD:\\Ananconda\\lib\\site-packages\\keras_tuner\\engine\\oracle.py\u001b[0m in \u001b[0;36mend_trial\u001b[1;34m(self, trial)\u001b[0m\n\u001b[0;32m    432\u001b[0m         \u001b[1;32mif\u001b[0m \u001b[1;32mnot\u001b[0m \u001b[0mself\u001b[0m\u001b[1;33m.\u001b[0m\u001b[0m_retry\u001b[0m\u001b[1;33m(\u001b[0m\u001b[0mtrial\u001b[0m\u001b[1;33m)\u001b[0m\u001b[1;33m:\u001b[0m\u001b[1;33m\u001b[0m\u001b[1;33m\u001b[0m\u001b[0m\n\u001b[0;32m    433\u001b[0m             \u001b[0mself\u001b[0m\u001b[1;33m.\u001b[0m\u001b[0mend_order\u001b[0m\u001b[1;33m.\u001b[0m\u001b[0mappend\u001b[0m\u001b[1;33m(\u001b[0m\u001b[0mtrial\u001b[0m\u001b[1;33m.\u001b[0m\u001b[0mtrial_id\u001b[0m\u001b[1;33m)\u001b[0m\u001b[1;33m\u001b[0m\u001b[1;33m\u001b[0m\u001b[0m\n\u001b[1;32m--> 434\u001b[1;33m             \u001b[0mself\u001b[0m\u001b[1;33m.\u001b[0m\u001b[0m_check_consecutive_failures\u001b[0m\u001b[1;33m(\u001b[0m\u001b[1;33m)\u001b[0m\u001b[1;33m\u001b[0m\u001b[1;33m\u001b[0m\u001b[0m\n\u001b[0m\u001b[0;32m    435\u001b[0m \u001b[1;33m\u001b[0m\u001b[0m\n\u001b[0;32m    436\u001b[0m         \u001b[0mself\u001b[0m\u001b[1;33m.\u001b[0m\u001b[0m_save_trial\u001b[0m\u001b[1;33m(\u001b[0m\u001b[0mtrial\u001b[0m\u001b[1;33m)\u001b[0m\u001b[1;33m\u001b[0m\u001b[1;33m\u001b[0m\u001b[0m\n",
      "\u001b[1;32mD:\\Ananconda\\lib\\site-packages\\keras_tuner\\engine\\oracle.py\u001b[0m in \u001b[0;36m_check_consecutive_failures\u001b[1;34m(self)\u001b[0m\n\u001b[0;32m    384\u001b[0m                 \u001b[0mconsecutive_failures\u001b[0m \u001b[1;33m=\u001b[0m \u001b[1;36m0\u001b[0m\u001b[1;33m\u001b[0m\u001b[1;33m\u001b[0m\u001b[0m\n\u001b[0;32m    385\u001b[0m             \u001b[1;32mif\u001b[0m \u001b[0mconsecutive_failures\u001b[0m \u001b[1;33m==\u001b[0m \u001b[0mself\u001b[0m\u001b[1;33m.\u001b[0m\u001b[0mmax_consecutive_failed_trials\u001b[0m\u001b[1;33m:\u001b[0m\u001b[1;33m\u001b[0m\u001b[1;33m\u001b[0m\u001b[0m\n\u001b[1;32m--> 386\u001b[1;33m                 raise RuntimeError(\n\u001b[0m\u001b[0;32m    387\u001b[0m                     \u001b[1;34m\"Number of consecutive failures excceeded the limit \"\u001b[0m\u001b[1;33m\u001b[0m\u001b[1;33m\u001b[0m\u001b[0m\n\u001b[0;32m    388\u001b[0m                     \u001b[1;34mf\"of {self.max_consecutive_failed_trials}.\\n\"\u001b[0m\u001b[1;33m\u001b[0m\u001b[1;33m\u001b[0m\u001b[0m\n",
      "\u001b[1;31mRuntimeError\u001b[0m: Number of consecutive failures excceeded the limit of 3.\nTraceback (most recent call last):\n  File \"D:\\Ananconda\\lib\\site-packages\\keras_tuner\\engine\\base_tuner.py\", line 270, in _try_run_and_update_trial\n    self._run_and_update_trial(trial, *fit_args, **fit_kwargs)\n  File \"D:\\Ananconda\\lib\\site-packages\\keras_tuner\\engine\\base_tuner.py\", line 235, in _run_and_update_trial\n    results = self.run_trial(trial, *fit_args, **fit_kwargs)\n  File \"D:\\Ananconda\\lib\\site-packages\\keras_tuner\\engine\\tuner.py\", line 287, in run_trial\n    obj_value = self._build_and_fit_model(trial, *args, **copied_kwargs)\n  File \"D:\\Ananconda\\lib\\site-packages\\keras_tuner\\engine\\tuner.py\", line 214, in _build_and_fit_model\n    results = self.hypermodel.fit(hp, model, *args, **kwargs)\n  File \"D:\\Ananconda\\lib\\site-packages\\keras_tuner\\engine\\hypermodel.py\", line 144, in fit\n    return model.fit(*args, **kwargs)\n  File \"D:\\Ananconda\\lib\\site-packages\\keras\\utils\\traceback_utils.py\", line 70, in error_handler\n    raise e.with_traceback(filtered_tb) from None\n  File \"C:\\Users\\lydia\\AppData\\Local\\Temp\\__autograph_generated_filec_3jr6el.py\", line 15, in tf__train_function\n    retval_ = ag__.converted_call(ag__.ld(step_function), (ag__.ld(self), ag__.ld(iterator)), None, fscope)\nValueError: in user code:\n\n    File \"D:\\Ananconda\\lib\\site-packages\\keras\\engine\\training.py\", line 1249, in train_function  *\n        return step_function(self, iterator)\n    File \"D:\\Ananconda\\lib\\site-packages\\keras\\engine\\training.py\", line 1233, in step_function  **\n        outputs = model.distribute_strategy.run(run_step, args=(data,))\n    File \"D:\\Ananconda\\lib\\site-packages\\keras\\engine\\training.py\", line 1222, in run_step  **\n        outputs = model.train_step(data)\n    File \"D:\\Ananconda\\lib\\site-packages\\keras\\engine\\training.py\", line 1028, in train_step\n        return self.compute_metrics(x, y, y_pred, sample_weight)\n    File \"D:\\Ananconda\\lib\\site-packages\\keras\\engine\\training.py\", line 1122, in compute_metrics\n        self.compiled_metrics.update_state(y, y_pred, sample_weight)\n    File \"D:\\Ananconda\\lib\\site-packages\\keras\\engine\\compile_utils.py\", line 605, in update_state\n        metric_obj.update_state(y_t, y_p, sample_weight=mask)\n    File \"D:\\Ananconda\\lib\\site-packages\\keras\\utils\\metrics_utils.py\", line 77, in decorated\n        update_op = update_state_fn(*args, **kwargs)\n    File \"D:\\Ananconda\\lib\\site-packages\\keras\\metrics\\base_metric.py\", line 140, in update_state_fn\n        return ag_update_state(*args, **kwargs)\n    File \"D:\\Ananconda\\lib\\site-packages\\keras\\metrics\\metrics.py\", line 906, in update_state  **\n        return metrics_utils.update_confusion_matrix_variables(\n    File \"D:\\Ananconda\\lib\\site-packages\\keras\\utils\\metrics_utils.py\", line 674, in update_confusion_matrix_variables\n        y_pred.shape.assert_is_compatible_with(y_true.shape)\n\n    ValueError: Shapes (None, 10) and (None, 1) are incompatible\n\n"
     ]
    }
   ],
   "source": [
    "# RandomSearch to find the best hyperparameters\n",
    "tuner = RandomSearch(\n",
    "    build_model,\n",
    "    objective='val_accuracy',\n",
    "    max_trials=5,\n",
    "    directory='tuned_models',\n",
    "    project_name='thyroid_gru_tuning'\n",
    ")\n",
    "\n",
    "tuner.search(xtrain, \n",
    "             ytrain, \n",
    "             validation_data=(xtest, ytest),\n",
    "             callbacks=[tf.keras.callbacks.EarlyStopping(patience=5)])"
   ]
  },
  {
   "cell_type": "code",
   "execution_count": null,
   "id": "041766d9",
   "metadata": {},
   "outputs": [],
   "source": [
    "# get params of best model\n",
    "best_hps = tuner.get_best_hyperparameters(num_trials=1)\n",
    "best_hps"
   ]
  },
  {
   "cell_type": "code",
   "execution_count": 28,
   "id": "50cfa4ac",
   "metadata": {
    "scrolled": false
   },
   "outputs": [
    {
     "name": "stdout",
     "output_type": "stream",
     "text": [
      "WARNING:tensorflow:Inconsistent references when loading the checkpoint into this object graph. For example, in the saved checkpoint object, `model.layer.weight` and `model.layer_copy.weight` reference the same variable, while in the current object these are two different variables. The referenced variables are:(<keras.layers.core.dense.Dense object at 0x000001ED1663C5E0> and <keras.layers.regularization.dropout.Dropout object at 0x000001ED1D30BFA0>).\n",
      "Model: \"sequential\"\n",
      "_________________________________________________________________\n",
      " Layer (type)                Output Shape              Param #   \n",
      "=================================================================\n",
      " gru (GRU)                   (None, 10, 160)           81600     \n",
      "                                                                 \n",
      " dropout (Dropout)           (None, 10, 160)           0         \n",
      "                                                                 \n",
      " dense (Dense)               (None, 10, 1)             161       \n",
      "                                                                 \n",
      "=================================================================\n",
      "Total params: 81,761\n",
      "Trainable params: 81,761\n",
      "Non-trainable params: 0\n",
      "_________________________________________________________________\n"
     ]
    }
   ],
   "source": [
    "best_model = tuner.get_best_models(num_models=1)[0]\n",
    "best_model.summary()"
   ]
  },
  {
   "cell_type": "code",
   "execution_count": 39,
   "id": "f304ca0b",
   "metadata": {},
   "outputs": [
    {
     "name": "stdout",
     "output_type": "stream",
     "text": [
      "Epoch 1/100\n"
     ]
    },
    {
     "ename": "TypeError",
     "evalue": "'NoneType' object is not callable",
     "output_type": "error",
     "traceback": [
      "\u001b[1;31m---------------------------------------------------------------------------\u001b[0m",
      "\u001b[1;31mTypeError\u001b[0m                                 Traceback (most recent call last)",
      "\u001b[1;32m~\\AppData\\Local\\Temp\\ipykernel_23912\\2721120477.py\u001b[0m in \u001b[0;36m<module>\u001b[1;34m\u001b[0m\n\u001b[0;32m      1\u001b[0m \u001b[1;31m# build and fit best model\u001b[0m\u001b[1;33m\u001b[0m\u001b[1;33m\u001b[0m\u001b[0m\n\u001b[0;32m      2\u001b[0m \u001b[0mbest_model\u001b[0m\u001b[1;33m.\u001b[0m\u001b[0mbuild\u001b[0m\u001b[1;33m(\u001b[0m\u001b[0mxtrain\u001b[0m\u001b[1;33m.\u001b[0m\u001b[0mshape\u001b[0m\u001b[1;33m)\u001b[0m\u001b[1;33m\u001b[0m\u001b[1;33m\u001b[0m\u001b[0m\n\u001b[1;32m----> 3\u001b[1;33m \u001b[0mhistory\u001b[0m \u001b[1;33m=\u001b[0m \u001b[0mbest_model\u001b[0m\u001b[1;33m.\u001b[0m\u001b[0mfit\u001b[0m\u001b[1;33m(\u001b[0m\u001b[0mxtrain\u001b[0m\u001b[1;33m,\u001b[0m \u001b[0mytrain\u001b[0m\u001b[1;33m,\u001b[0m \u001b[0mbatch_size\u001b[0m\u001b[1;33m=\u001b[0m\u001b[0mbatch_size\u001b[0m\u001b[1;33m,\u001b[0m \u001b[0mepochs\u001b[0m\u001b[1;33m=\u001b[0m\u001b[1;36m100\u001b[0m\u001b[1;33m,\u001b[0m \u001b[0mvalidation_data\u001b[0m\u001b[1;33m=\u001b[0m\u001b[1;33m(\u001b[0m\u001b[0mxtest\u001b[0m\u001b[1;33m,\u001b[0m \u001b[0mytest\u001b[0m\u001b[1;33m)\u001b[0m\u001b[1;33m)\u001b[0m\u001b[1;33m\u001b[0m\u001b[1;33m\u001b[0m\u001b[0m\n\u001b[0m",
      "\u001b[1;32mD:\\Ananconda\\lib\\site-packages\\keras\\utils\\traceback_utils.py\u001b[0m in \u001b[0;36merror_handler\u001b[1;34m(*args, **kwargs)\u001b[0m\n\u001b[0;32m     68\u001b[0m             \u001b[1;31m# To get the full stack trace, call:\u001b[0m\u001b[1;33m\u001b[0m\u001b[1;33m\u001b[0m\u001b[0m\n\u001b[0;32m     69\u001b[0m             \u001b[1;31m# `tf.debugging.disable_traceback_filtering()`\u001b[0m\u001b[1;33m\u001b[0m\u001b[1;33m\u001b[0m\u001b[0m\n\u001b[1;32m---> 70\u001b[1;33m             \u001b[1;32mraise\u001b[0m \u001b[0me\u001b[0m\u001b[1;33m.\u001b[0m\u001b[0mwith_traceback\u001b[0m\u001b[1;33m(\u001b[0m\u001b[0mfiltered_tb\u001b[0m\u001b[1;33m)\u001b[0m \u001b[1;32mfrom\u001b[0m \u001b[1;32mNone\u001b[0m\u001b[1;33m\u001b[0m\u001b[1;33m\u001b[0m\u001b[0m\n\u001b[0m\u001b[0;32m     71\u001b[0m         \u001b[1;32mfinally\u001b[0m\u001b[1;33m:\u001b[0m\u001b[1;33m\u001b[0m\u001b[1;33m\u001b[0m\u001b[0m\n\u001b[0;32m     72\u001b[0m             \u001b[1;32mdel\u001b[0m \u001b[0mfiltered_tb\u001b[0m\u001b[1;33m\u001b[0m\u001b[1;33m\u001b[0m\u001b[0m\n",
      "\u001b[1;32mD:\\Ananconda\\lib\\site-packages\\tensorflow\\python\\eager\\polymorphic_function\\polymorphic_function.py\u001b[0m in \u001b[0;36m_call\u001b[1;34m(self, *args, **kwds)\u001b[0m\n\u001b[0;32m    910\u001b[0m       \u001b[1;31m# In this case we have created variables on the first call, so we run the\u001b[0m\u001b[1;33m\u001b[0m\u001b[1;33m\u001b[0m\u001b[0m\n\u001b[0;32m    911\u001b[0m       \u001b[1;31m# defunned version which is guaranteed to never create variables.\u001b[0m\u001b[1;33m\u001b[0m\u001b[1;33m\u001b[0m\u001b[0m\n\u001b[1;32m--> 912\u001b[1;33m       \u001b[1;32mreturn\u001b[0m \u001b[0mself\u001b[0m\u001b[1;33m.\u001b[0m\u001b[0m_no_variable_creation_fn\u001b[0m\u001b[1;33m(\u001b[0m\u001b[1;33m*\u001b[0m\u001b[0margs\u001b[0m\u001b[1;33m,\u001b[0m \u001b[1;33m**\u001b[0m\u001b[0mkwds\u001b[0m\u001b[1;33m)\u001b[0m  \u001b[1;31m# pylint: disable=not-callable\u001b[0m\u001b[1;33m\u001b[0m\u001b[1;33m\u001b[0m\u001b[0m\n\u001b[0m\u001b[0;32m    913\u001b[0m     \u001b[1;32melif\u001b[0m \u001b[0mself\u001b[0m\u001b[1;33m.\u001b[0m\u001b[0m_variable_creation_fn\u001b[0m \u001b[1;32mis\u001b[0m \u001b[1;32mnot\u001b[0m \u001b[1;32mNone\u001b[0m\u001b[1;33m:\u001b[0m\u001b[1;33m\u001b[0m\u001b[1;33m\u001b[0m\u001b[0m\n\u001b[0;32m    914\u001b[0m       \u001b[1;31m# Release the lock early so that multiple threads can perform the call\u001b[0m\u001b[1;33m\u001b[0m\u001b[1;33m\u001b[0m\u001b[0m\n",
      "\u001b[1;31mTypeError\u001b[0m: 'NoneType' object is not callable"
     ]
    }
   ],
   "source": [
    "# build and fit best model\n",
    "best_model.build(xtrain.shape)\n",
    "history = best_model.fit(xtrain, ytrain, batch_size=batch_size, epochs=100, validation_data=(xtest, ytest))"
   ]
  },
  {
   "cell_type": "code",
   "execution_count": null,
   "id": "7131bebb",
   "metadata": {},
   "outputs": [],
   "source": [
    "plot_hist(history)"
   ]
  },
  {
   "cell_type": "code",
   "execution_count": null,
   "id": "37ca4161",
   "metadata": {},
   "outputs": [],
   "source": [
    "y_pred = model.predict(xtest)\n",
    "y_pred = np.where(y_pred > 0.5, 1, 0)\n",
    "cm = confusion_matrix(ytest, y_pred)\n",
    "print(\"Accuracy: \", accuracy_score(ytest, y_pred))\n",
    "print(\"\\nConfusion Matrix: \\n\", cm)\n",
    "print(\"\\nclassification_report: \\n\", classification_report(ytest, y_pred))"
   ]
  }
 ],
 "metadata": {
  "kernelspec": {
   "display_name": "Python 3 (ipykernel)",
   "language": "python",
   "name": "python3"
  },
  "language_info": {
   "codemirror_mode": {
    "name": "ipython",
    "version": 3
   },
   "file_extension": ".py",
   "mimetype": "text/x-python",
   "name": "python",
   "nbconvert_exporter": "python",
   "pygments_lexer": "ipython3",
   "version": "3.9.13"
  }
 },
 "nbformat": 4,
 "nbformat_minor": 5
}
