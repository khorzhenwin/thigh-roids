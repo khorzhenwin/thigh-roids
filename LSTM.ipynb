{
 "cells": [
  {
   "cell_type": "markdown",
   "metadata": {},
   "source": [
    "## Data Import\n"
   ]
  },
  {
   "cell_type": "code",
   "execution_count": 1,
   "metadata": {},
   "outputs": [],
   "source": [
    "# import libraries\n",
    "import numpy as np\n",
    "import pandas as pd\n",
    "import matplotlib.pyplot as plt\n",
    "import seaborn as sns\n",
    "import tensorflow as tf\n",
    "import keras_tuner as kt\n",
    "from tensorflow.keras import Sequential\n",
    "from tensorflow.keras.layers import Dense, LSTM, Dropout\n",
    "from tensorflow.keras.metrics import Precision, Recall, AUC, Accuracy\n",
    "from sklearn.preprocessing import MinMaxScaler\n",
    "from sklearn.metrics import (\n",
    "    accuracy_score,\n",
    "    precision_score,\n",
    "    recall_score,\n",
    "    f1_score,\n",
    "    confusion_matrix,\n",
    "    classification_report,\n",
    ")\n",
    "from sklearn.model_selection import train_test_split\n",
    "from sklearn.preprocessing import normalize"
   ]
  },
  {
   "cell_type": "code",
   "execution_count": 2,
   "metadata": {},
   "outputs": [],
   "source": [
    "df_train = pd.read_csv(\"dataset/output/no-oversampling/train.csv\")\n",
    "df_test = pd.read_csv(\"dataset/output/test.csv\")"
   ]
  },
  {
   "cell_type": "code",
   "execution_count": 3,
   "metadata": {},
   "outputs": [
    {
     "data": {
      "text/html": [
       "<div>\n",
       "<style scoped>\n",
       "    .dataframe tbody tr th:only-of-type {\n",
       "        vertical-align: middle;\n",
       "    }\n",
       "\n",
       "    .dataframe tbody tr th {\n",
       "        vertical-align: top;\n",
       "    }\n",
       "\n",
       "    .dataframe thead th {\n",
       "        text-align: right;\n",
       "    }\n",
       "</style>\n",
       "<table border=\"1\" class=\"dataframe\">\n",
       "  <thead>\n",
       "    <tr style=\"text-align: right;\">\n",
       "      <th></th>\n",
       "      <th>sex</th>\n",
       "      <th>pregnant</th>\n",
       "      <th>lithium</th>\n",
       "      <th>TSH</th>\n",
       "      <th>T3_measured</th>\n",
       "      <th>T4U</th>\n",
       "      <th>FTI</th>\n",
       "      <th>TBG_measured</th>\n",
       "      <th>target</th>\n",
       "    </tr>\n",
       "  </thead>\n",
       "  <tbody>\n",
       "    <tr>\n",
       "      <th>0</th>\n",
       "      <td>0</td>\n",
       "      <td>0</td>\n",
       "      <td>0</td>\n",
       "      <td>1.70</td>\n",
       "      <td>1</td>\n",
       "      <td>0.98</td>\n",
       "      <td>99.0</td>\n",
       "      <td>0</td>\n",
       "      <td>1</td>\n",
       "    </tr>\n",
       "    <tr>\n",
       "      <th>1</th>\n",
       "      <td>0</td>\n",
       "      <td>1</td>\n",
       "      <td>0</td>\n",
       "      <td>0.05</td>\n",
       "      <td>1</td>\n",
       "      <td>1.75</td>\n",
       "      <td>165.0</td>\n",
       "      <td>0</td>\n",
       "      <td>1</td>\n",
       "    </tr>\n",
       "    <tr>\n",
       "      <th>2</th>\n",
       "      <td>1</td>\n",
       "      <td>0</td>\n",
       "      <td>0</td>\n",
       "      <td>0.25</td>\n",
       "      <td>1</td>\n",
       "      <td>0.75</td>\n",
       "      <td>166.0</td>\n",
       "      <td>0</td>\n",
       "      <td>1</td>\n",
       "    </tr>\n",
       "    <tr>\n",
       "      <th>3</th>\n",
       "      <td>1</td>\n",
       "      <td>0</td>\n",
       "      <td>0</td>\n",
       "      <td>1.00</td>\n",
       "      <td>1</td>\n",
       "      <td>0.95</td>\n",
       "      <td>101.0</td>\n",
       "      <td>0</td>\n",
       "      <td>1</td>\n",
       "    </tr>\n",
       "    <tr>\n",
       "      <th>4</th>\n",
       "      <td>0</td>\n",
       "      <td>0</td>\n",
       "      <td>0</td>\n",
       "      <td>0.10</td>\n",
       "      <td>0</td>\n",
       "      <td>0.82</td>\n",
       "      <td>145.0</td>\n",
       "      <td>0</td>\n",
       "      <td>0</td>\n",
       "    </tr>\n",
       "  </tbody>\n",
       "</table>\n",
       "</div>"
      ],
      "text/plain": [
       "   sex  pregnant  lithium   TSH  T3_measured   T4U    FTI  TBG_measured  \\\n",
       "0    0         0        0  1.70            1  0.98   99.0             0   \n",
       "1    0         1        0  0.05            1  1.75  165.0             0   \n",
       "2    1         0        0  0.25            1  0.75  166.0             0   \n",
       "3    1         0        0  1.00            1  0.95  101.0             0   \n",
       "4    0         0        0  0.10            0  0.82  145.0             0   \n",
       "\n",
       "   target  \n",
       "0       1  \n",
       "1       1  \n",
       "2       1  \n",
       "3       1  \n",
       "4       0  "
      ]
     },
     "execution_count": 3,
     "metadata": {},
     "output_type": "execute_result"
    }
   ],
   "source": [
    "df_train.head()"
   ]
  },
  {
   "cell_type": "markdown",
   "metadata": {},
   "source": [
    "## Data Preparation\n"
   ]
  },
  {
   "cell_type": "code",
   "execution_count": 4,
   "metadata": {},
   "outputs": [],
   "source": [
    "# split into X_train, y_train, X_test, y_test\n",
    "X_train = df_train.drop(columns=[\"target\"])\n",
    "y_train = df_train[\"target\"]\n",
    "X_test = df_test.drop(columns=[\"target\"])\n",
    "y_test = df_test[\"target\"]"
   ]
  },
  {
   "cell_type": "code",
   "execution_count": 5,
   "metadata": {},
   "outputs": [],
   "source": [
    "# normalize X_train, X_test, y_train, y_test\n",
    "X_train = normalize(X_train)\n",
    "X_test = normalize(X_test)\n",
    "y_train = normalize(y_train.values.reshape(-1, 1))\n",
    "y_test = normalize(y_test.values.reshape(-1, 1))"
   ]
  },
  {
   "cell_type": "markdown",
   "metadata": {},
   "source": [
    "## Helper Functions\n"
   ]
  },
  {
   "cell_type": "code",
   "execution_count": 6,
   "metadata": {},
   "outputs": [],
   "source": [
    "# This plots the auc against iteration to detect overfitting\n",
    "def plot_hist(hist, metric=\"accuracy\"):\n",
    "    plt.plot(hist.history[metric])\n",
    "    plt.plot(hist.history[\"val_\" + metric])\n",
    "    plt.title(f\"model performance\")\n",
    "    plt.ylabel(\"accuracy\")\n",
    "    plt.xlabel(\"epoch\")\n",
    "    plt.legend([\"train\", \"validation\"], loc=\"upper left\")\n",
    "    plt.show()\n",
    "    return"
   ]
  },
  {
   "cell_type": "markdown",
   "metadata": {},
   "source": [
    "## Model Building\n"
   ]
  },
  {
   "cell_type": "markdown",
   "metadata": {},
   "source": [
    "### Base Model\n"
   ]
  },
  {
   "cell_type": "code",
   "execution_count": 7,
   "metadata": {},
   "outputs": [],
   "source": [
    "# create a base LSTM model\n",
    "def create_model():\n",
    "    model = Sequential()\n",
    "    model.add(\n",
    "        LSTM(\n",
    "            units=128,\n",
    "            return_sequences=True,\n",
    "            input_shape=(X_train.shape[1], 1),\n",
    "        )\n",
    "    )\n",
    "    model.add(Dropout(0.2))\n",
    "    model.add(LSTM(units=128))\n",
    "    model.add(Dropout(0.2))\n",
    "    model.add(Dense(1, activation=\"sigmoid\"))\n",
    "    model.compile(\n",
    "        optimizer=\"adam\",\n",
    "        loss=\"binary_crossentropy\",\n",
    "        metrics=[\"accuracy\", Precision(), Recall()],\n",
    "    )\n",
    "    return model"
   ]
  },
  {
   "cell_type": "code",
   "execution_count": 12,
   "metadata": {},
   "outputs": [
    {
     "name": "stdout",
     "output_type": "stream",
     "text": [
      "Epoch 1/100\n",
      "281/281 [==============================] - 18s 35ms/step - loss: 0.6636 - accuracy: 0.6253 - precision_2: 0.3750 - recall_2: 0.0036 - val_loss: 0.6547 - val_accuracy: 0.6450 - val_precision_2: 0.0000e+00 - val_recall_2: 0.0000e+00\n",
      "Epoch 2/100\n",
      "281/281 [==============================] - 8s 29ms/step - loss: 0.6619 - accuracy: 0.6262 - precision_2: 0.0000e+00 - recall_2: 0.0000e+00 - val_loss: 0.6567 - val_accuracy: 0.6450 - val_precision_2: 0.0000e+00 - val_recall_2: 0.0000e+00\n",
      "Epoch 3/100\n",
      "281/281 [==============================] - 8s 29ms/step - loss: 0.6623 - accuracy: 0.6262 - precision_2: 0.0000e+00 - recall_2: 0.0000e+00 - val_loss: 0.6559 - val_accuracy: 0.6450 - val_precision_2: 0.0000e+00 - val_recall_2: 0.0000e+00\n",
      "Epoch 4/100\n",
      "281/281 [==============================] - 7s 25ms/step - loss: 0.6617 - accuracy: 0.6262 - precision_2: 0.0000e+00 - recall_2: 0.0000e+00 - val_loss: 0.6514 - val_accuracy: 0.6450 - val_precision_2: 0.0000e+00 - val_recall_2: 0.0000e+00\n",
      "Epoch 5/100\n",
      "281/281 [==============================] - 7s 26ms/step - loss: 0.6618 - accuracy: 0.6262 - precision_2: 0.0000e+00 - recall_2: 0.0000e+00 - val_loss: 0.6505 - val_accuracy: 0.6450 - val_precision_2: 0.0000e+00 - val_recall_2: 0.0000e+00\n",
      "Epoch 6/100\n",
      "281/281 [==============================] - 7s 25ms/step - loss: 0.6614 - accuracy: 0.6262 - precision_2: 0.0000e+00 - recall_2: 0.0000e+00 - val_loss: 0.6506 - val_accuracy: 0.6450 - val_precision_2: 0.0000e+00 - val_recall_2: 0.0000e+00\n",
      "Epoch 7/100\n",
      "281/281 [==============================] - 7s 25ms/step - loss: 0.6615 - accuracy: 0.6262 - precision_2: 0.0000e+00 - recall_2: 0.0000e+00 - val_loss: 0.6523 - val_accuracy: 0.6450 - val_precision_2: 0.0000e+00 - val_recall_2: 0.0000e+00\n",
      "Epoch 8/100\n",
      "281/281 [==============================] - 7s 25ms/step - loss: 0.6611 - accuracy: 0.6262 - precision_2: 0.0000e+00 - recall_2: 0.0000e+00 - val_loss: 0.6502 - val_accuracy: 0.6450 - val_precision_2: 0.0000e+00 - val_recall_2: 0.0000e+00\n",
      "Epoch 9/100\n",
      "281/281 [==============================] - 7s 26ms/step - loss: 0.6609 - accuracy: 0.6262 - precision_2: 0.0000e+00 - recall_2: 0.0000e+00 - val_loss: 0.6500 - val_accuracy: 0.6450 - val_precision_2: 0.0000e+00 - val_recall_2: 0.0000e+00\n",
      "Epoch 10/100\n",
      "281/281 [==============================] - 7s 25ms/step - loss: 0.6608 - accuracy: 0.6262 - precision_2: 0.0000e+00 - recall_2: 0.0000e+00 - val_loss: 0.6490 - val_accuracy: 0.6450 - val_precision_2: 0.0000e+00 - val_recall_2: 0.0000e+00\n",
      "Epoch 11/100\n",
      "281/281 [==============================] - 7s 25ms/step - loss: 0.6611 - accuracy: 0.6262 - precision_2: 0.0000e+00 - recall_2: 0.0000e+00 - val_loss: 0.6491 - val_accuracy: 0.6450 - val_precision_2: 0.0000e+00 - val_recall_2: 0.0000e+00\n",
      "Epoch 12/100\n",
      "281/281 [==============================] - 10s 34ms/step - loss: 0.6588 - accuracy: 0.6276 - precision_2: 0.6667 - recall_2: 0.0072 - val_loss: 0.6458 - val_accuracy: 0.6450 - val_precision_2: 0.0000e+00 - val_recall_2: 0.0000e+00\n",
      "Epoch 13/100\n",
      "281/281 [==============================] - 8s 27ms/step - loss: 0.6543 - accuracy: 0.6358 - precision_2: 0.6483 - recall_2: 0.0561 - val_loss: 0.6385 - val_accuracy: 0.6583 - val_precision_2: 0.6442 - val_recall_2: 0.0842\n",
      "Epoch 14/100\n",
      "281/281 [==============================] - 7s 26ms/step - loss: 0.6517 - accuracy: 0.6415 - precision_2: 0.6499 - recall_2: 0.0886 - val_loss: 0.6405 - val_accuracy: 0.6508 - val_precision_2: 0.6275 - val_recall_2: 0.0402\n",
      "Epoch 15/100\n",
      "281/281 [==============================] - 7s 25ms/step - loss: 0.6507 - accuracy: 0.6396 - precision_2: 0.6351 - recall_2: 0.0841 - val_loss: 0.6456 - val_accuracy: 0.6686 - val_precision_2: 0.6480 - val_recall_2: 0.1457\n",
      "Epoch 16/100\n",
      "281/281 [==============================] - 9s 33ms/step - loss: 0.6501 - accuracy: 0.6424 - precision_2: 0.6325 - recall_2: 0.1032 - val_loss: 0.6399 - val_accuracy: 0.6570 - val_precision_2: 0.6627 - val_recall_2: 0.0691\n",
      "Epoch 17/100\n",
      "281/281 [==============================] - 9s 30ms/step - loss: 0.6517 - accuracy: 0.6387 - precision_2: 0.6353 - recall_2: 0.0785 - val_loss: 0.6399 - val_accuracy: 0.6637 - val_precision_2: 0.6438 - val_recall_2: 0.1181\n",
      "Epoch 18/100\n",
      "281/281 [==============================] - 9s 31ms/step - loss: 0.6498 - accuracy: 0.6417 - precision_2: 0.6329 - recall_2: 0.0987 - val_loss: 0.6384 - val_accuracy: 0.6628 - val_precision_2: 0.6493 - val_recall_2: 0.1093\n",
      "Epoch 19/100\n",
      "281/281 [==============================] - 9s 31ms/step - loss: 0.6490 - accuracy: 0.6446 - precision_2: 0.6435 - recall_2: 0.1104 - val_loss: 0.6376 - val_accuracy: 0.6592 - val_precision_2: 0.6455 - val_recall_2: 0.0892\n",
      "Epoch 20/100\n",
      "281/281 [==============================] - 8s 28ms/step - loss: 0.6489 - accuracy: 0.6453 - precision_2: 0.6359 - recall_2: 0.1193 - val_loss: 0.6387 - val_accuracy: 0.6539 - val_precision_2: 0.6429 - val_recall_2: 0.0565\n",
      "Epoch 21/100\n",
      "281/281 [==============================] - 8s 30ms/step - loss: 0.6502 - accuracy: 0.6395 - precision_2: 0.5903 - recall_2: 0.1161 - val_loss: 0.6457 - val_accuracy: 0.6450 - val_precision_2: 0.0000e+00 - val_recall_2: 0.0000e+00\n",
      "Epoch 22/100\n",
      "281/281 [==============================] - 9s 33ms/step - loss: 0.6502 - accuracy: 0.6415 - precision_2: 0.6539 - recall_2: 0.0868 - val_loss: 0.6365 - val_accuracy: 0.6637 - val_precision_2: 0.6419 - val_recall_2: 0.1193\n",
      "Epoch 23/100\n",
      "281/281 [==============================] - 8s 28ms/step - loss: 0.6485 - accuracy: 0.6452 - precision_2: 0.6284 - recall_2: 0.1241 - val_loss: 0.6365 - val_accuracy: 0.6592 - val_precision_2: 0.6455 - val_recall_2: 0.0892\n",
      "Epoch 24/100\n",
      "281/281 [==============================] - 9s 33ms/step - loss: 0.6477 - accuracy: 0.6455 - precision_2: 0.6252 - recall_2: 0.1289 - val_loss: 0.6357 - val_accuracy: 0.6632 - val_precision_2: 0.6565 - val_recall_2: 0.1080\n",
      "Epoch 25/100\n",
      "281/281 [==============================] - 8s 29ms/step - loss: 0.6494 - accuracy: 0.6444 - precision_2: 0.6226 - recall_2: 0.1235 - val_loss: 0.6365 - val_accuracy: 0.6664 - val_precision_2: 0.6500 - val_recall_2: 0.1307\n",
      "Epoch 26/100\n",
      "281/281 [==============================] - 8s 29ms/step - loss: 0.6481 - accuracy: 0.6455 - precision_2: 0.6234 - recall_2: 0.1304 - val_loss: 0.6354 - val_accuracy: 0.6704 - val_precision_2: 0.6145 - val_recall_2: 0.1922\n",
      "Epoch 27/100\n",
      "281/281 [==============================] - 9s 31ms/step - loss: 0.6477 - accuracy: 0.6457 - precision_2: 0.6159 - recall_2: 0.1387 - val_loss: 0.6338 - val_accuracy: 0.6682 - val_precision_2: 0.6461 - val_recall_2: 0.1445\n",
      "Epoch 28/100\n",
      "281/281 [==============================] - 8s 29ms/step - loss: 0.6479 - accuracy: 0.6454 - precision_2: 0.6162 - recall_2: 0.1360 - val_loss: 0.6357 - val_accuracy: 0.6601 - val_precision_2: 0.6518 - val_recall_2: 0.0917\n",
      "Epoch 29/100\n",
      "281/281 [==============================] - 9s 34ms/step - loss: 0.6488 - accuracy: 0.6452 - precision_2: 0.6197 - recall_2: 0.1313 - val_loss: 0.6352 - val_accuracy: 0.6646 - val_precision_2: 0.6486 - val_recall_2: 0.1206\n",
      "Epoch 30/100\n",
      "281/281 [==============================] - 10s 37ms/step - loss: 0.6479 - accuracy: 0.6461 - precision_2: 0.6219 - recall_2: 0.1354 - val_loss: 0.6349 - val_accuracy: 0.6695 - val_precision_2: 0.6440 - val_recall_2: 0.1545\n",
      "Epoch 31/100\n",
      "281/281 [==============================] - 9s 31ms/step - loss: 0.6470 - accuracy: 0.6452 - precision_2: 0.6081 - recall_2: 0.1426 - val_loss: 0.6333 - val_accuracy: 0.6659 - val_precision_2: 0.6424 - val_recall_2: 0.1332\n",
      "Epoch 32/100\n",
      "281/281 [==============================] - 10s 37ms/step - loss: 0.6480 - accuracy: 0.6461 - precision_2: 0.6168 - recall_2: 0.1402 - val_loss: 0.6365 - val_accuracy: 0.6619 - val_precision_2: 0.6462 - val_recall_2: 0.1055\n",
      "Epoch 33/100\n",
      "281/281 [==============================] - 10s 36ms/step - loss: 0.6476 - accuracy: 0.6451 - precision_2: 0.6140 - recall_2: 0.1357 - val_loss: 0.6359 - val_accuracy: 0.6677 - val_precision_2: 0.6441 - val_recall_2: 0.1432\n",
      "Epoch 34/100\n",
      "281/281 [==============================] - 13s 46ms/step - loss: 0.6470 - accuracy: 0.6483 - precision_2: 0.6244 - recall_2: 0.1483 - val_loss: 0.6344 - val_accuracy: 0.6695 - val_precision_2: 0.6170 - val_recall_2: 0.1822\n",
      "Epoch 35/100\n",
      "281/281 [==============================] - 13s 45ms/step - loss: 0.6476 - accuracy: 0.6460 - precision_2: 0.6083 - recall_2: 0.1483 - val_loss: 0.6351 - val_accuracy: 0.6686 - val_precision_2: 0.6448 - val_recall_2: 0.1482\n",
      "Epoch 36/100\n",
      "281/281 [==============================] - 10s 35ms/step - loss: 0.6464 - accuracy: 0.6475 - precision_2: 0.6146 - recall_2: 0.1527 - val_loss: 0.6339 - val_accuracy: 0.6646 - val_precision_2: 0.6507 - val_recall_2: 0.1193\n",
      "Epoch 37/100\n",
      "281/281 [==============================] - 8s 30ms/step - loss: 0.6473 - accuracy: 0.6442 - precision_2: 0.6033 - recall_2: 0.1402 - val_loss: 0.6378 - val_accuracy: 0.6699 - val_precision_2: 0.6077 - val_recall_2: 0.1985\n",
      "Epoch 38/100\n",
      "281/281 [==============================] - 8s 27ms/step - loss: 0.6474 - accuracy: 0.6455 - precision_2: 0.6024 - recall_2: 0.1518 - val_loss: 0.6344 - val_accuracy: 0.6641 - val_precision_2: 0.6483 - val_recall_2: 0.1181\n",
      "Epoch 39/100\n",
      "281/281 [==============================] - 8s 28ms/step - loss: 0.6479 - accuracy: 0.6462 - precision_2: 0.6080 - recall_2: 0.1504 - val_loss: 0.6354 - val_accuracy: 0.6677 - val_precision_2: 0.6067 - val_recall_2: 0.1822\n",
      "Epoch 40/100\n",
      "281/281 [==============================] - 8s 30ms/step - loss: 0.6471 - accuracy: 0.6462 - precision_2: 0.6072 - recall_2: 0.1513 - val_loss: 0.6349 - val_accuracy: 0.6690 - val_precision_2: 0.6452 - val_recall_2: 0.1508\n",
      "Epoch 41/100\n",
      "281/281 [==============================] - 8s 30ms/step - loss: 0.6469 - accuracy: 0.6448 - precision_2: 0.5995 - recall_2: 0.1501 - val_loss: 0.6334 - val_accuracy: 0.6695 - val_precision_2: 0.6122 - val_recall_2: 0.1884\n"
     ]
    }
   ],
   "source": [
    "# initialize model and fit to data\n",
    "model = create_model()\n",
    "history = model.fit(\n",
    "    X_train,\n",
    "    y_train,\n",
    "    epochs=100,\n",
    "    batch_size=32,\n",
    "    validation_data=(X_test, y_test),\n",
    "    callbacks=[tf.keras.callbacks.EarlyStopping(patience=10)],\n",
    ")"
   ]
  },
  {
   "cell_type": "code",
   "execution_count": 13,
   "metadata": {},
   "outputs": [
    {
     "data": {
      "image/png": "[encoded data removed]",
      "text/plain": [
       "<Figure size 640x480 with 1 Axes>"
      ]
     },
     "metadata": {},
     "output_type": "display_data"
    }
   ],
   "source": [
    "plot_hist(history)"
   ]
  },
  {
   "cell_type": "code",
   "execution_count": 14,
   "metadata": {},
   "outputs": [
    {
     "name": "stdout",
     "output_type": "stream",
     "text": [
      "71/71 [==============================] - 2s 11ms/step\n",
      "Accuracy:  0.6694915254237288\n",
      "\n",
      "Confusion Matrix: \n",
      " [[1351   95]\n",
      " [ 646  150]]\n",
      "\n",
      "classification_report: \n",
      "               precision    recall  f1-score   support\n",
      "\n",
      "         0.0       0.68      0.93      0.78      1446\n",
      "         1.0       0.61      0.19      0.29       796\n",
      "\n",
      "    accuracy                           0.67      2242\n",
      "   macro avg       0.64      0.56      0.54      2242\n",
      "weighted avg       0.65      0.67      0.61      2242\n",
      "\n"
     ]
    }
   ],
   "source": [
    "# print confusion matrix and accuracy\n",
    "y_pred = model.predict(X_test)\n",
    "y_pred = np.where(y_pred > 0.5, 1, 0)\n",
    "cm = confusion_matrix(y_test, y_pred)\n",
    "print(\"Accuracy: \", accuracy_score(y_test, y_pred))\n",
    "print(\"\\nConfusion Matrix: \\n\", cm)\n",
    "print(\"\\nclassification_report: \\n\", classification_report(y_test, y_pred))"
   ]
  },
  {
   "cell_type": "code",
   "execution_count": 15,
   "metadata": {},
   "outputs": [
    {
     "name": "stdout",
     "output_type": "stream",
     "text": [
      "Model: \"sequential_2\"\n",
      "_________________________________________________________________\n",
      " Layer (type)                Output Shape              Param #   \n",
      "=================================================================\n",
      " lstm_4 (LSTM)               (None, 8, 128)            66560     \n",
      "                                                                 \n",
      " dropout_4 (Dropout)         (None, 8, 128)            0         \n",
      "                                                                 \n",
      " lstm_5 (LSTM)               (None, 128)               131584    \n",
      "                                                                 \n",
      " dropout_5 (Dropout)         (None, 128)               0         \n",
      "                                                                 \n",
      " dense_2 (Dense)             (None, 1)                 129       \n",
      "                                                                 \n",
      "=================================================================\n",
      "Total params: 198,273\n",
      "Trainable params: 198,273\n",
      "Non-trainable params: 0\n",
      "_________________________________________________________________\n"
     ]
    }
   ],
   "source": [
    "model.summary()"
   ]
  },
  {
   "cell_type": "markdown",
   "metadata": {},
   "source": [
    "### Tuned Model\n"
   ]
  },
  {
   "cell_type": "code",
   "execution_count": 32,
   "metadata": {},
   "outputs": [],
   "source": [
    "def model_builder(hp):\n",
    "    model = Sequential()\n",
    "    model.add(\n",
    "        LSTM(\n",
    "            units=hp.Int(\"units\", min_value=32, max_value=256, step=32),\n",
    "            return_sequences=True,\n",
    "            input_shape=(X_train.shape[1], 1),\n",
    "        )\n",
    "    )\n",
    "    model.add(Dropout(hp.Float(\"dropout\", min_value=0.2, max_value=0.5, step=0.1)))\n",
    "    model.add(LSTM(units=hp.Int(\"units\", min_value=32, max_value=256, step=32)))\n",
    "    model.add(Dropout(hp.Float(\"dropout\", min_value=0.2, max_value=0.5, step=0.1)))\n",
    "    model.add(\n",
    "        Dense(1, activation=hp.Choice(\n",
    "            \"dense_activation\", [\"tanh\", \"relu\", \"sigmoid\"]))\n",
    "    )\n",
    "    model.compile(\n",
    "        optimizer=hp.Choice(\"optimizer\", [\"adam\", \"rmsprop\", \"sgd\"]),\n",
    "        loss=\"binary_crossentropy\",\n",
    "        metrics=[\"accuracy\", Precision(), Recall()],\n",
    "    )\n",
    "    return model"
   ]
  },
  {
   "cell_type": "code",
   "execution_count": 33,
   "metadata": {},
   "outputs": [
    {
     "name": "stdout",
     "output_type": "stream",
     "text": [
      "INFO:tensorflow:Reloading Tuner from tuned_models\\lstm\\tuner0.json\n",
      "INFO:tensorflow:Oracle triggered exit\n"
     ]
    }
   ],
   "source": [
    "# RandomSearch to find the best hyperparameters\n",
    "tuner = kt.RandomSearch(\n",
    "    model_builder,\n",
    "    objective=\"accuracy\",\n",
    "    max_trials=20,\n",
    "    executions_per_trial=3,\n",
    "    directory=\"tuned_models\",\n",
    "    project_name=\"lstm\",\n",
    ")\n",
    "\n",
    "tuner.search(\n",
    "    X_train,\n",
    "    y_train,\n",
    "    validation_data=(X_test, y_test),\n",
    "    callbacks=[tf.keras.callbacks.EarlyStopping(patience=5)],\n",
    ")"
   ]
  },
  {
   "cell_type": "code",
   "execution_count": 34,
   "metadata": {},
   "outputs": [
    {
     "data": {
      "text/plain": [
       "{'units': 128,\n",
       " 'dropout': 0.2,\n",
       " 'dense_activation': 'sigmoid',\n",
       " 'optimizer': 'sgd'}"
      ]
     },
     "execution_count": 34,
     "metadata": {},
     "output_type": "execute_result"
    }
   ],
   "source": [
    "# get params of best model\n",
    "best_hps = tuner.get_best_hyperparameters(num_trials=1)[0]\n",
    "best_hps.values"
   ]
  },
  {
   "cell_type": "code",
   "execution_count": 35,
   "metadata": {},
   "outputs": [
    {
     "name": "stdout",
     "output_type": "stream",
     "text": [
      "Model: \"sequential\"\n",
      "_________________________________________________________________\n",
      " Layer (type)                Output Shape              Param #   \n",
      "=================================================================\n",
      " lstm (LSTM)                 (None, 8, 128)            66560     \n",
      "                                                                 \n",
      " dropout (Dropout)           (None, 8, 128)            0         \n",
      "                                                                 \n",
      " lstm_1 (LSTM)               (None, 128)               131584    \n",
      "                                                                 \n",
      " dropout_1 (Dropout)         (None, 128)               0         \n",
      "                                                                 \n",
      " dense (Dense)               (None, 1)                 129       \n",
      "                                                                 \n",
      "=================================================================\n",
      "Total params: 198,273\n",
      "Trainable params: 198,273\n",
      "Non-trainable params: 0\n",
      "_________________________________________________________________\n"
     ]
    }
   ],
   "source": [
    "# get best model\n",
    "best_model = tuner.get_best_models(num_models=1)[0]\n",
    "best_model.summary()"
   ]
  },
  {
   "cell_type": "code",
   "execution_count": 36,
   "metadata": {},
   "outputs": [
    {
     "name": "stdout",
     "output_type": "stream",
     "text": [
      "Epoch 1/100\n",
      "281/281 [==============================] - 20s 56ms/step - loss: 0.6612 - accuracy: 0.6262 - precision: 0.0000e+00 - recall: 0.0000e+00 - val_loss: 0.6509 - val_accuracy: 0.6450 - val_precision: 0.0000e+00 - val_recall: 0.0000e+00\n",
      "Epoch 2/100\n",
      "281/281 [==============================] - 15s 52ms/step - loss: 0.6611 - accuracy: 0.6262 - precision: 0.0000e+00 - recall: 0.0000e+00 - val_loss: 0.6513 - val_accuracy: 0.6450 - val_precision: 0.0000e+00 - val_recall: 0.0000e+00\n",
      "Epoch 3/100\n",
      "281/281 [==============================] - 14s 49ms/step - loss: 0.6610 - accuracy: 0.6262 - precision: 0.0000e+00 - recall: 0.0000e+00 - val_loss: 0.6512 - val_accuracy: 0.6450 - val_precision: 0.0000e+00 - val_recall: 0.0000e+00\n",
      "Epoch 4/100\n",
      "281/281 [==============================] - 15s 53ms/step - loss: 0.6609 - accuracy: 0.6262 - precision: 0.0000e+00 - recall: 0.0000e+00 - val_loss: 0.6510 - val_accuracy: 0.6450 - val_precision: 0.0000e+00 - val_recall: 0.0000e+00\n",
      "Epoch 5/100\n",
      "281/281 [==============================] - 16s 57ms/step - loss: 0.6611 - accuracy: 0.6262 - precision: 0.0000e+00 - recall: 0.0000e+00 - val_loss: 0.6512 - val_accuracy: 0.6450 - val_precision: 0.0000e+00 - val_recall: 0.0000e+00\n",
      "Epoch 6/100\n",
      "281/281 [==============================] - 15s 53ms/step - loss: 0.6610 - accuracy: 0.6262 - precision: 0.0000e+00 - recall: 0.0000e+00 - val_loss: 0.6510 - val_accuracy: 0.6450 - val_precision: 0.0000e+00 - val_recall: 0.0000e+00\n",
      "Epoch 7/100\n",
      "281/281 [==============================] - 14s 51ms/step - loss: 0.6611 - accuracy: 0.6262 - precision: 0.0000e+00 - recall: 0.0000e+00 - val_loss: 0.6517 - val_accuracy: 0.6450 - val_precision: 0.0000e+00 - val_recall: 0.0000e+00\n",
      "Epoch 8/100\n",
      "281/281 [==============================] - 15s 55ms/step - loss: 0.6611 - accuracy: 0.6262 - precision: 0.0000e+00 - recall: 0.0000e+00 - val_loss: 0.6512 - val_accuracy: 0.6450 - val_precision: 0.0000e+00 - val_recall: 0.0000e+00\n",
      "Epoch 9/100\n",
      "281/281 [==============================] - 15s 52ms/step - loss: 0.6611 - accuracy: 0.6262 - precision: 0.0000e+00 - recall: 0.0000e+00 - val_loss: 0.6510 - val_accuracy: 0.6450 - val_precision: 0.0000e+00 - val_recall: 0.0000e+00\n",
      "Epoch 10/100\n",
      "281/281 [==============================] - 16s 58ms/step - loss: 0.6610 - accuracy: 0.6262 - precision: 0.0000e+00 - recall: 0.0000e+00 - val_loss: 0.6513 - val_accuracy: 0.6450 - val_precision: 0.0000e+00 - val_recall: 0.0000e+00\n",
      "Epoch 11/100\n",
      "281/281 [==============================] - 15s 53ms/step - loss: 0.6609 - accuracy: 0.6262 - precision: 0.0000e+00 - recall: 0.0000e+00 - val_loss: 0.6511 - val_accuracy: 0.6450 - val_precision: 0.0000e+00 - val_recall: 0.0000e+00\n"
     ]
    }
   ],
   "source": [
    "# build and fit best model\n",
    "best_model.build(X_train.shape)\n",
    "history = best_model.fit(\n",
    "    X_train,\n",
    "    y_train,\n",
    "    epochs=100,\n",
    "    batch_size=32,\n",
    "    validation_data=(X_test, y_test),\n",
    "    callbacks=[tf.keras.callbacks.EarlyStopping(patience=10)],\n",
    ")"
   ]
  },
  {
   "cell_type": "code",
   "execution_count": 37,
   "metadata": {},
   "outputs": [
    {
     "name": "stdout",
     "output_type": "stream",
     "text": [
      "71/71 [==============================] - 2s 15ms/step\n",
      "Accuracy:  0.6449598572702944\n",
      "\n",
      "Confusion Matrix: \n",
      " [[1446    0]\n",
      " [ 796    0]]\n",
      "\n",
      "classification_report: \n",
      "               precision    recall  f1-score   support\n",
      "\n",
      "         0.0       0.64      1.00      0.78      1446\n",
      "         1.0       0.00      0.00      0.00       796\n",
      "\n",
      "    accuracy                           0.64      2242\n",
      "   macro avg       0.32      0.50      0.39      2242\n",
      "weighted avg       0.42      0.64      0.51      2242\n",
      "\n"
     ]
    },
    {
     "name": "stderr",
     "output_type": "stream",
     "text": [
      "d:\\anaconda3\\lib\\site-packages\\sklearn\\metrics\\_classification.py:1344: UndefinedMetricWarning: Precision and F-score are ill-defined and being set to 0.0 in labels with no predicted samples. Use `zero_division` parameter to control this behavior.\n",
      "  _warn_prf(average, modifier, msg_start, len(result))\n",
      "d:\\anaconda3\\lib\\site-packages\\sklearn\\metrics\\_classification.py:1344: UndefinedMetricWarning: Precision and F-score are ill-defined and being set to 0.0 in labels with no predicted samples. Use `zero_division` parameter to control this behavior.\n",
      "  _warn_prf(average, modifier, msg_start, len(result))\n",
      "d:\\anaconda3\\lib\\site-packages\\sklearn\\metrics\\_classification.py:1344: UndefinedMetricWarning: Precision and F-score are ill-defined and being set to 0.0 in labels with no predicted samples. Use `zero_division` parameter to control this behavior.\n",
      "  _warn_prf(average, modifier, msg_start, len(result))\n"
     ]
    }
   ],
   "source": [
    "# print confusion matrix and accuracy for best model\n",
    "y_pred = best_model.predict(X_test)\n",
    "y_pred = np.where(y_pred > 0.5, 1, 0)\n",
    "cm = confusion_matrix(y_test, y_pred)\n",
    "print(\"Accuracy: \", accuracy_score(y_test, y_pred))\n",
    "print(\"\\nConfusion Matrix: \\n\", cm)\n",
    "print(\"\\nclassification_report: \\n\", classification_report(y_test, y_pred))"
   ]
  },
  {
   "cell_type": "code",
   "execution_count": 38,
   "metadata": {},
   "outputs": [
    {
     "data": {
      "image/png": "[encoded data removed]",
      "text/plain": [
       "<Figure size 640x480 with 1 Axes>"
      ]
     },
     "metadata": {},
     "output_type": "display_data"
    }
   ],
   "source": [
    "plot_hist(history)"
   ]
  },
  {
   "cell_type": "code",
   "execution_count": null,
   "metadata": {},
   "outputs": [],
   "source": []
  }
 ],
 "metadata": {
  "kernelspec": {
   "display_name": "base",
   "language": "python",
   "name": "python3"
  },
  "language_info": {
   "codemirror_mode": {
    "name": "ipython",
    "version": 3
   },
   "file_extension": ".py",
   "mimetype": "text/x-python",
   "name": "python",
   "nbconvert_exporter": "python",
   "pygments_lexer": "ipython3",
   "version": "3.10.9"
  },
  "orig_nbformat": 4
 },
 "nbformat": 4,
 "nbformat_minor": 2
}
