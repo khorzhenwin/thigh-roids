{
 "cells": [
  {
   "cell_type": "markdown",
   "metadata": {},
   "source": [
    "## Data Import\n"
   ]
  },
  {
   "cell_type": "code",
   "execution_count": 1,
   "metadata": {},
   "outputs": [],
   "source": [
    "# import libraries\n",
    "import numpy as np\n",
    "import pandas as pd\n",
    "import matplotlib.pyplot as plt\n",
    "import seaborn as sns\n",
    "import tensorflow as tf\n",
    "import keras_tuner as kt\n",
    "from tensorflow.keras import Sequential\n",
    "from tensorflow.keras.layers import Dense, LSTM, Dropout\n",
    "from tensorflow.keras.metrics import Precision, Recall, AUC, Accuracy\n",
    "from sklearn.preprocessing import MinMaxScaler\n",
    "from sklearn.metrics import (\n",
    "    accuracy_score,\n",
    "    precision_score,\n",
    "    recall_score,\n",
    "    f1_score,\n",
    "    confusion_matrix,\n",
    "    classification_report,\n",
    ")\n",
    "from sklearn.model_selection import train_test_split\n",
    "from sklearn.preprocessing import normalize"
   ]
  },
  {
   "cell_type": "code",
   "execution_count": 2,
   "metadata": {},
   "outputs": [],
   "source": [
    "df_train = pd.read_csv(\"dataset/output/train.csv\")\n",
    "df_test = pd.read_csv(\"dataset/output/test.csv\")"
   ]
  },
  {
   "cell_type": "code",
   "execution_count": 3,
   "metadata": {},
   "outputs": [
    {
     "data": {
      "text/html": [
       "<div>\n",
       "<style scoped>\n",
       "    .dataframe tbody tr th:only-of-type {\n",
       "        vertical-align: middle;\n",
       "    }\n",
       "\n",
       "    .dataframe tbody tr th {\n",
       "        vertical-align: top;\n",
       "    }\n",
       "\n",
       "    .dataframe thead th {\n",
       "        text-align: right;\n",
       "    }\n",
       "</style>\n",
       "<table border=\"1\" class=\"dataframe\">\n",
       "  <thead>\n",
       "    <tr style=\"text-align: right;\">\n",
       "      <th></th>\n",
       "      <th>pregnant</th>\n",
       "      <th>lithium</th>\n",
       "      <th>TSH</th>\n",
       "      <th>T3_measured</th>\n",
       "      <th>TT4</th>\n",
       "      <th>T4U</th>\n",
       "      <th>TBG_measured</th>\n",
       "      <th>target</th>\n",
       "    </tr>\n",
       "  </thead>\n",
       "  <tbody>\n",
       "    <tr>\n",
       "      <th>0</th>\n",
       "      <td>0</td>\n",
       "      <td>1</td>\n",
       "      <td>1.70</td>\n",
       "      <td>1</td>\n",
       "      <td>120.0</td>\n",
       "      <td>1.18</td>\n",
       "      <td>0</td>\n",
       "      <td>0</td>\n",
       "    </tr>\n",
       "    <tr>\n",
       "      <th>1</th>\n",
       "      <td>0</td>\n",
       "      <td>0</td>\n",
       "      <td>1.20</td>\n",
       "      <td>1</td>\n",
       "      <td>95.0</td>\n",
       "      <td>1.10</td>\n",
       "      <td>0</td>\n",
       "      <td>1</td>\n",
       "    </tr>\n",
       "    <tr>\n",
       "      <th>2</th>\n",
       "      <td>0</td>\n",
       "      <td>0</td>\n",
       "      <td>1.40</td>\n",
       "      <td>1</td>\n",
       "      <td>130.0</td>\n",
       "      <td>0.93</td>\n",
       "      <td>0</td>\n",
       "      <td>1</td>\n",
       "    </tr>\n",
       "    <tr>\n",
       "      <th>3</th>\n",
       "      <td>0</td>\n",
       "      <td>0</td>\n",
       "      <td>0.08</td>\n",
       "      <td>0</td>\n",
       "      <td>142.0</td>\n",
       "      <td>0.93</td>\n",
       "      <td>0</td>\n",
       "      <td>0</td>\n",
       "    </tr>\n",
       "    <tr>\n",
       "      <th>4</th>\n",
       "      <td>0</td>\n",
       "      <td>0</td>\n",
       "      <td>1.90</td>\n",
       "      <td>0</td>\n",
       "      <td>123.0</td>\n",
       "      <td>1.16</td>\n",
       "      <td>0</td>\n",
       "      <td>0</td>\n",
       "    </tr>\n",
       "  </tbody>\n",
       "</table>\n",
       "</div>"
      ],
      "text/plain": [
       "   pregnant  lithium   TSH  T3_measured    TT4   T4U  TBG_measured  target\n",
       "0         0        1  1.70            1  120.0  1.18             0       0\n",
       "1         0        0  1.20            1   95.0  1.10             0       1\n",
       "2         0        0  1.40            1  130.0  0.93             0       1\n",
       "3         0        0  0.08            0  142.0  0.93             0       0\n",
       "4         0        0  1.90            0  123.0  1.16             0       0"
      ]
     },
     "execution_count": 3,
     "metadata": {},
     "output_type": "execute_result"
    }
   ],
   "source": [
    "df_train.head()"
   ]
  },
  {
   "cell_type": "markdown",
   "metadata": {},
   "source": [
    "## Data Preparation\n"
   ]
  },
  {
   "cell_type": "code",
   "execution_count": 4,
   "metadata": {},
   "outputs": [],
   "source": [
    "# split into X_train, y_train, X_test, y_test\n",
    "X_train = df_train.drop(columns=[\"target\"])\n",
    "y_train = df_train[\"target\"]\n",
    "X_test = df_test.drop(columns=[\"target\"])\n",
    "y_test = df_test[\"target\"]"
   ]
  },
  {
   "cell_type": "code",
   "execution_count": 5,
   "metadata": {},
   "outputs": [],
   "source": [
    "# normalize X_train, X_test, y_train, y_test\n",
    "X_train = normalize(X_train)\n",
    "X_test = normalize(X_test)\n",
    "y_train = normalize(y_train.values.reshape(-1, 1))\n",
    "y_test = normalize(y_test.values.reshape(-1, 1))"
   ]
  },
  {
   "cell_type": "markdown",
   "metadata": {},
   "source": [
    "## Helper Functions\n"
   ]
  },
  {
   "cell_type": "code",
   "execution_count": 6,
   "metadata": {},
   "outputs": [],
   "source": [
    "# This plots the auc against iteration to detect overfitting\n",
    "def plot_hist(hist, metric=\"accuracy\"):\n",
    "    plt.plot(hist.history[metric])\n",
    "    plt.plot(hist.history[\"val_\" + metric])\n",
    "    plt.title(f\"model performance\")\n",
    "    plt.ylabel(\"accuracy\")\n",
    "    plt.xlabel(\"epoch\")\n",
    "    plt.legend([\"train\", \"validation\"], loc=\"upper left\")\n",
    "    plt.show()\n",
    "    return"
   ]
  },
  {
   "cell_type": "markdown",
   "metadata": {},
   "source": [
    "## Model Building\n"
   ]
  },
  {
   "cell_type": "markdown",
   "metadata": {},
   "source": [
    "### Base Model\n"
   ]
  },
  {
   "cell_type": "code",
   "execution_count": 7,
   "metadata": {},
   "outputs": [],
   "source": [
    "# create a base LSTM model\n",
    "def create_model():\n",
    "    model = Sequential()\n",
    "    model.add(\n",
    "        LSTM(\n",
    "            units=128,\n",
    "            return_sequences=True,\n",
    "            input_shape=(X_train.shape[1], 1),\n",
    "        )\n",
    "    )\n",
    "    model.add(Dropout(0.2))\n",
    "    model.add(LSTM(units=128))\n",
    "    model.add(Dropout(0.2))\n",
    "    model.add(Dense(1, activation=\"sigmoid\"))\n",
    "    model.compile(\n",
    "        optimizer=\"adam\",\n",
    "        loss=\"binary_crossentropy\",\n",
    "        metrics=[\"accuracy\", Precision(), Recall()],\n",
    "    )\n",
    "    return model"
   ]
  },
  {
   "cell_type": "code",
   "execution_count": 8,
   "metadata": {},
   "outputs": [
    {
     "name": "stdout",
     "output_type": "stream",
     "text": [
      "Epoch 1/100\n",
      "340/340 [==============================] - 12s 18ms/step - loss: 0.6938 - accuracy: 0.4985 - precision: 0.4982 - recall: 0.4115 - val_loss: 0.6941 - val_accuracy: 0.3525 - val_precision: 0.3525 - val_recall: 1.0000\n",
      "Epoch 2/100\n",
      "340/340 [==============================] - 5s 14ms/step - loss: 0.6934 - accuracy: 0.4974 - precision: 0.4977 - recall: 0.5466 - val_loss: 0.6870 - val_accuracy: 0.6475 - val_precision: 0.0000e+00 - val_recall: 0.0000e+00\n",
      "Epoch 3/100\n",
      "340/340 [==============================] - 7s 21ms/step - loss: 0.6933 - accuracy: 0.5054 - precision: 0.5070 - recall: 0.3918 - val_loss: 0.6990 - val_accuracy: 0.3525 - val_precision: 0.3525 - val_recall: 1.0000\n",
      "Epoch 4/100\n",
      "340/340 [==============================] - 6s 18ms/step - loss: 0.6932 - accuracy: 0.5063 - precision: 0.5061 - recall: 0.5238 - val_loss: 0.6939 - val_accuracy: 0.3525 - val_precision: 0.3525 - val_recall: 1.0000\n",
      "Epoch 5/100\n",
      "340/340 [==============================] - 7s 19ms/step - loss: 0.6934 - accuracy: 0.4933 - precision: 0.4938 - recall: 0.5315 - val_loss: 0.6931 - val_accuracy: 0.6589 - val_precision: 0.6765 - val_recall: 0.0619\n",
      "Epoch 6/100\n",
      "340/340 [==============================] - 5s 15ms/step - loss: 0.6934 - accuracy: 0.4976 - precision: 0.4967 - recall: 0.3648 - val_loss: 0.6959 - val_accuracy: 0.3525 - val_precision: 0.3525 - val_recall: 1.0000\n",
      "Epoch 7/100\n",
      "340/340 [==============================] - 5s 14ms/step - loss: 0.6933 - accuracy: 0.4967 - precision: 0.4957 - recall: 0.3850 - val_loss: 0.6969 - val_accuracy: 0.3525 - val_precision: 0.3525 - val_recall: 1.0000\n",
      "Epoch 8/100\n",
      "340/340 [==============================] - 5s 14ms/step - loss: 0.6933 - accuracy: 0.4931 - precision: 0.4947 - recall: 0.6396 - val_loss: 0.6917 - val_accuracy: 0.6475 - val_precision: 0.0000e+00 - val_recall: 0.0000e+00\n",
      "Epoch 9/100\n",
      "340/340 [==============================] - 6s 16ms/step - loss: 0.6933 - accuracy: 0.5024 - precision: 0.5036 - recall: 0.3359 - val_loss: 0.7013 - val_accuracy: 0.3525 - val_precision: 0.3525 - val_recall: 1.0000\n",
      "Epoch 10/100\n",
      "340/340 [==============================] - 7s 20ms/step - loss: 0.6933 - accuracy: 0.4958 - precision: 0.4966 - recall: 0.6088 - val_loss: 0.6956 - val_accuracy: 0.3525 - val_precision: 0.3525 - val_recall: 1.0000\n",
      "Epoch 11/100\n",
      "340/340 [==============================] - 8s 24ms/step - loss: 0.6933 - accuracy: 0.4946 - precision: 0.4958 - recall: 0.6428 - val_loss: 0.6898 - val_accuracy: 0.6475 - val_precision: 0.0000e+00 - val_recall: 0.0000e+00\n",
      "Epoch 12/100\n",
      "340/340 [==============================] - 5s 15ms/step - loss: 0.6932 - accuracy: 0.5042 - precision: 0.5062 - recall: 0.3433 - val_loss: 0.7082 - val_accuracy: 0.3525 - val_precision: 0.3525 - val_recall: 1.0000\n",
      "Epoch 13/100\n",
      "340/340 [==============================] - 5s 14ms/step - loss: 0.6933 - accuracy: 0.5016 - precision: 0.5013 - recall: 0.6018 - val_loss: 0.6913 - val_accuracy: 0.6475 - val_precision: 0.0000e+00 - val_recall: 0.0000e+00\n",
      "Epoch 14/100\n",
      "340/340 [==============================] - 4s 13ms/step - loss: 0.6932 - accuracy: 0.5018 - precision: 0.5025 - recall: 0.3710 - val_loss: 0.6975 - val_accuracy: 0.3525 - val_precision: 0.3525 - val_recall: 1.0000\n",
      "Epoch 15/100\n",
      "340/340 [==============================] - 4s 13ms/step - loss: 0.6933 - accuracy: 0.4960 - precision: 0.4968 - recall: 0.6190 - val_loss: 0.6934 - val_accuracy: 0.3525 - val_precision: 0.3525 - val_recall: 1.0000\n",
      "Epoch 16/100\n",
      "340/340 [==============================] - 4s 13ms/step - loss: 0.6933 - accuracy: 0.5017 - precision: 0.5016 - recall: 0.5602 - val_loss: 0.6907 - val_accuracy: 0.6475 - val_precision: 0.0000e+00 - val_recall: 0.0000e+00\n",
      "Epoch 17/100\n",
      "340/340 [==============================] - 5s 15ms/step - loss: 0.6932 - accuracy: 0.5065 - precision: 0.5066 - recall: 0.4973 - val_loss: 0.6931 - val_accuracy: 0.6338 - val_precision: 0.4598 - val_recall: 0.2234\n",
      "Epoch 18/100\n",
      "340/340 [==============================] - 5s 16ms/step - loss: 0.6933 - accuracy: 0.5000 - precision: 0.5000 - recall: 0.4624 - val_loss: 0.6964 - val_accuracy: 0.3525 - val_precision: 0.3525 - val_recall: 1.0000\n",
      "Epoch 19/100\n",
      "340/340 [==============================] - 6s 19ms/step - loss: 0.6931 - accuracy: 0.5055 - precision: 0.5052 - recall: 0.5400 - val_loss: 0.6972 - val_accuracy: 0.3525 - val_precision: 0.3525 - val_recall: 1.0000\n",
      "Epoch 20/100\n",
      "340/340 [==============================] - 5s 15ms/step - loss: 0.6933 - accuracy: 0.4954 - precision: 0.4959 - recall: 0.5609 - val_loss: 0.6938 - val_accuracy: 0.3525 - val_precision: 0.3525 - val_recall: 1.0000\n",
      "Epoch 21/100\n",
      "340/340 [==============================] - 5s 15ms/step - loss: 0.6932 - accuracy: 0.5045 - precision: 0.5046 - recall: 0.4977 - val_loss: 0.6926 - val_accuracy: 0.6594 - val_precision: 0.6812 - val_recall: 0.0633\n",
      "Epoch 22/100\n",
      "340/340 [==============================] - 5s 14ms/step - loss: 0.6932 - accuracy: 0.5050 - precision: 0.5057 - recall: 0.4403 - val_loss: 0.6995 - val_accuracy: 0.3525 - val_precision: 0.3525 - val_recall: 1.0000\n",
      "Epoch 23/100\n",
      "340/340 [==============================] - 5s 15ms/step - loss: 0.6934 - accuracy: 0.4951 - precision: 0.4963 - recall: 0.6621 - val_loss: 0.6942 - val_accuracy: 0.3525 - val_precision: 0.3525 - val_recall: 1.0000\n",
      "Epoch 24/100\n",
      "340/340 [==============================] - 5s 15ms/step - loss: 0.6932 - accuracy: 0.5039 - precision: 0.5047 - recall: 0.4163 - val_loss: 0.6921 - val_accuracy: 0.6494 - val_precision: 0.6667 - val_recall: 0.0108\n",
      "Epoch 25/100\n",
      "340/340 [==============================] - 5s 15ms/step - loss: 0.6932 - accuracy: 0.4994 - precision: 0.4994 - recall: 0.4970 - val_loss: 0.6941 - val_accuracy: 0.3525 - val_precision: 0.3525 - val_recall: 1.0000\n",
      "Epoch 26/100\n",
      "340/340 [==============================] - 7s 20ms/step - loss: 0.6931 - accuracy: 0.5042 - precision: 0.5032 - recall: 0.6628 - val_loss: 0.6909 - val_accuracy: 0.6528 - val_precision: 0.6410 - val_recall: 0.0336\n",
      "Epoch 27/100\n",
      "340/340 [==============================] - 9s 28ms/step - loss: 0.6931 - accuracy: 0.5089 - precision: 0.5087 - recall: 0.5194 - val_loss: 0.6917 - val_accuracy: 0.6637 - val_precision: 0.6441 - val_recall: 0.1023\n",
      "Epoch 28/100\n",
      "340/340 [==============================] - 8s 24ms/step - loss: 0.6925 - accuracy: 0.5140 - precision: 0.5144 - recall: 0.4992 - val_loss: 0.6846 - val_accuracy: 0.6622 - val_precision: 0.6782 - val_recall: 0.0794\n",
      "Epoch 29/100\n",
      "340/340 [==============================] - 6s 17ms/step - loss: 0.6889 - accuracy: 0.5144 - precision: 0.5192 - recall: 0.3911 - val_loss: 0.6838 - val_accuracy: 0.6475 - val_precision: 0.5000 - val_recall: 0.1925\n",
      "Epoch 30/100\n",
      "340/340 [==============================] - 6s 17ms/step - loss: 0.6880 - accuracy: 0.5238 - precision: 0.5414 - recall: 0.3115 - val_loss: 0.6743 - val_accuracy: 0.6632 - val_precision: 0.6737 - val_recall: 0.0861\n",
      "Epoch 31/100\n",
      "340/340 [==============================] - 7s 22ms/step - loss: 0.6860 - accuracy: 0.5333 - precision: 0.5978 - recall: 0.2033 - val_loss: 0.6810 - val_accuracy: 0.6646 - val_precision: 0.6169 - val_recall: 0.1279\n",
      "Epoch 32/100\n",
      "340/340 [==============================] - 11s 34ms/step - loss: 0.6864 - accuracy: 0.5305 - precision: 0.5832 - recall: 0.2138 - val_loss: 0.6926 - val_accuracy: 0.5555 - val_precision: 0.3781 - val_recall: 0.4051\n",
      "Epoch 33/100\n",
      "340/340 [==============================] - 11s 31ms/step - loss: 0.6845 - accuracy: 0.5347 - precision: 0.6262 - recall: 0.1725 - val_loss: 0.7061 - val_accuracy: 0.4639 - val_precision: 0.3553 - val_recall: 0.6393\n",
      "Epoch 34/100\n",
      "340/340 [==============================] - 10s 29ms/step - loss: 0.6850 - accuracy: 0.5313 - precision: 0.6013 - recall: 0.1861 - val_loss: 0.6751 - val_accuracy: 0.6656 - val_precision: 0.6011 - val_recall: 0.1521\n",
      "Epoch 35/100\n",
      "340/340 [==============================] - 9s 28ms/step - loss: 0.6846 - accuracy: 0.5357 - precision: 0.6364 - recall: 0.1664 - val_loss: 0.6802 - val_accuracy: 0.6627 - val_precision: 0.6633 - val_recall: 0.0875\n",
      "Epoch 36/100\n",
      "340/340 [==============================] - 9s 28ms/step - loss: 0.6839 - accuracy: 0.5373 - precision: 0.6352 - recall: 0.1754 - val_loss: 0.6801 - val_accuracy: 0.6599 - val_precision: 0.5551 - val_recall: 0.1763\n",
      "Epoch 37/100\n",
      "340/340 [==============================] - 9s 27ms/step - loss: 0.6839 - accuracy: 0.5363 - precision: 0.6458 - recall: 0.1609 - val_loss: 0.6795 - val_accuracy: 0.6452 - val_precision: 0.4916 - val_recall: 0.1965\n",
      "Epoch 38/100\n",
      "340/340 [==============================] - 9s 27ms/step - loss: 0.6842 - accuracy: 0.5372 - precision: 0.6601 - recall: 0.1535 - val_loss: 0.6820 - val_accuracy: 0.6485 - val_precision: 0.5036 - val_recall: 0.1884\n",
      "Epoch 39/100\n",
      "340/340 [==============================] - 10s 29ms/step - loss: 0.6833 - accuracy: 0.5374 - precision: 0.6312 - recall: 0.1800 - val_loss: 0.6785 - val_accuracy: 0.6627 - val_precision: 0.5784 - val_recall: 0.1588\n",
      "Epoch 40/100\n",
      "340/340 [==============================] - 10s 30ms/step - loss: 0.6835 - accuracy: 0.5383 - precision: 0.6620 - recall: 0.1566 - val_loss: 0.6834 - val_accuracy: 0.6665 - val_precision: 0.6235 - val_recall: 0.1359\n",
      "Epoch 41/100\n",
      "340/340 [==============================] - 10s 28ms/step - loss: 0.6840 - accuracy: 0.5381 - precision: 0.6627 - recall: 0.1550 - val_loss: 0.6786 - val_accuracy: 0.6665 - val_precision: 0.6124 - val_recall: 0.1467\n",
      "Epoch 42/100\n",
      "340/340 [==============================] - 10s 28ms/step - loss: 0.6832 - accuracy: 0.5378 - precision: 0.6609 - recall: 0.1552 - val_loss: 0.6783 - val_accuracy: 0.6632 - val_precision: 0.6387 - val_recall: 0.1023\n",
      "Epoch 43/100\n",
      "340/340 [==============================] - 12s 34ms/step - loss: 0.6839 - accuracy: 0.5383 - precision: 0.6478 - recall: 0.1680 - val_loss: 0.6787 - val_accuracy: 0.6637 - val_precision: 0.6164 - val_recall: 0.1211\n",
      "Epoch 44/100\n",
      "340/340 [==============================] - 9s 27ms/step - loss: 0.6845 - accuracy: 0.5366 - precision: 0.6528 - recall: 0.1563 - val_loss: 0.6801 - val_accuracy: 0.6618 - val_precision: 0.5676 - val_recall: 0.1696\n",
      "Epoch 45/100\n",
      "340/340 [==============================] - 10s 29ms/step - loss: 0.6832 - accuracy: 0.5376 - precision: 0.6617 - recall: 0.1539 - val_loss: 0.6789 - val_accuracy: 0.6618 - val_precision: 0.5728 - val_recall: 0.1588\n",
      "Epoch 46/100\n",
      "340/340 [==============================] - 10s 28ms/step - loss: 0.6836 - accuracy: 0.5370 - precision: 0.6474 - recall: 0.1627 - val_loss: 0.6795 - val_accuracy: 0.6618 - val_precision: 0.5682 - val_recall: 0.1682\n",
      "Epoch 47/100\n",
      "340/340 [==============================] - 5s 15ms/step - loss: 0.6835 - accuracy: 0.5393 - precision: 0.6356 - recall: 0.1844 - val_loss: 0.6809 - val_accuracy: 0.6565 - val_precision: 0.5385 - val_recall: 0.1790\n",
      "Epoch 48/100\n",
      "340/340 [==============================] - 7s 19ms/step - loss: 0.6838 - accuracy: 0.5377 - precision: 0.6396 - recall: 0.1726 - val_loss: 0.6768 - val_accuracy: 0.6679 - val_precision: 0.6272 - val_recall: 0.1427\n",
      "Epoch 49/100\n",
      "340/340 [==============================] - 5s 15ms/step - loss: 0.6836 - accuracy: 0.5388 - precision: 0.6755 - recall: 0.1493 - val_loss: 0.6830 - val_accuracy: 0.6679 - val_precision: 0.6272 - val_recall: 0.1427\n",
      "Epoch 50/100\n",
      "340/340 [==============================] - 6s 18ms/step - loss: 0.6837 - accuracy: 0.5359 - precision: 0.6143 - recall: 0.1927 - val_loss: 0.6769 - val_accuracy: 0.6651 - val_precision: 0.6178 - val_recall: 0.1306\n",
      "Epoch 51/100\n",
      "340/340 [==============================] - 7s 20ms/step - loss: 0.6833 - accuracy: 0.5394 - precision: 0.6701 - recall: 0.1554 - val_loss: 0.6931 - val_accuracy: 0.6143 - val_precision: 0.4300 - val_recall: 0.2894\n",
      "Epoch 52/100\n",
      "340/340 [==============================] - 6s 17ms/step - loss: 0.6835 - accuracy: 0.5384 - precision: 0.6246 - recall: 0.1927 - val_loss: 0.6829 - val_accuracy: 0.6608 - val_precision: 0.5729 - val_recall: 0.1480\n",
      "Epoch 53/100\n",
      "340/340 [==============================] - 5s 16ms/step - loss: 0.6825 - accuracy: 0.5432 - precision: 0.6720 - recall: 0.1688 - val_loss: 0.6781 - val_accuracy: 0.6641 - val_precision: 0.5758 - val_recall: 0.1790\n",
      "Epoch 54/100\n",
      "340/340 [==============================] - 5s 16ms/step - loss: 0.6828 - accuracy: 0.5379 - precision: 0.6143 - recall: 0.2035 - val_loss: 0.6789 - val_accuracy: 0.6641 - val_precision: 0.5758 - val_recall: 0.1790\n",
      "Epoch 55/100\n",
      "340/340 [==============================] - 5s 15ms/step - loss: 0.6827 - accuracy: 0.5404 - precision: 0.6008 - recall: 0.2410 - val_loss: 0.6776 - val_accuracy: 0.6528 - val_precision: 0.5212 - val_recall: 0.1817\n",
      "Epoch 56/100\n",
      "340/340 [==============================] - 5s 16ms/step - loss: 0.6831 - accuracy: 0.5382 - precision: 0.6268 - recall: 0.1886 - val_loss: 0.6832 - val_accuracy: 0.6366 - val_precision: 0.4680 - val_recall: 0.2261\n",
      "Epoch 57/100\n",
      "340/340 [==============================] - 6s 17ms/step - loss: 0.6831 - accuracy: 0.5386 - precision: 0.6038 - recall: 0.2247 - val_loss: 0.6732 - val_accuracy: 0.6656 - val_precision: 0.6377 - val_recall: 0.1184\n",
      "Epoch 58/100\n",
      "340/340 [==============================] - 5s 16ms/step - loss: 0.6832 - accuracy: 0.5350 - precision: 0.6158 - recall: 0.1862 - val_loss: 0.6785 - val_accuracy: 0.6646 - val_precision: 0.5811 - val_recall: 0.1736\n",
      "Epoch 59/100\n",
      "340/340 [==============================] - 5s 16ms/step - loss: 0.6830 - accuracy: 0.5381 - precision: 0.6369 - recall: 0.1771 - val_loss: 0.6724 - val_accuracy: 0.6613 - val_precision: 0.5662 - val_recall: 0.1669\n",
      "Epoch 60/100\n",
      "340/340 [==============================] - 5s 16ms/step - loss: 0.6824 - accuracy: 0.5409 - precision: 0.6054 - recall: 0.2350 - val_loss: 0.6751 - val_accuracy: 0.6684 - val_precision: 0.6028 - val_recall: 0.1736\n",
      "Epoch 61/100\n",
      "340/340 [==============================] - 5s 15ms/step - loss: 0.6831 - accuracy: 0.5394 - precision: 0.6053 - recall: 0.2267 - val_loss: 0.6789 - val_accuracy: 0.6613 - val_precision: 0.5656 - val_recall: 0.1682\n",
      "Epoch 62/100\n",
      "340/340 [==============================] - 5s 16ms/step - loss: 0.6826 - accuracy: 0.5381 - precision: 0.6491 - recall: 0.1657 - val_loss: 0.6865 - val_accuracy: 0.5569 - val_precision: 0.3911 - val_recall: 0.4616\n",
      "Epoch 63/100\n",
      "340/340 [==============================] - 5s 16ms/step - loss: 0.6831 - accuracy: 0.5371 - precision: 0.5983 - recall: 0.2260 - val_loss: 0.6712 - val_accuracy: 0.6613 - val_precision: 0.5694 - val_recall: 0.1602\n",
      "Epoch 64/100\n",
      "340/340 [==============================] - 5s 15ms/step - loss: 0.6826 - accuracy: 0.5390 - precision: 0.6514 - recall: 0.1677 - val_loss: 0.6841 - val_accuracy: 0.6044 - val_precision: 0.4186 - val_recall: 0.3149\n",
      "Epoch 65/100\n",
      "340/340 [==============================] - 5s 15ms/step - loss: 0.6834 - accuracy: 0.5357 - precision: 0.6300 - recall: 0.1728 - val_loss: 0.6806 - val_accuracy: 0.6679 - val_precision: 0.6303 - val_recall: 0.1400\n",
      "Epoch 66/100\n",
      "340/340 [==============================] - 5s 15ms/step - loss: 0.6831 - accuracy: 0.5420 - precision: 0.6290 - recall: 0.2048 - val_loss: 0.6859 - val_accuracy: 0.5944 - val_precision: 0.4227 - val_recall: 0.4118\n",
      "Epoch 67/100\n",
      "340/340 [==============================] - 6s 18ms/step - loss: 0.6835 - accuracy: 0.5369 - precision: 0.6262 - recall: 0.1829 - val_loss: 0.6800 - val_accuracy: 0.6622 - val_precision: 0.5665 - val_recall: 0.1777\n",
      "Epoch 68/100\n",
      "340/340 [==============================] - 6s 17ms/step - loss: 0.6825 - accuracy: 0.5392 - precision: 0.5891 - recall: 0.2589 - val_loss: 0.6697 - val_accuracy: 0.6641 - val_precision: 0.6636 - val_recall: 0.0956\n",
      "Epoch 69/100\n",
      "340/340 [==============================] - 6s 17ms/step - loss: 0.6830 - accuracy: 0.5352 - precision: 0.5948 - recall: 0.2208 - val_loss: 0.6763 - val_accuracy: 0.6622 - val_precision: 0.5742 - val_recall: 0.1615\n",
      "Epoch 70/100\n",
      "340/340 [==============================] - 6s 16ms/step - loss: 0.6828 - accuracy: 0.5387 - precision: 0.6102 - recall: 0.2144 - val_loss: 0.6782 - val_accuracy: 0.6599 - val_precision: 0.5528 - val_recall: 0.1830\n",
      "Epoch 71/100\n",
      "340/340 [==============================] - 5s 15ms/step - loss: 0.6835 - accuracy: 0.5298 - precision: 0.5701 - recall: 0.2421 - val_loss: 0.6806 - val_accuracy: 0.6641 - val_precision: 0.5854 - val_recall: 0.1615\n",
      "Epoch 72/100\n",
      "340/340 [==============================] - 5s 16ms/step - loss: 0.6826 - accuracy: 0.5345 - precision: 0.6087 - recall: 0.1931 - val_loss: 0.6726 - val_accuracy: 0.6679 - val_precision: 0.6229 - val_recall: 0.1467\n",
      "Epoch 73/100\n",
      "340/340 [==============================] - 5s 16ms/step - loss: 0.6827 - accuracy: 0.5414 - precision: 0.6280 - recall: 0.2030 - val_loss: 0.6738 - val_accuracy: 0.6608 - val_precision: 0.5667 - val_recall: 0.1602\n",
      "Epoch 74/100\n",
      "340/340 [==============================] - 6s 16ms/step - loss: 0.6821 - accuracy: 0.5415 - precision: 0.5806 - recall: 0.2986 - val_loss: 0.6820 - val_accuracy: 0.6262 - val_precision: 0.4453 - val_recall: 0.2463\n",
      "Epoch 75/100\n",
      "340/340 [==============================] - 5s 16ms/step - loss: 0.6824 - accuracy: 0.5408 - precision: 0.5922 - recall: 0.2622 - val_loss: 0.6715 - val_accuracy: 0.6618 - val_precision: 0.6056 - val_recall: 0.1157\n",
      "Epoch 76/100\n",
      "340/340 [==============================] - 5s 16ms/step - loss: 0.6822 - accuracy: 0.5404 - precision: 0.6047 - recall: 0.2331 - val_loss: 0.6763 - val_accuracy: 0.6660 - val_precision: 0.6275 - val_recall: 0.1292\n",
      "Epoch 77/100\n",
      "340/340 [==============================] - 5s 15ms/step - loss: 0.6824 - accuracy: 0.5412 - precision: 0.6081 - recall: 0.2317 - val_loss: 0.6704 - val_accuracy: 0.6675 - val_precision: 0.5991 - val_recall: 0.1709\n",
      "Epoch 78/100\n",
      "340/340 [==============================] - 5s 16ms/step - loss: 0.6824 - accuracy: 0.5401 - precision: 0.5797 - recall: 0.2916 - val_loss: 0.6810 - val_accuracy: 0.5968 - val_precision: 0.4237 - val_recall: 0.3997\n",
      "Epoch 79/100\n",
      "340/340 [==============================] - 5s 16ms/step - loss: 0.6824 - accuracy: 0.5394 - precision: 0.5840 - recall: 0.2743 - val_loss: 0.6766 - val_accuracy: 0.6157 - val_precision: 0.4427 - val_recall: 0.3486\n",
      "Epoch 80/100\n",
      "340/340 [==============================] - 5s 16ms/step - loss: 0.6819 - accuracy: 0.5375 - precision: 0.5586 - recall: 0.3574 - val_loss: 0.6721 - val_accuracy: 0.6191 - val_precision: 0.4453 - val_recall: 0.3284\n",
      "Epoch 81/100\n",
      "340/340 [==============================] - 6s 18ms/step - loss: 0.6823 - accuracy: 0.5420 - precision: 0.5734 - recall: 0.3280 - val_loss: 0.6767 - val_accuracy: 0.6437 - val_precision: 0.4894 - val_recall: 0.2490\n",
      "Epoch 82/100\n",
      "340/340 [==============================] - 6s 17ms/step - loss: 0.6818 - accuracy: 0.5441 - precision: 0.5672 - recall: 0.3727 - val_loss: 0.6856 - val_accuracy: 0.5773 - val_precision: 0.4163 - val_recall: 0.4953\n",
      "Epoch 83/100\n",
      "340/340 [==============================] - 6s 16ms/step - loss: 0.6821 - accuracy: 0.5456 - precision: 0.5690 - recall: 0.3758 - val_loss: 0.6838 - val_accuracy: 0.5958 - val_precision: 0.4220 - val_recall: 0.3970\n",
      "Epoch 84/100\n",
      "340/340 [==============================] - 6s 16ms/step - loss: 0.6809 - accuracy: 0.5469 - precision: 0.5650 - recall: 0.4074 - val_loss: 0.6830 - val_accuracy: 0.5892 - val_precision: 0.4245 - val_recall: 0.4657\n",
      "Epoch 85/100\n",
      "340/340 [==============================] - 5s 16ms/step - loss: 0.6801 - accuracy: 0.5459 - precision: 0.5593 - recall: 0.4328 - val_loss: 0.6811 - val_accuracy: 0.5854 - val_precision: 0.4142 - val_recall: 0.4253\n",
      "Epoch 86/100\n",
      "340/340 [==============================] - 5s 16ms/step - loss: 0.6804 - accuracy: 0.5439 - precision: 0.5578 - recall: 0.4238 - val_loss: 0.6700 - val_accuracy: 0.6124 - val_precision: 0.4377 - val_recall: 0.3499\n",
      "Epoch 87/100\n",
      "340/340 [==============================] - 5s 16ms/step - loss: 0.6802 - accuracy: 0.5460 - precision: 0.5543 - recall: 0.4694 - val_loss: 0.6763 - val_accuracy: 0.5996 - val_precision: 0.4324 - val_recall: 0.4347\n",
      "Epoch 88/100\n",
      "340/340 [==============================] - 5s 16ms/step - loss: 0.6804 - accuracy: 0.5513 - precision: 0.5616 - recall: 0.4677 - val_loss: 0.6625 - val_accuracy: 0.6176 - val_precision: 0.4424 - val_recall: 0.3257\n",
      "Epoch 89/100\n",
      "340/340 [==============================] - 5s 16ms/step - loss: 0.6803 - accuracy: 0.5466 - precision: 0.5542 - recall: 0.4769 - val_loss: 0.6764 - val_accuracy: 0.6105 - val_precision: 0.4373 - val_recall: 0.3661\n",
      "Epoch 90/100\n",
      "340/340 [==============================] - 5s 16ms/step - loss: 0.6794 - accuracy: 0.5495 - precision: 0.5623 - recall: 0.4464 - val_loss: 0.6699 - val_accuracy: 0.6276 - val_precision: 0.4535 - val_recall: 0.2759\n",
      "Epoch 91/100\n",
      "340/340 [==============================] - 5s 15ms/step - loss: 0.6793 - accuracy: 0.5470 - precision: 0.5572 - recall: 0.4573 - val_loss: 0.6770 - val_accuracy: 0.5996 - val_precision: 0.4348 - val_recall: 0.4536\n",
      "Epoch 92/100\n",
      "340/340 [==============================] - 5s 16ms/step - loss: 0.6800 - accuracy: 0.5478 - precision: 0.5588 - recall: 0.4541 - val_loss: 0.6786 - val_accuracy: 0.5740 - val_precision: 0.4132 - val_recall: 0.4966\n",
      "Epoch 93/100\n",
      "340/340 [==============================] - 6s 17ms/step - loss: 0.6792 - accuracy: 0.5511 - precision: 0.5574 - recall: 0.4966 - val_loss: 0.6679 - val_accuracy: 0.6271 - val_precision: 0.4523 - val_recall: 0.2746\n",
      "Epoch 94/100\n",
      "340/340 [==============================] - 6s 17ms/step - loss: 0.6785 - accuracy: 0.5534 - precision: 0.5587 - recall: 0.5080 - val_loss: 0.6864 - val_accuracy: 0.5275 - val_precision: 0.3967 - val_recall: 0.6541\n",
      "Epoch 95/100\n",
      "340/340 [==============================] - 5s 16ms/step - loss: 0.6786 - accuracy: 0.5538 - precision: 0.5620 - recall: 0.4878 - val_loss: 0.6767 - val_accuracy: 0.5574 - val_precision: 0.4069 - val_recall: 0.5585\n",
      "Epoch 96/100\n",
      "340/340 [==============================] - 6s 16ms/step - loss: 0.6787 - accuracy: 0.5488 - precision: 0.5522 - recall: 0.5165 - val_loss: 0.6693 - val_accuracy: 0.5731 - val_precision: 0.4121 - val_recall: 0.4953\n",
      "Epoch 97/100\n",
      "340/340 [==============================] - 5s 16ms/step - loss: 0.6794 - accuracy: 0.5490 - precision: 0.5564 - recall: 0.4834 - val_loss: 0.6868 - val_accuracy: 0.5209 - val_precision: 0.3945 - val_recall: 0.6716\n",
      "Epoch 98/100\n",
      "340/340 [==============================] - 6s 16ms/step - loss: 0.6778 - accuracy: 0.5546 - precision: 0.5578 - recall: 0.5266 - val_loss: 0.6735 - val_accuracy: 0.6129 - val_precision: 0.4397 - val_recall: 0.3580\n",
      "Epoch 99/100\n",
      "340/340 [==============================] - 6s 16ms/step - loss: 0.6783 - accuracy: 0.5578 - precision: 0.5646 - recall: 0.5056 - val_loss: 0.6730 - val_accuracy: 0.5954 - val_precision: 0.4278 - val_recall: 0.4388\n",
      "Epoch 100/100\n",
      "340/340 [==============================] - 5s 16ms/step - loss: 0.6784 - accuracy: 0.5508 - precision: 0.5574 - recall: 0.4933 - val_loss: 0.6852 - val_accuracy: 0.5346 - val_precision: 0.3969 - val_recall: 0.6164\n"
     ]
    }
   ],
   "source": [
    "# initialize model and fit to data\n",
    "model = create_model()\n",
    "history = model.fit(\n",
    "    X_train, y_train, epochs=100, batch_size=32, validation_data=(X_test, y_test)\n",
    ")"
   ]
  },
  {
   "cell_type": "code",
   "execution_count": 9,
   "metadata": {},
   "outputs": [
    {
     "data": {
      "image/png": "[encoded data removed]",
      "text/plain": [
       "<Figure size 640x480 with 1 Axes>"
      ]
     },
     "metadata": {},
     "output_type": "display_data"
    }
   ],
   "source": [
    "plot_hist(history)"
   ]
  },
  {
   "cell_type": "code",
   "execution_count": 10,
   "metadata": {},
   "outputs": [
    {
     "name": "stdout",
     "output_type": "stream",
     "text": [
      "66/66 [==============================] - 1s 6ms/step\n",
      "Accuracy:  0.534629981024668\n",
      "\n",
      "Confusion Matrix: \n",
      " [[669 696]\n",
      " [285 458]]\n",
      "\n",
      "classification_report: \n",
      "               precision    recall  f1-score   support\n",
      "\n",
      "         0.0       0.70      0.49      0.58      1365\n",
      "         1.0       0.40      0.62      0.48       743\n",
      "\n",
      "    accuracy                           0.53      2108\n",
      "   macro avg       0.55      0.55      0.53      2108\n",
      "weighted avg       0.59      0.53      0.54      2108\n",
      "\n"
     ]
    }
   ],
   "source": [
    "# print confusion matrix and accuracy\n",
    "y_pred = model.predict(X_test)\n",
    "y_pred = np.where(y_pred > 0.5, 1, 0)\n",
    "cm = confusion_matrix(y_test, y_pred)\n",
    "print(\"Accuracy: \", accuracy_score(y_test, y_pred))\n",
    "print(\"\\nConfusion Matrix: \\n\", cm)\n",
    "print(\"\\nclassification_report: \\n\", classification_report(y_test, y_pred))"
   ]
  },
  {
   "cell_type": "code",
   "execution_count": 11,
   "metadata": {},
   "outputs": [
    {
     "name": "stdout",
     "output_type": "stream",
     "text": [
      "Model: \"sequential\"\n",
      "_________________________________________________________________\n",
      " Layer (type)                Output Shape              Param #   \n",
      "=================================================================\n",
      " lstm (LSTM)                 (None, 7, 128)            66560     \n",
      "                                                                 \n",
      " dropout (Dropout)           (None, 7, 128)            0         \n",
      "                                                                 \n",
      " lstm_1 (LSTM)               (None, 128)               131584    \n",
      "                                                                 \n",
      " dropout_1 (Dropout)         (None, 128)               0         \n",
      "                                                                 \n",
      " dense (Dense)               (None, 1)                 129       \n",
      "                                                                 \n",
      "=================================================================\n",
      "Total params: 198,273\n",
      "Trainable params: 198,273\n",
      "Non-trainable params: 0\n",
      "_________________________________________________________________\n"
     ]
    }
   ],
   "source": [
    "model.summary()"
   ]
  },
  {
   "cell_type": "markdown",
   "metadata": {},
   "source": [
    "### Tuned Model\n"
   ]
  },
  {
   "cell_type": "code",
   "execution_count": 12,
   "metadata": {},
   "outputs": [],
   "source": [
    "def model_builder(hp):\n",
    "    model = Sequential()\n",
    "    model.add(\n",
    "        LSTM(\n",
    "            units=hp.Int(\"units\", min_value=32, max_value=256, step=32),\n",
    "            return_sequences=True,\n",
    "            input_shape=(X_train.shape[1], 1),\n",
    "        )\n",
    "    )\n",
    "    model.add(Dropout(hp.Float(\"dropout\", min_value=0.2, max_value=0.5, step=0.1)))\n",
    "    model.add(LSTM(units=hp.Int(\"units\", min_value=32, max_value=256, step=32)))\n",
    "    model.add(Dropout(hp.Float(\"dropout\", min_value=0.2, max_value=0.5, step=0.1)))\n",
    "    model.add(\n",
    "        Dense(1, activation=hp.Choice(\n",
    "            \"dense_activation\", [\"tanh\", \"relu\", \"sigmoid\"]))\n",
    "    )\n",
    "    model.compile(\n",
    "        optimizer=hp.Choice(\"optimizer\", [\"adam\", \"rmsprop\", \"sgd\"]),\n",
    "        loss=hp.Choice(\"loss\", [\"binary_crossentropy\", \"mean_squared_error\"]),\n",
    "        metrics=[\"accuracy\", Precision(), Recall()],\n",
    "    )\n",
    "    return model"
   ]
  },
  {
   "cell_type": "code",
   "execution_count": 13,
   "metadata": {},
   "outputs": [
    {
     "name": "stdout",
     "output_type": "stream",
     "text": [
      "Trial 20 Complete [00h 00m 27s]\n",
      "val_accuracy: 0.5496521095434824\n",
      "\n",
      "Best val_accuracy So Far: 0.6540164351463318\n",
      "Total elapsed time: 00h 14m 54s\n",
      "INFO:tensorflow:Oracle triggered exit\n"
     ]
    }
   ],
   "source": [
    "# RandomSearch to find the best hyperparameters\n",
    "tuner = kt.RandomSearch(\n",
    "    model_builder,\n",
    "    objective=\"val_accuracy\",\n",
    "    max_trials=20,\n",
    "    executions_per_trial=3,\n",
    "    directory=\"lstm\",\n",
    "    project_name=\"lstm\",\n",
    ")\n",
    "\n",
    "tuner.search(\n",
    "    X_train,\n",
    "    y_train,\n",
    "    validation_data=(X_test, y_test),\n",
    "    callbacks=[tf.keras.callbacks.EarlyStopping(patience=5)],\n",
    ")"
   ]
  },
  {
   "cell_type": "code",
   "execution_count": 14,
   "metadata": {},
   "outputs": [
    {
     "data": {
      "text/plain": [
       "{'units': 192,\n",
       " 'dropout': 0.30000000000000004,\n",
       " 'dense_activation': 'tanh',\n",
       " 'optimizer': 'adam',\n",
       " 'loss': 'mean_squared_error'}"
      ]
     },
     "execution_count": 14,
     "metadata": {},
     "output_type": "execute_result"
    }
   ],
   "source": [
    "# get params of best model\n",
    "best_hps = tuner.get_best_hyperparameters(num_trials=1)[0]\n",
    "best_hps.values"
   ]
  },
  {
   "cell_type": "code",
   "execution_count": 23,
   "metadata": {},
   "outputs": [
    {
     "name": "stdout",
     "output_type": "stream",
     "text": [
      "Model: \"sequential\"\n",
      "_________________________________________________________________\n",
      " Layer (type)                Output Shape              Param #   \n",
      "=================================================================\n",
      " lstm (LSTM)                 (None, 7, 192)            148992    \n",
      "                                                                 \n",
      " dropout (Dropout)           (None, 7, 192)            0         \n",
      "                                                                 \n",
      " lstm_1 (LSTM)               (None, 192)               295680    \n",
      "                                                                 \n",
      " dropout_1 (Dropout)         (None, 192)               0         \n",
      "                                                                 \n",
      " dense (Dense)               (None, 1)                 193       \n",
      "                                                                 \n",
      "=================================================================\n",
      "Total params: 444,865\n",
      "Trainable params: 444,865\n",
      "Non-trainable params: 0\n",
      "_________________________________________________________________\n"
     ]
    }
   ],
   "source": [
    "# get best model\n",
    "best_model = tuner.get_best_models(num_models=1)[0]\n",
    "best_model.summary()"
   ]
  },
  {
   "cell_type": "code",
   "execution_count": 24,
   "metadata": {},
   "outputs": [
    {
     "name": "stdout",
     "output_type": "stream",
     "text": [
      "Epoch 1/100\n",
      "340/340 [==============================] - 15s 31ms/step - loss: 0.2527 - accuracy: 0.5025 - precision: 0.5026 - recall: 0.4777 - val_loss: 0.2834 - val_accuracy: 0.3525 - val_precision: 0.3525 - val_recall: 1.0000\n",
      "Epoch 2/100\n",
      "340/340 [==============================] - 10s 29ms/step - loss: 0.2518 - accuracy: 0.4993 - precision: 0.4992 - recall: 0.4841 - val_loss: 0.2564 - val_accuracy: 0.3525 - val_precision: 0.3525 - val_recall: 1.0000\n",
      "Epoch 3/100\n",
      "340/340 [==============================] - 12s 34ms/step - loss: 0.2517 - accuracy: 0.5134 - precision: 0.5135 - recall: 0.5115 - val_loss: 0.2516 - val_accuracy: 0.3525 - val_precision: 0.3525 - val_recall: 1.0000\n",
      "Epoch 4/100\n",
      "340/340 [==============================] - 12s 34ms/step - loss: 0.2512 - accuracy: 0.5040 - precision: 0.5043 - recall: 0.4793 - val_loss: 0.2399 - val_accuracy: 0.6546 - val_precision: 0.6596 - val_recall: 0.0417\n",
      "Epoch 5/100\n",
      "340/340 [==============================] - 11s 32ms/step - loss: 0.2512 - accuracy: 0.5098 - precision: 0.5101 - recall: 0.4953 - val_loss: 0.2618 - val_accuracy: 0.3525 - val_precision: 0.3525 - val_recall: 1.0000\n",
      "Epoch 6/100\n",
      "340/340 [==============================] - 12s 34ms/step - loss: 0.2510 - accuracy: 0.5093 - precision: 0.5098 - recall: 0.4819 - val_loss: 0.2767 - val_accuracy: 0.3525 - val_precision: 0.3525 - val_recall: 1.0000\n",
      "Epoch 7/100\n",
      "340/340 [==============================] - 11s 33ms/step - loss: 0.2512 - accuracy: 0.5125 - precision: 0.5125 - recall: 0.5119 - val_loss: 0.2444 - val_accuracy: 0.6532 - val_precision: 0.6429 - val_recall: 0.0363\n",
      "Epoch 8/100\n",
      "340/340 [==============================] - 11s 31ms/step - loss: 0.2507 - accuracy: 0.5076 - precision: 0.5081 - recall: 0.4788 - val_loss: 0.2624 - val_accuracy: 0.3525 - val_precision: 0.3525 - val_recall: 1.0000\n",
      "Epoch 9/100\n",
      "340/340 [==============================] - 10s 29ms/step - loss: 0.2508 - accuracy: 0.5065 - precision: 0.5063 - recall: 0.5223 - val_loss: 0.2505 - val_accuracy: 0.3672 - val_precision: 0.3474 - val_recall: 0.9058\n"
     ]
    }
   ],
   "source": [
    "# build and fit best model\n",
    "best_model.build(X_train.shape)\n",
    "history = best_model.fit(\n",
    "    X_train,\n",
    "    y_train,\n",
    "    epochs=100,\n",
    "    batch_size=32,\n",
    "    validation_data=(X_test, y_test),\n",
    "    callbacks=[tf.keras.callbacks.EarlyStopping(patience=5)],\n",
    ")"
   ]
  },
  {
   "cell_type": "code",
   "execution_count": 25,
   "metadata": {},
   "outputs": [
    {
     "name": "stdout",
     "output_type": "stream",
     "text": [
      "66/66 [==============================] - 1s 8ms/step\n",
      "Accuracy:  0.36717267552182165\n",
      "\n",
      "Confusion Matrix: \n",
      " [[ 101 1264]\n",
      " [  70  673]]\n",
      "\n",
      "classification_report: \n",
      "               precision    recall  f1-score   support\n",
      "\n",
      "         0.0       0.59      0.07      0.13      1365\n",
      "         1.0       0.35      0.91      0.50       743\n",
      "\n",
      "    accuracy                           0.37      2108\n",
      "   macro avg       0.47      0.49      0.32      2108\n",
      "weighted avg       0.50      0.37      0.26      2108\n",
      "\n"
     ]
    }
   ],
   "source": [
    "# print confusion matrix and accuracy for best model\n",
    "y_pred = best_model.predict(X_test)\n",
    "y_pred = np.where(y_pred > 0.5, 1, 0)\n",
    "cm = confusion_matrix(y_test, y_pred)\n",
    "print(\"Accuracy: \", accuracy_score(y_test, y_pred))\n",
    "print(\"\\nConfusion Matrix: \\n\", cm)\n",
    "print(\"\\nclassification_report: \\n\", classification_report(y_test, y_pred))"
   ]
  },
  {
   "cell_type": "code",
   "execution_count": 26,
   "metadata": {},
   "outputs": [
    {
     "data": {
      "image/png": "[encoded data removed]",
      "text/plain": [
       "<Figure size 640x480 with 1 Axes>"
      ]
     },
     "metadata": {},
     "output_type": "display_data"
    }
   ],
   "source": [
    "plot_hist(history)"
   ]
  },
  {
   "cell_type": "code",
   "execution_count": null,
   "metadata": {},
   "outputs": [],
   "source": []
  }
 ],
 "metadata": {
  "kernelspec": {
   "display_name": "base",
   "language": "python",
   "name": "python3"
  },
  "language_info": {
   "codemirror_mode": {
    "name": "ipython",
    "version": 3
   },
   "file_extension": ".py",
   "mimetype": "text/x-python",
   "name": "python",
   "nbconvert_exporter": "python",
   "pygments_lexer": "ipython3",
   "version": "3.10.9"
  },
  "orig_nbformat": 4
 },
 "nbformat": 4,
 "nbformat_minor": 2
}
