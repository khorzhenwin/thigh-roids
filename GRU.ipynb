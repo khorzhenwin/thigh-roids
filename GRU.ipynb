{
 "cells": [
  {
   "cell_type": "markdown",
   "id": "30fc284a",
   "metadata": {},
   "source": [
    "# GRU Model\n",
    "\n",
    "## Data Import"
   ]
  },
  {
   "cell_type": "code",
   "execution_count": 1,
   "id": "903fdf0a",
   "metadata": {},
   "outputs": [],
   "source": [
    "import pandas as pd\n",
    "import numpy as np\n",
    "import matplotlib.pyplot as plt\n",
    "import seaborn as sns\n",
    "import os\n",
    "import tensorflow as tf\n",
    "from tensorflow.keras.models import Sequential\n",
    "from tensorflow.keras.layers import GRU, Dense, Dropout\n",
    "from tensorflow.keras.optimizers import Adam\n",
    "from tensorflow.keras.losses import MeanSquaredError\n",
    "from tensorflow.keras.metrics import Precision, Recall, AUC, Accuracy\n",
    "from keras.models import Sequential\n",
    "from sklearn.preprocessing import normalize, StandardScaler\n",
    "from keras_tuner.tuners import RandomSearch\n",
    "from sklearn.metrics import (\n",
    "    accuracy_score,\n",
    "    precision_score,\n",
    "    recall_score,\n",
    "    f1_score,\n",
    "    confusion_matrix,\n",
    "    classification_report,\n",
    ")\n"
   ]
  },
  {
   "cell_type": "markdown",
   "id": "e732cee4",
   "metadata": {},
   "source": [
    "## Data Preparation"
   ]
  },
  {
   "cell_type": "code",
   "execution_count": 2,
   "id": "f854c205",
   "metadata": {},
   "outputs": [],
   "source": [
    "df_train = pd.read_csv(\"dataset/output/no-oversampling/train.csv\")\n",
    "df_test = pd.read_csv(\"dataset/output/test.csv\")"
   ]
  },
  {
   "cell_type": "code",
   "execution_count": 3,
   "id": "0d0a89e4",
   "metadata": {},
   "outputs": [],
   "source": [
    "# split into X_train, y_train, X_test, y_test\n",
    "X_train = df_train.drop(columns=[\"target\"])\n",
    "y_train = df_train[\"target\"]\n",
    "X_test = df_test.drop(columns=[\"target\"])\n",
    "y_test = df_test[\"target\"]\n",
    "\n",
    "# normalize data\n",
    "X_train = normalize(X_train)\n",
    "X_test = normalize(X_test)\n",
    "y_train = normalize(y_train.values.reshape(-1, 1))\n",
    "y_test = normalize(y_test.values.reshape(-1, 1))"
   ]
  },
  {
   "cell_type": "code",
   "execution_count": 4,
   "id": "0fbe4b2a",
   "metadata": {},
   "outputs": [],
   "source": [
    "scaler = StandardScaler()\n",
    "train_features = scaler.fit_transform(X_train)\n",
    "test_features = scaler.fit_transform(X_test)\n",
    "\n",
    "sequence_length = 10\n",
    "batch_size = 32\n",
    "\n",
    "train_sequences = []\n",
    "test_sequences = []\n",
    "\n",
    "for i in range(len(train_features) - sequence_length + 1):\n",
    "    train_sequences.append(train_features[i:i + sequence_length])\n",
    "xtrain = np.array(train_sequences)\n",
    "ytrain = y_train[sequence_length - 1:]\n",
    "\n",
    "\n",
    "for i in range(len(test_features) - sequence_length + 1):\n",
    "    test_sequences.append(test_features[i:i + sequence_length])\n",
    "xtest = np.array(test_sequences)\n",
    "ytest = y_test[sequence_length - 1:]"
   ]
  },
  {
   "cell_type": "markdown",
   "id": "78c38050",
   "metadata": {},
   "source": [
    "## Helper Functions"
   ]
  },
  {
   "cell_type": "code",
   "execution_count": 5,
   "id": "1c1773b3",
   "metadata": {},
   "outputs": [],
   "source": [
    "# This plots the auc against iteration to detect overfitting\n",
    "def plot_hist(hist, metric=\"accuracy\"):\n",
    "    plt.plot(hist.history[metric])\n",
    "    plt.plot(hist.history[\"val_\" + metric])\n",
    "    plt.title(f\"model performance\")\n",
    "    plt.ylabel(\"accuracy\")\n",
    "    plt.xlabel(\"epoch\")\n",
    "    plt.legend([\"train\", \"validation\"], loc=\"upper left\")\n",
    "    plt.show()\n",
    "    return"
   ]
  },
  {
   "cell_type": "markdown",
   "id": "072a902e",
   "metadata": {},
   "source": [
    "## Model Building\n",
    "### Base Model"
   ]
  },
  {
   "cell_type": "code",
   "execution_count": 6,
   "id": "6d4a548d",
   "metadata": {},
   "outputs": [],
   "source": [
    "def create_gru_model(sequence_length, num_features):\n",
    "    model = Sequential()\n",
    "    model.add(GRU(32, input_shape=(sequence_length, num_features), dropout=0.2, recurrent_dropout=0.2))\n",
    "    model.add(Dense(1, activation='sigmoid'))\n",
    "    model.compile(optimizer=Adam(), loss='binary_crossentropy', metrics=['accuracy', Precision(), Recall()])\n",
    "    return model"
   ]
  },
  {
   "cell_type": "code",
   "execution_count": 7,
   "id": "338f5fd1",
   "metadata": {
    "scrolled": true
   },
   "outputs": [
    {
     "name": "stdout",
     "output_type": "stream",
     "text": [
      "Model: \"sequential\"\n",
      "_________________________________________________________________\n",
      " Layer (type)                Output Shape              Param #   \n",
      "=================================================================\n",
      " gru (GRU)                   (None, 32)                4032      \n",
      "                                                                 \n",
      " dense (Dense)               (None, 1)                 33        \n",
      "                                                                 \n",
      "=================================================================\n",
      "Total params: 4,065\n",
      "Trainable params: 4,065\n",
      "Non-trainable params: 0\n",
      "_________________________________________________________________\n"
     ]
    }
   ],
   "source": [
    "# Create and compile the model\n",
    "sequence_length, num_features = sequence_length, X_train.shape[1]\n",
    "model = create_gru_model(sequence_length, num_features)\n",
    "model.summary()"
   ]
  },
  {
   "cell_type": "code",
   "execution_count": 8,
   "id": "a5f3a71f",
   "metadata": {
    "scrolled": true
   },
   "outputs": [
    {
     "name": "stdout",
     "output_type": "stream",
     "text": [
      "Epoch 1/100\n",
      "280/280 [==============================] - 3s 5ms/step - loss: 0.6507 - accuracy: 0.6329 - precision: 0.5387 - recall: 0.1207 - val_loss: 0.6301 - val_accuracy: 0.6717 - val_precision: 0.6500 - val_recall: 0.1639\n",
      "Epoch 2/100\n",
      "280/280 [==============================] - 1s 5ms/step - loss: 0.6430 - accuracy: 0.6452 - precision: 0.6250 - recall: 0.1255 - val_loss: 0.6283 - val_accuracy: 0.6726 - val_precision: 0.6422 - val_recall: 0.1765\n",
      "Epoch 3/100\n",
      "280/280 [==============================] - 1s 4ms/step - loss: 0.6402 - accuracy: 0.6477 - precision: 0.6289 - recall: 0.1392 - val_loss: 0.6282 - val_accuracy: 0.6753 - val_precision: 0.6700 - val_recall: 0.1690\n",
      "Epoch 4/100\n",
      "280/280 [==============================] - 1s 5ms/step - loss: 0.6408 - accuracy: 0.6465 - precision: 0.6257 - recall: 0.1339 - val_loss: 0.6257 - val_accuracy: 0.6682 - val_precision: 0.6585 - val_recall: 0.1362\n",
      "Epoch 5/100\n",
      "280/280 [==============================] - 1s 5ms/step - loss: 0.6407 - accuracy: 0.6439 - precision: 0.6086 - recall: 0.1315 - val_loss: 0.6259 - val_accuracy: 0.6695 - val_precision: 0.6382 - val_recall: 0.1602\n",
      "Epoch 6/100\n",
      "280/280 [==============================] - 1s 5ms/step - loss: 0.6389 - accuracy: 0.6466 - precision: 0.6221 - recall: 0.1377 - val_loss: 0.6232 - val_accuracy: 0.6700 - val_precision: 0.6400 - val_recall: 0.1614\n",
      "Epoch 7/100\n",
      "280/280 [==============================] - 1s 5ms/step - loss: 0.6383 - accuracy: 0.6477 - precision: 0.6166 - recall: 0.1509 - val_loss: 0.6242 - val_accuracy: 0.6628 - val_precision: 0.6667 - val_recall: 0.1009\n",
      "Epoch 8/100\n",
      "280/280 [==============================] - 1s 5ms/step - loss: 0.6396 - accuracy: 0.6464 - precision: 0.6255 - recall: 0.1333 - val_loss: 0.6243 - val_accuracy: 0.6758 - val_precision: 0.6481 - val_recall: 0.1904\n",
      "Epoch 9/100\n",
      "280/280 [==============================] - 1s 4ms/step - loss: 0.6379 - accuracy: 0.6493 - precision: 0.6316 - recall: 0.1470 - val_loss: 0.6238 - val_accuracy: 0.6735 - val_precision: 0.6441 - val_recall: 0.1803\n",
      "Epoch 10/100\n",
      "280/280 [==============================] - 1s 5ms/step - loss: 0.6381 - accuracy: 0.6484 - precision: 0.6301 - recall: 0.1425 - val_loss: 0.6248 - val_accuracy: 0.6726 - val_precision: 0.6409 - val_recall: 0.1778\n",
      "Epoch 11/100\n",
      "280/280 [==============================] - 1s 4ms/step - loss: 0.6366 - accuracy: 0.6474 - precision: 0.6181 - recall: 0.1470 - val_loss: 0.6237 - val_accuracy: 0.6713 - val_precision: 0.6497 - val_recall: 0.1614\n",
      "Epoch 12/100\n",
      "280/280 [==============================] - 1s 4ms/step - loss: 0.6377 - accuracy: 0.6501 - precision: 0.6432 - recall: 0.1422 - val_loss: 0.6233 - val_accuracy: 0.6650 - val_precision: 0.6216 - val_recall: 0.1450\n",
      "Epoch 13/100\n",
      "280/280 [==============================] - 1s 4ms/step - loss: 0.6353 - accuracy: 0.6485 - precision: 0.6237 - recall: 0.1491 - val_loss: 0.6227 - val_accuracy: 0.6704 - val_precision: 0.6477 - val_recall: 0.1576\n",
      "Epoch 14/100\n",
      "280/280 [==============================] - 1s 5ms/step - loss: 0.6357 - accuracy: 0.6494 - precision: 0.6373 - recall: 0.1428 - val_loss: 0.6232 - val_accuracy: 0.6722 - val_precision: 0.6445 - val_recall: 0.1715\n",
      "Epoch 15/100\n",
      "280/280 [==============================] - 1s 4ms/step - loss: 0.6338 - accuracy: 0.6512 - precision: 0.6337 - recall: 0.1572 - val_loss: 0.6241 - val_accuracy: 0.6695 - val_precision: 0.6329 - val_recall: 0.1652\n",
      "Epoch 16/100\n",
      "280/280 [==============================] - 1s 5ms/step - loss: 0.6367 - accuracy: 0.6456 - precision: 0.6126 - recall: 0.1398 - val_loss: 0.6235 - val_accuracy: 0.6668 - val_precision: 0.6129 - val_recall: 0.1677\n",
      "Epoch 17/100\n",
      "280/280 [==============================] - 1s 5ms/step - loss: 0.6354 - accuracy: 0.6490 - precision: 0.6214 - recall: 0.1545 - val_loss: 0.6257 - val_accuracy: 0.6704 - val_precision: 0.6223 - val_recall: 0.1828\n",
      "Epoch 18/100\n",
      "280/280 [==============================] - 1s 5ms/step - loss: 0.6347 - accuracy: 0.6481 - precision: 0.6219 - recall: 0.1479 - val_loss: 0.6244 - val_accuracy: 0.6668 - val_precision: 0.6129 - val_recall: 0.1677\n",
      "Epoch 19/100\n",
      "280/280 [==============================] - 1s 5ms/step - loss: 0.6336 - accuracy: 0.6494 - precision: 0.6262 - recall: 0.1527 - val_loss: 0.6233 - val_accuracy: 0.6708 - val_precision: 0.6239 - val_recall: 0.1841\n",
      "Epoch 20/100\n",
      "280/280 [==============================] - 1s 4ms/step - loss: 0.6316 - accuracy: 0.6542 - precision: 0.6535 - recall: 0.1584 - val_loss: 0.6233 - val_accuracy: 0.6749 - val_precision: 0.6367 - val_recall: 0.1967\n",
      "Epoch 21/100\n",
      "280/280 [==============================] - 1s 4ms/step - loss: 0.6321 - accuracy: 0.6503 - precision: 0.6224 - recall: 0.1625 - val_loss: 0.6253 - val_accuracy: 0.6735 - val_precision: 0.6221 - val_recall: 0.2055\n",
      "Epoch 22/100\n",
      "280/280 [==============================] - 1s 5ms/step - loss: 0.6321 - accuracy: 0.6522 - precision: 0.6351 - recall: 0.1622 - val_loss: 0.6243 - val_accuracy: 0.6722 - val_precision: 0.6276 - val_recall: 0.1892\n",
      "Epoch 23/100\n",
      "280/280 [==============================] - 1s 4ms/step - loss: 0.6315 - accuracy: 0.6511 - precision: 0.6254 - recall: 0.1646 - val_loss: 0.6250 - val_accuracy: 0.6673 - val_precision: 0.6157 - val_recall: 0.1677\n",
      "Epoch 24/100\n",
      "280/280 [==============================] - 1s 5ms/step - loss: 0.6350 - accuracy: 0.6515 - precision: 0.6319 - recall: 0.1610 - val_loss: 0.6246 - val_accuracy: 0.6682 - val_precision: 0.6092 - val_recall: 0.1828\n",
      "Epoch 25/100\n",
      "280/280 [==============================] - 1s 4ms/step - loss: 0.6336 - accuracy: 0.6497 - precision: 0.6192 - recall: 0.1622 - val_loss: 0.6230 - val_accuracy: 0.6704 - val_precision: 0.6234 - val_recall: 0.1816\n",
      "Epoch 26/100\n",
      "280/280 [==============================] - 1s 4ms/step - loss: 0.6314 - accuracy: 0.6524 - precision: 0.6344 - recall: 0.1643 - val_loss: 0.6249 - val_accuracy: 0.6704 - val_precision: 0.6100 - val_recall: 0.1992\n",
      "Epoch 27/100\n",
      "280/280 [==============================] - 1s 5ms/step - loss: 0.6316 - accuracy: 0.6524 - precision: 0.6279 - recall: 0.1709 - val_loss: 0.6217 - val_accuracy: 0.6695 - val_precision: 0.6211 - val_recall: 0.1778\n",
      "Epoch 28/100\n",
      "280/280 [==============================] - 1s 4ms/step - loss: 0.6304 - accuracy: 0.6519 - precision: 0.6293 - recall: 0.1658 - val_loss: 0.6221 - val_accuracy: 0.6704 - val_precision: 0.6256 - val_recall: 0.1791\n",
      "Epoch 29/100\n",
      "280/280 [==============================] - 1s 5ms/step - loss: 0.6303 - accuracy: 0.6529 - precision: 0.6364 - recall: 0.1652 - val_loss: 0.6258 - val_accuracy: 0.6673 - val_precision: 0.5919 - val_recall: 0.2030\n",
      "Epoch 30/100\n",
      "280/280 [==============================] - 1s 5ms/step - loss: 0.6297 - accuracy: 0.6532 - precision: 0.6296 - recall: 0.1742 - val_loss: 0.6245 - val_accuracy: 0.6677 - val_precision: 0.6164 - val_recall: 0.1702\n",
      "Epoch 31/100\n",
      "280/280 [==============================] - 1s 5ms/step - loss: 0.6292 - accuracy: 0.6494 - precision: 0.6173 - recall: 0.1619 - val_loss: 0.6244 - val_accuracy: 0.6726 - val_precision: 0.6230 - val_recall: 0.1980\n",
      "Epoch 32/100\n",
      "280/280 [==============================] - 1s 5ms/step - loss: 0.6289 - accuracy: 0.6505 - precision: 0.6159 - recall: 0.1715 - val_loss: 0.6245 - val_accuracy: 0.6673 - val_precision: 0.6147 - val_recall: 0.1690\n",
      "Epoch 33/100\n",
      "280/280 [==============================] - 1s 4ms/step - loss: 0.6283 - accuracy: 0.6545 - precision: 0.6367 - recall: 0.1754 - val_loss: 0.6303 - val_accuracy: 0.6659 - val_precision: 0.5761 - val_recall: 0.2245\n",
      "Epoch 34/100\n",
      "280/280 [==============================] - 1s 5ms/step - loss: 0.6257 - accuracy: 0.6562 - precision: 0.6350 - recall: 0.1876 - val_loss: 0.6275 - val_accuracy: 0.6646 - val_precision: 0.5846 - val_recall: 0.1917\n",
      "Epoch 35/100\n",
      "280/280 [==============================] - 1s 5ms/step - loss: 0.6288 - accuracy: 0.6498 - precision: 0.6076 - recall: 0.1772 - val_loss: 0.6260 - val_accuracy: 0.6655 - val_precision: 0.5898 - val_recall: 0.1904\n",
      "Epoch 36/100\n",
      "280/280 [==============================] - 1s 4ms/step - loss: 0.6249 - accuracy: 0.6540 - precision: 0.6301 - recall: 0.1787 - val_loss: 0.6234 - val_accuracy: 0.6722 - val_precision: 0.6160 - val_recall: 0.2043\n",
      "Epoch 37/100\n"
     ]
    },
    {
     "name": "stdout",
     "output_type": "stream",
     "text": [
      "280/280 [==============================] - 1s 5ms/step - loss: 0.6269 - accuracy: 0.6559 - precision: 0.6401 - recall: 0.1802 - val_loss: 0.6263 - val_accuracy: 0.6686 - val_precision: 0.5886 - val_recall: 0.2219\n",
      "Epoch 38/100\n",
      "280/280 [==============================] - 1s 4ms/step - loss: 0.6251 - accuracy: 0.6550 - precision: 0.6217 - recall: 0.1954 - val_loss: 0.6243 - val_accuracy: 0.6673 - val_precision: 0.6202 - val_recall: 0.1627\n",
      "Epoch 39/100\n",
      "280/280 [==============================] - 1s 5ms/step - loss: 0.6266 - accuracy: 0.6532 - precision: 0.6263 - recall: 0.1778 - val_loss: 0.6248 - val_accuracy: 0.6619 - val_precision: 0.5766 - val_recall: 0.1803\n",
      "Epoch 40/100\n",
      "280/280 [==============================] - 1s 5ms/step - loss: 0.6237 - accuracy: 0.6577 - precision: 0.6420 - recall: 0.1891 - val_loss: 0.6246 - val_accuracy: 0.6619 - val_precision: 0.5812 - val_recall: 0.1715\n",
      "Epoch 41/100\n",
      "280/280 [==============================] - 1s 5ms/step - loss: 0.6239 - accuracy: 0.6552 - precision: 0.6295 - recall: 0.1873 - val_loss: 0.6278 - val_accuracy: 0.6583 - val_precision: 0.5577 - val_recall: 0.1828\n",
      "Epoch 42/100\n",
      "280/280 [==============================] - 1s 5ms/step - loss: 0.6238 - accuracy: 0.6591 - precision: 0.6487 - recall: 0.1909 - val_loss: 0.6276 - val_accuracy: 0.6655 - val_precision: 0.5747 - val_recall: 0.2232\n",
      "Epoch 43/100\n",
      "280/280 [==============================] - 1s 5ms/step - loss: 0.6249 - accuracy: 0.6581 - precision: 0.6379 - recall: 0.1963 - val_loss: 0.6297 - val_accuracy: 0.6673 - val_precision: 0.5806 - val_recall: 0.2270\n",
      "Epoch 44/100\n",
      "280/280 [==============================] - 1s 4ms/step - loss: 0.6240 - accuracy: 0.6557 - precision: 0.6264 - recall: 0.1939 - val_loss: 0.6277 - val_accuracy: 0.6677 - val_precision: 0.5804 - val_recall: 0.2320\n",
      "Epoch 45/100\n",
      "280/280 [==============================] - 1s 4ms/step - loss: 0.6242 - accuracy: 0.6573 - precision: 0.6251 - recall: 0.2068 - val_loss: 0.6259 - val_accuracy: 0.6619 - val_precision: 0.5760 - val_recall: 0.1816\n",
      "Epoch 46/100\n",
      "280/280 [==============================] - 1s 4ms/step - loss: 0.6227 - accuracy: 0.6570 - precision: 0.6325 - recall: 0.1954 - val_loss: 0.6271 - val_accuracy: 0.6646 - val_precision: 0.5786 - val_recall: 0.2043\n",
      "Epoch 47/100\n",
      "280/280 [==============================] - 1s 5ms/step - loss: 0.6227 - accuracy: 0.6531 - precision: 0.6173 - recall: 0.1879 - val_loss: 0.6276 - val_accuracy: 0.6664 - val_precision: 0.5857 - val_recall: 0.2068\n",
      "Epoch 48/100\n",
      "280/280 [==============================] - 1s 4ms/step - loss: 0.6224 - accuracy: 0.6578 - precision: 0.6285 - recall: 0.2053 - val_loss: 0.6250 - val_accuracy: 0.6682 - val_precision: 0.5929 - val_recall: 0.2093\n",
      "Epoch 49/100\n",
      "280/280 [==============================] - 1s 5ms/step - loss: 0.6192 - accuracy: 0.6617 - precision: 0.6447 - recall: 0.2103 - val_loss: 0.6253 - val_accuracy: 0.6650 - val_precision: 0.5836 - val_recall: 0.1980\n",
      "Epoch 50/100\n",
      "280/280 [==============================] - 1s 5ms/step - loss: 0.6221 - accuracy: 0.6597 - precision: 0.6340 - recall: 0.2106 - val_loss: 0.6267 - val_accuracy: 0.6682 - val_precision: 0.5922 - val_recall: 0.2106\n",
      "Epoch 51/100\n",
      "280/280 [==============================] - 1s 5ms/step - loss: 0.6202 - accuracy: 0.6603 - precision: 0.6364 - recall: 0.2118 - val_loss: 0.6262 - val_accuracy: 0.6664 - val_precision: 0.5857 - val_recall: 0.2068\n",
      "Epoch 52/100\n",
      "280/280 [==============================] - 1s 4ms/step - loss: 0.6229 - accuracy: 0.6561 - precision: 0.6190 - recall: 0.2068 - val_loss: 0.6287 - val_accuracy: 0.6597 - val_precision: 0.5647 - val_recall: 0.1816\n",
      "Epoch 53/100\n",
      "280/280 [==============================] - 1s 5ms/step - loss: 0.6203 - accuracy: 0.6589 - precision: 0.6324 - recall: 0.2076 - val_loss: 0.6294 - val_accuracy: 0.6619 - val_precision: 0.5597 - val_recall: 0.2245\n",
      "Epoch 54/100\n",
      "280/280 [==============================] - 1s 5ms/step - loss: 0.6212 - accuracy: 0.6542 - precision: 0.6030 - recall: 0.2178 - val_loss: 0.6282 - val_accuracy: 0.6659 - val_precision: 0.5808 - val_recall: 0.2131\n",
      "Epoch 55/100\n",
      "280/280 [==============================] - 1s 5ms/step - loss: 0.6191 - accuracy: 0.6596 - precision: 0.6214 - recall: 0.2271 - val_loss: 0.6291 - val_accuracy: 0.6628 - val_precision: 0.5685 - val_recall: 0.2093\n",
      "Epoch 56/100\n",
      "280/280 [==============================] - 1s 5ms/step - loss: 0.6199 - accuracy: 0.6568 - precision: 0.6154 - recall: 0.2166 - val_loss: 0.6273 - val_accuracy: 0.6650 - val_precision: 0.5789 - val_recall: 0.2081\n",
      "Epoch 57/100\n",
      "280/280 [==============================] - 1s 4ms/step - loss: 0.6202 - accuracy: 0.6593 - precision: 0.6288 - recall: 0.2151 - val_loss: 0.6288 - val_accuracy: 0.6655 - val_precision: 0.5793 - val_recall: 0.2119\n",
      "Epoch 58/100\n",
      "280/280 [==============================] - 1s 4ms/step - loss: 0.6186 - accuracy: 0.6636 - precision: 0.6398 - recall: 0.2277 - val_loss: 0.6281 - val_accuracy: 0.6655 - val_precision: 0.5810 - val_recall: 0.2081\n",
      "Epoch 59/100\n",
      "280/280 [==============================] - 1s 5ms/step - loss: 0.6182 - accuracy: 0.6610 - precision: 0.6294 - recall: 0.2253 - val_loss: 0.6293 - val_accuracy: 0.6655 - val_precision: 0.5777 - val_recall: 0.2156\n",
      "Epoch 60/100\n",
      "280/280 [==============================] - 1s 4ms/step - loss: 0.6190 - accuracy: 0.6586 - precision: 0.6180 - recall: 0.2253 - val_loss: 0.6301 - val_accuracy: 0.6668 - val_precision: 0.5803 - val_recall: 0.2232\n",
      "Epoch 61/100\n",
      "280/280 [==============================] - 1s 4ms/step - loss: 0.6172 - accuracy: 0.6602 - precision: 0.6243 - recall: 0.2274 - val_loss: 0.6291 - val_accuracy: 0.6664 - val_precision: 0.5816 - val_recall: 0.2156\n",
      "Epoch 62/100\n",
      "280/280 [==============================] - 1s 4ms/step - loss: 0.6176 - accuracy: 0.6627 - precision: 0.6327 - recall: 0.2316 - val_loss: 0.6323 - val_accuracy: 0.6623 - val_precision: 0.5589 - val_recall: 0.2333\n",
      "Epoch 63/100\n",
      "280/280 [==============================] - 1s 5ms/step - loss: 0.6201 - accuracy: 0.6574 - precision: 0.6137 - recall: 0.2241 - val_loss: 0.6283 - val_accuracy: 0.6659 - val_precision: 0.5770 - val_recall: 0.2219\n",
      "Epoch 64/100\n",
      "280/280 [==============================] - 1s 4ms/step - loss: 0.6173 - accuracy: 0.6576 - precision: 0.6124 - recall: 0.2271 - val_loss: 0.6290 - val_accuracy: 0.6664 - val_precision: 0.5822 - val_recall: 0.2144\n",
      "Epoch 65/100\n",
      "280/280 [==============================] - 1s 4ms/step - loss: 0.6178 - accuracy: 0.6601 - precision: 0.6260 - recall: 0.2241 - val_loss: 0.6294 - val_accuracy: 0.6650 - val_precision: 0.5723 - val_recall: 0.2245\n",
      "Epoch 66/100\n",
      "280/280 [==============================] - 1s 5ms/step - loss: 0.6161 - accuracy: 0.6594 - precision: 0.6184 - recall: 0.2310 - val_loss: 0.6318 - val_accuracy: 0.6641 - val_precision: 0.5642 - val_recall: 0.2383\n",
      "Epoch 67/100\n",
      "280/280 [==============================] - 1s 5ms/step - loss: 0.6157 - accuracy: 0.6645 - precision: 0.6356 - recall: 0.2387 - val_loss: 0.6303 - val_accuracy: 0.6623 - val_precision: 0.5666 - val_recall: 0.2093\n",
      "Epoch 68/100\n",
      "280/280 [==============================] - 1s 5ms/step - loss: 0.6157 - accuracy: 0.6612 - precision: 0.6168 - recall: 0.2462 - val_loss: 0.6298 - val_accuracy: 0.6628 - val_precision: 0.5787 - val_recall: 0.1854\n",
      "Epoch 69/100\n",
      "280/280 [==============================] - 1s 4ms/step - loss: 0.6152 - accuracy: 0.6612 - precision: 0.6217 - recall: 0.2381 - val_loss: 0.6280 - val_accuracy: 0.6668 - val_precision: 0.5831 - val_recall: 0.2169\n",
      "Epoch 70/100\n",
      "280/280 [==============================] - 1s 4ms/step - loss: 0.6163 - accuracy: 0.6609 - precision: 0.6249 - recall: 0.2310 - val_loss: 0.6306 - val_accuracy: 0.6628 - val_precision: 0.5575 - val_recall: 0.2446\n",
      "Epoch 71/100\n",
      "280/280 [==============================] - 1s 5ms/step - loss: 0.6150 - accuracy: 0.6565 - precision: 0.6034 - recall: 0.2354 - val_loss: 0.6308 - val_accuracy: 0.6632 - val_precision: 0.5762 - val_recall: 0.1955\n",
      "Epoch 72/100\n",
      "280/280 [==============================] - 1s 4ms/step - loss: 0.6174 - accuracy: 0.6608 - precision: 0.6216 - recall: 0.2351 - val_loss: 0.6298 - val_accuracy: 0.6655 - val_precision: 0.5777 - val_recall: 0.2156\n",
      "Epoch 73/100\n"
     ]
    },
    {
     "name": "stdout",
     "output_type": "stream",
     "text": [
      "280/280 [==============================] - 1s 4ms/step - loss: 0.6165 - accuracy: 0.6563 - precision: 0.6021 - recall: 0.2360 - val_loss: 0.6293 - val_accuracy: 0.6686 - val_precision: 0.5923 - val_recall: 0.2144\n",
      "Epoch 74/100\n",
      "280/280 [==============================] - 1s 5ms/step - loss: 0.6164 - accuracy: 0.6591 - precision: 0.6184 - recall: 0.2286 - val_loss: 0.6327 - val_accuracy: 0.6664 - val_precision: 0.5690 - val_recall: 0.2497\n",
      "Epoch 75/100\n",
      "280/280 [==============================] - 1s 4ms/step - loss: 0.6182 - accuracy: 0.6571 - precision: 0.6119 - recall: 0.2247 - val_loss: 0.6304 - val_accuracy: 0.6682 - val_precision: 0.5798 - val_recall: 0.2383\n",
      "Epoch 76/100\n",
      "280/280 [==============================] - 1s 5ms/step - loss: 0.6147 - accuracy: 0.6626 - precision: 0.6298 - recall: 0.2348 - val_loss: 0.6336 - val_accuracy: 0.6588 - val_precision: 0.5444 - val_recall: 0.2396\n",
      "Epoch 77/100\n",
      "280/280 [==============================] - 1s 4ms/step - loss: 0.6146 - accuracy: 0.6605 - precision: 0.6211 - recall: 0.2336 - val_loss: 0.6308 - val_accuracy: 0.6686 - val_precision: 0.5841 - val_recall: 0.2320\n",
      "Epoch 78/100\n",
      "280/280 [==============================] - 1s 5ms/step - loss: 0.6146 - accuracy: 0.6644 - precision: 0.6302 - recall: 0.2459 - val_loss: 0.6334 - val_accuracy: 0.6637 - val_precision: 0.5574 - val_recall: 0.2573\n",
      "Epoch 79/100\n",
      "280/280 [==============================] - 1s 5ms/step - loss: 0.6139 - accuracy: 0.6591 - precision: 0.6149 - recall: 0.2342 - val_loss: 0.6300 - val_accuracy: 0.6668 - val_precision: 0.5773 - val_recall: 0.2308\n",
      "Epoch 80/100\n",
      "280/280 [==============================] - 1s 5ms/step - loss: 0.6155 - accuracy: 0.6624 - precision: 0.6186 - recall: 0.2510 - val_loss: 0.6336 - val_accuracy: 0.6623 - val_precision: 0.5499 - val_recall: 0.2711\n",
      "Epoch 81/100\n",
      "280/280 [==============================] - 1s 4ms/step - loss: 0.6120 - accuracy: 0.6667 - precision: 0.6354 - recall: 0.2531 - val_loss: 0.6305 - val_accuracy: 0.6637 - val_precision: 0.5610 - val_recall: 0.2434\n",
      "Epoch 82/100\n",
      "280/280 [==============================] - 1s 4ms/step - loss: 0.6118 - accuracy: 0.6632 - precision: 0.6192 - recall: 0.2561 - val_loss: 0.6326 - val_accuracy: 0.6641 - val_precision: 0.5630 - val_recall: 0.2421\n",
      "Epoch 83/100\n",
      "280/280 [==============================] - 1s 4ms/step - loss: 0.6121 - accuracy: 0.6610 - precision: 0.6185 - recall: 0.2417 - val_loss: 0.6333 - val_accuracy: 0.6601 - val_precision: 0.5489 - val_recall: 0.2409\n",
      "Epoch 84/100\n",
      "280/280 [==============================] - 1s 5ms/step - loss: 0.6106 - accuracy: 0.6670 - precision: 0.6334 - recall: 0.2581 - val_loss: 0.6323 - val_accuracy: 0.6650 - val_precision: 0.5705 - val_recall: 0.2295\n",
      "Epoch 85/100\n",
      "280/280 [==============================] - 1s 4ms/step - loss: 0.6125 - accuracy: 0.6642 - precision: 0.6219 - recall: 0.2584 - val_loss: 0.6308 - val_accuracy: 0.6637 - val_precision: 0.5739 - val_recall: 0.2055\n",
      "Epoch 86/100\n",
      "280/280 [==============================] - 1s 5ms/step - loss: 0.6138 - accuracy: 0.6610 - precision: 0.6174 - recall: 0.2435 - val_loss: 0.6310 - val_accuracy: 0.6588 - val_precision: 0.5465 - val_recall: 0.2295\n",
      "Epoch 87/100\n",
      "280/280 [==============================] - 1s 4ms/step - loss: 0.6106 - accuracy: 0.6621 - precision: 0.6132 - recall: 0.2590 - val_loss: 0.6321 - val_accuracy: 0.6641 - val_precision: 0.5630 - val_recall: 0.2421\n",
      "Epoch 88/100\n",
      "280/280 [==============================] - 1s 5ms/step - loss: 0.6126 - accuracy: 0.6642 - precision: 0.6266 - recall: 0.2507 - val_loss: 0.6319 - val_accuracy: 0.6668 - val_precision: 0.5763 - val_recall: 0.2333\n",
      "Epoch 89/100\n",
      "280/280 [==============================] - 1s 4ms/step - loss: 0.6131 - accuracy: 0.6583 - precision: 0.6051 - recall: 0.2459 - val_loss: 0.6316 - val_accuracy: 0.6637 - val_precision: 0.5587 - val_recall: 0.2522\n",
      "Epoch 90/100\n",
      "280/280 [==============================] - 1s 5ms/step - loss: 0.6111 - accuracy: 0.6636 - precision: 0.6192 - recall: 0.2584 - val_loss: 0.6315 - val_accuracy: 0.6673 - val_precision: 0.5758 - val_recall: 0.2396\n",
      "Epoch 91/100\n",
      "280/280 [==============================] - 1s 5ms/step - loss: 0.6107 - accuracy: 0.6628 - precision: 0.6186 - recall: 0.2540 - val_loss: 0.6300 - val_accuracy: 0.6628 - val_precision: 0.5610 - val_recall: 0.2320\n",
      "Epoch 92/100\n",
      "280/280 [==============================] - 1s 5ms/step - loss: 0.6120 - accuracy: 0.6639 - precision: 0.6223 - recall: 0.2555 - val_loss: 0.6314 - val_accuracy: 0.6668 - val_precision: 0.5831 - val_recall: 0.2169\n",
      "Epoch 93/100\n",
      "280/280 [==============================] - 1s 5ms/step - loss: 0.6127 - accuracy: 0.6584 - precision: 0.6081 - recall: 0.2411 - val_loss: 0.6309 - val_accuracy: 0.6650 - val_precision: 0.5645 - val_recall: 0.2484\n",
      "Epoch 94/100\n",
      "280/280 [==============================] - 1s 4ms/step - loss: 0.6110 - accuracy: 0.6640 - precision: 0.6199 - recall: 0.2602 - val_loss: 0.6338 - val_accuracy: 0.6628 - val_precision: 0.5549 - val_recall: 0.2547\n",
      "Epoch 95/100\n",
      "280/280 [==============================] - 1s 4ms/step - loss: 0.6078 - accuracy: 0.6707 - precision: 0.6415 - recall: 0.2689 - val_loss: 0.6355 - val_accuracy: 0.6614 - val_precision: 0.5631 - val_recall: 0.2081\n",
      "Epoch 96/100\n",
      "280/280 [==============================] - 1s 5ms/step - loss: 0.6112 - accuracy: 0.6644 - precision: 0.6221 - recall: 0.2587 - val_loss: 0.6318 - val_accuracy: 0.6619 - val_precision: 0.5562 - val_recall: 0.2371\n",
      "Epoch 97/100\n",
      "280/280 [==============================] - 1s 4ms/step - loss: 0.6059 - accuracy: 0.6651 - precision: 0.6235 - recall: 0.2617 - val_loss: 0.6355 - val_accuracy: 0.6574 - val_precision: 0.5361 - val_recall: 0.2623\n",
      "Epoch 98/100\n",
      "280/280 [==============================] - 1s 4ms/step - loss: 0.6068 - accuracy: 0.6605 - precision: 0.6005 - recall: 0.2722 - val_loss: 0.6345 - val_accuracy: 0.6628 - val_precision: 0.5617 - val_recall: 0.2295\n",
      "Epoch 99/100\n",
      "280/280 [==============================] - 1s 5ms/step - loss: 0.6079 - accuracy: 0.6658 - precision: 0.6242 - recall: 0.2650 - val_loss: 0.6317 - val_accuracy: 0.6570 - val_precision: 0.5413 - val_recall: 0.2232\n",
      "Epoch 100/100\n",
      "280/280 [==============================] - 1s 5ms/step - loss: 0.6104 - accuracy: 0.6669 - precision: 0.6239 - recall: 0.2731 - val_loss: 0.6334 - val_accuracy: 0.6556 - val_precision: 0.5364 - val_recall: 0.2232\n"
     ]
    }
   ],
   "source": [
    "history = model.fit(xtrain, ytrain, batch_size=batch_size, epochs=100, validation_data=(xtest, ytest))"
   ]
  },
  {
   "cell_type": "code",
   "execution_count": 9,
   "id": "2df9ca69",
   "metadata": {
    "scrolled": true
   },
   "outputs": [
    {
     "data": {
      "image/png": "[encoded data removed]",
      "text/plain": [
       "<Figure size 640x480 with 1 Axes>"
      ]
     },
     "metadata": {},
     "output_type": "display_data"
    }
   ],
   "source": [
    "plot_hist(history)"
   ]
  },
  {
   "cell_type": "code",
   "execution_count": 10,
   "id": "486ff6c8",
   "metadata": {},
   "outputs": [
    {
     "name": "stdout",
     "output_type": "stream",
     "text": [
      "70/70 [==============================] - 0s 1ms/step\n",
      "Accuracy:  0.6556202418271384\n",
      "\n",
      "Confusion Matrix: \n",
      " [[1287  153]\n",
      " [ 616  177]]\n",
      "\n",
      "classification_report: \n",
      "               precision    recall  f1-score   support\n",
      "\n",
      "         0.0       0.68      0.89      0.77      1440\n",
      "         1.0       0.54      0.22      0.32       793\n",
      "\n",
      "    accuracy                           0.66      2233\n",
      "   macro avg       0.61      0.56      0.54      2233\n",
      "weighted avg       0.63      0.66      0.61      2233\n",
      "\n"
     ]
    }
   ],
   "source": [
    "y_pred = model.predict(xtest)\n",
    "y_pred = np.where(y_pred > 0.5, 1, 0)\n",
    "cm = confusion_matrix(ytest, y_pred)\n",
    "print(\"Accuracy: \", accuracy_score(ytest, y_pred))\n",
    "print(\"\\nConfusion Matrix: \\n\", cm)\n",
    "print(\"\\nclassification_report: \\n\", classification_report(ytest, y_pred))"
   ]
  },
  {
   "cell_type": "markdown",
   "id": "6f3093eb",
   "metadata": {},
   "source": [
    "### Tuned Model"
   ]
  },
  {
   "cell_type": "code",
   "execution_count": 17,
   "id": "cbc4e08a",
   "metadata": {},
   "outputs": [],
   "source": [
    "def build_model(hp):\n",
    "    model = Sequential()\n",
    "    model.add(GRU(\n",
    "        units=hp.Int(\"units\", min_value=32, max_value=256, step=32),\n",
    "        return_sequences=True,\n",
    "        input_shape=(sequence_length, X_train.shape[1]),\n",
    "    ))\n",
    "    model.add(Dropout(hp.Float(\"dropout_1\", min_value=0.2, max_value=0.5, step=0.1)))\n",
    "    model.add(Dense(1, activation='sigmoid'))\n",
    "    \n",
    "    model.compile(\n",
    "        optimizer=hp.Choice(\"optimizer\", [\"adam\", \"rmsprop\", \"sgd\"]),\n",
    "        loss=hp.Choice(\"loss\", [\"binary_crossentropy\", \"mean_squared_error\"]),\n",
    "        metrics=[\"accuracy\", Precision(), Recall()],\n",
    "    )\n",
    "    return model"
   ]
  },
  {
   "cell_type": "code",
   "execution_count": 18,
   "id": "1f9ff3ad",
   "metadata": {},
   "outputs": [
    {
     "name": "stdout",
     "output_type": "stream",
     "text": [
      "INFO:tensorflow:Reloading Tuner from tuned_models\\thyroid_gru_tuning\\tuner0.json\n",
      "INFO:tensorflow:Oracle triggered exit\n"
     ]
    }
   ],
   "source": [
    "# RandomSearch to find the best hyperparameters\n",
    "tuner = RandomSearch(\n",
    "    build_model,\n",
    "    objective='val_accuracy',\n",
    "    max_trials=5,  # Adjust the number of trials as needed\n",
    "    directory='tuned_models',\n",
    "    project_name='thyroid_gru_tuning'\n",
    ")\n",
    "\n",
    "tuner.search(xtrain, \n",
    "             ytrain, \n",
    "             validation_data=(xtest, ytest),\n",
    "             callbacks=[tf.keras.callbacks.EarlyStopping(patience=5)])"
   ]
  },
  {
   "cell_type": "code",
   "execution_count": 24,
   "id": "041766d9",
   "metadata": {},
   "outputs": [
    {
     "data": {
      "text/plain": [
       "[<keras_tuner.engine.hyperparameters.hyperparameters.HyperParameters at 0x1ed177d1310>]"
      ]
     },
     "execution_count": 24,
     "metadata": {},
     "output_type": "execute_result"
    }
   ],
   "source": [
    "# get params of best model\n",
    "best_hps = tuner.get_best_hyperparameters(num_trials=1)\n",
    "best_hps"
   ]
  },
  {
   "cell_type": "code",
   "execution_count": 28,
   "id": "50cfa4ac",
   "metadata": {
    "scrolled": false
   },
   "outputs": [
    {
     "name": "stdout",
     "output_type": "stream",
     "text": [
      "WARNING:tensorflow:Inconsistent references when loading the checkpoint into this object graph. For example, in the saved checkpoint object, `model.layer.weight` and `model.layer_copy.weight` reference the same variable, while in the current object these are two different variables. The referenced variables are:(<keras.layers.core.dense.Dense object at 0x000001ED1663C5E0> and <keras.layers.regularization.dropout.Dropout object at 0x000001ED1D30BFA0>).\n",
      "Model: \"sequential\"\n",
      "_________________________________________________________________\n",
      " Layer (type)                Output Shape              Param #   \n",
      "=================================================================\n",
      " gru (GRU)                   (None, 10, 160)           81600     \n",
      "                                                                 \n",
      " dropout (Dropout)           (None, 10, 160)           0         \n",
      "                                                                 \n",
      " dense (Dense)               (None, 10, 1)             161       \n",
      "                                                                 \n",
      "=================================================================\n",
      "Total params: 81,761\n",
      "Trainable params: 81,761\n",
      "Non-trainable params: 0\n",
      "_________________________________________________________________\n"
     ]
    }
   ],
   "source": [
    "best_model = tuner.get_best_models(num_models=1)[0]\n",
    "best_model.summary()"
   ]
  },
  {
   "cell_type": "code",
   "execution_count": 39,
   "id": "f304ca0b",
   "metadata": {},
   "outputs": [
    {
     "name": "stdout",
     "output_type": "stream",
     "text": [
      "Epoch 1/100\n"
     ]
    },
    {
     "ename": "TypeError",
     "evalue": "'NoneType' object is not callable",
     "output_type": "error",
     "traceback": [
      "\u001b[1;31m---------------------------------------------------------------------------\u001b[0m",
      "\u001b[1;31mTypeError\u001b[0m                                 Traceback (most recent call last)",
      "\u001b[1;32m~\\AppData\\Local\\Temp\\ipykernel_23912\\2721120477.py\u001b[0m in \u001b[0;36m<module>\u001b[1;34m\u001b[0m\n\u001b[0;32m      1\u001b[0m \u001b[1;31m# build and fit best model\u001b[0m\u001b[1;33m\u001b[0m\u001b[1;33m\u001b[0m\u001b[0m\n\u001b[0;32m      2\u001b[0m \u001b[0mbest_model\u001b[0m\u001b[1;33m.\u001b[0m\u001b[0mbuild\u001b[0m\u001b[1;33m(\u001b[0m\u001b[0mxtrain\u001b[0m\u001b[1;33m.\u001b[0m\u001b[0mshape\u001b[0m\u001b[1;33m)\u001b[0m\u001b[1;33m\u001b[0m\u001b[1;33m\u001b[0m\u001b[0m\n\u001b[1;32m----> 3\u001b[1;33m \u001b[0mhistory\u001b[0m \u001b[1;33m=\u001b[0m \u001b[0mbest_model\u001b[0m\u001b[1;33m.\u001b[0m\u001b[0mfit\u001b[0m\u001b[1;33m(\u001b[0m\u001b[0mxtrain\u001b[0m\u001b[1;33m,\u001b[0m \u001b[0mytrain\u001b[0m\u001b[1;33m,\u001b[0m \u001b[0mbatch_size\u001b[0m\u001b[1;33m=\u001b[0m\u001b[0mbatch_size\u001b[0m\u001b[1;33m,\u001b[0m \u001b[0mepochs\u001b[0m\u001b[1;33m=\u001b[0m\u001b[1;36m100\u001b[0m\u001b[1;33m,\u001b[0m \u001b[0mvalidation_data\u001b[0m\u001b[1;33m=\u001b[0m\u001b[1;33m(\u001b[0m\u001b[0mxtest\u001b[0m\u001b[1;33m,\u001b[0m \u001b[0mytest\u001b[0m\u001b[1;33m)\u001b[0m\u001b[1;33m)\u001b[0m\u001b[1;33m\u001b[0m\u001b[1;33m\u001b[0m\u001b[0m\n\u001b[0m",
      "\u001b[1;32mD:\\Ananconda\\lib\\site-packages\\keras\\utils\\traceback_utils.py\u001b[0m in \u001b[0;36merror_handler\u001b[1;34m(*args, **kwargs)\u001b[0m\n\u001b[0;32m     68\u001b[0m             \u001b[1;31m# To get the full stack trace, call:\u001b[0m\u001b[1;33m\u001b[0m\u001b[1;33m\u001b[0m\u001b[0m\n\u001b[0;32m     69\u001b[0m             \u001b[1;31m# `tf.debugging.disable_traceback_filtering()`\u001b[0m\u001b[1;33m\u001b[0m\u001b[1;33m\u001b[0m\u001b[0m\n\u001b[1;32m---> 70\u001b[1;33m             \u001b[1;32mraise\u001b[0m \u001b[0me\u001b[0m\u001b[1;33m.\u001b[0m\u001b[0mwith_traceback\u001b[0m\u001b[1;33m(\u001b[0m\u001b[0mfiltered_tb\u001b[0m\u001b[1;33m)\u001b[0m \u001b[1;32mfrom\u001b[0m \u001b[1;32mNone\u001b[0m\u001b[1;33m\u001b[0m\u001b[1;33m\u001b[0m\u001b[0m\n\u001b[0m\u001b[0;32m     71\u001b[0m         \u001b[1;32mfinally\u001b[0m\u001b[1;33m:\u001b[0m\u001b[1;33m\u001b[0m\u001b[1;33m\u001b[0m\u001b[0m\n\u001b[0;32m     72\u001b[0m             \u001b[1;32mdel\u001b[0m \u001b[0mfiltered_tb\u001b[0m\u001b[1;33m\u001b[0m\u001b[1;33m\u001b[0m\u001b[0m\n",
      "\u001b[1;32mD:\\Ananconda\\lib\\site-packages\\tensorflow\\python\\eager\\polymorphic_function\\polymorphic_function.py\u001b[0m in \u001b[0;36m_call\u001b[1;34m(self, *args, **kwds)\u001b[0m\n\u001b[0;32m    910\u001b[0m       \u001b[1;31m# In this case we have created variables on the first call, so we run the\u001b[0m\u001b[1;33m\u001b[0m\u001b[1;33m\u001b[0m\u001b[0m\n\u001b[0;32m    911\u001b[0m       \u001b[1;31m# defunned version which is guaranteed to never create variables.\u001b[0m\u001b[1;33m\u001b[0m\u001b[1;33m\u001b[0m\u001b[0m\n\u001b[1;32m--> 912\u001b[1;33m       \u001b[1;32mreturn\u001b[0m \u001b[0mself\u001b[0m\u001b[1;33m.\u001b[0m\u001b[0m_no_variable_creation_fn\u001b[0m\u001b[1;33m(\u001b[0m\u001b[1;33m*\u001b[0m\u001b[0margs\u001b[0m\u001b[1;33m,\u001b[0m \u001b[1;33m**\u001b[0m\u001b[0mkwds\u001b[0m\u001b[1;33m)\u001b[0m  \u001b[1;31m# pylint: disable=not-callable\u001b[0m\u001b[1;33m\u001b[0m\u001b[1;33m\u001b[0m\u001b[0m\n\u001b[0m\u001b[0;32m    913\u001b[0m     \u001b[1;32melif\u001b[0m \u001b[0mself\u001b[0m\u001b[1;33m.\u001b[0m\u001b[0m_variable_creation_fn\u001b[0m \u001b[1;32mis\u001b[0m \u001b[1;32mnot\u001b[0m \u001b[1;32mNone\u001b[0m\u001b[1;33m:\u001b[0m\u001b[1;33m\u001b[0m\u001b[1;33m\u001b[0m\u001b[0m\n\u001b[0;32m    914\u001b[0m       \u001b[1;31m# Release the lock early so that multiple threads can perform the call\u001b[0m\u001b[1;33m\u001b[0m\u001b[1;33m\u001b[0m\u001b[0m\n",
      "\u001b[1;31mTypeError\u001b[0m: 'NoneType' object is not callable"
     ]
    }
   ],
   "source": [
    "# build and fit best model\n",
    "best_model.build(xtrain.shape)\n",
    "history = best_model.fit(xtrain, ytrain, batch_size=batch_size, epochs=100, validation_data=(xtest, ytest))"
   ]
  },
  {
   "cell_type": "code",
   "execution_count": null,
   "id": "7131bebb",
   "metadata": {},
   "outputs": [],
   "source": [
    "plot_hist(history)"
   ]
  },
  {
   "cell_type": "code",
   "execution_count": null,
   "id": "37ca4161",
   "metadata": {},
   "outputs": [],
   "source": [
    "y_pred = model.predict(xtest)\n",
    "y_pred = np.where(y_pred > 0.5, 1, 0)\n",
    "cm = confusion_matrix(ytest, y_pred)\n",
    "print(\"Accuracy: \", accuracy_score(ytest, y_pred))\n",
    "print(\"\\nConfusion Matrix: \\n\", cm)\n",
    "print(\"\\nclassification_report: \\n\", classification_report(ytest, y_pred))"
   ]
  }
 ],
 "metadata": {
  "kernelspec": {
   "display_name": "Python 3 (ipykernel)",
   "language": "python",
   "name": "python3"
  },
  "language_info": {
   "codemirror_mode": {
    "name": "ipython",
    "version": 3
   },
   "file_extension": ".py",
   "mimetype": "text/x-python",
   "name": "python",
   "nbconvert_exporter": "python",
   "pygments_lexer": "ipython3",
   "version": "3.9.13"
  }
 },
 "nbformat": 4,
 "nbformat_minor": 5
}
