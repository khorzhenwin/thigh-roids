{
 "cells": [
  {
   "cell_type": "markdown",
   "id": "30fc284a",
   "metadata": {},
   "source": [
    "# GRU Model\n",
    "\n",
    "## Data Import"
   ]
  },
  {
   "cell_type": "code",
   "execution_count": 18,
   "id": "903fdf0a",
   "metadata": {},
   "outputs": [],
   "source": [
    "import pandas as pd\n",
    "import numpy as np\n",
    "import matplotlib.pyplot as plt\n",
    "import seaborn as sns\n",
    "import os\n",
    "import tensorflow as tf\n",
    "from tensorflow.keras.models import Sequential\n",
    "from tensorflow.keras.layers import GRU, Dense, Dropout\n",
    "from tensorflow.keras.optimizers import Adam\n",
    "from tensorflow.keras.losses import MeanSquaredError\n",
    "from tensorflow.keras.metrics import Precision, Recall, AUC, Accuracy\n",
    "from keras.models import Sequential\n",
    "from sklearn.preprocessing import normalize, StandardScaler\n",
    "from keras_tuner.tuners import RandomSearch\n",
    "from sklearn.metrics import (\n",
    "    accuracy_score,\n",
    "    precision_score,\n",
    "    recall_score,\n",
    "    f1_score,\n",
    "    confusion_matrix,\n",
    "    classification_report,\n",
    ")"
   ]
  },
  {
   "cell_type": "markdown",
   "id": "e732cee4",
   "metadata": {},
   "source": [
    "## Data Preparation"
   ]
  },
  {
   "cell_type": "code",
   "execution_count": 19,
   "id": "f854c205",
   "metadata": {},
   "outputs": [],
   "source": [
    "df_train = pd.read_csv(\"dataset/output/no-oversampling/train.csv\")\n",
    "df_test = pd.read_csv(\"dataset/output/test.csv\")"
   ]
  },
  {
   "cell_type": "code",
   "execution_count": 3,
   "id": "0d0a89e4",
   "metadata": {},
   "outputs": [],
   "source": [
    "# split into X_train, y_train, X_test, y_test\n",
    "X_train = df_train.drop(columns=[\"target\"])\n",
    "y_train = df_train[\"target\"]\n",
    "X_test = df_test.drop(columns=[\"target\"])\n",
    "y_test = df_test[\"target\"]"
   ]
  },
  {
   "cell_type": "code",
   "execution_count": 20,
   "id": "0fbe4b2a",
   "metadata": {},
   "outputs": [],
   "source": [
    "scaler = StandardScaler()\n",
    "train_features = scaler.fit_transform(X_train)\n",
    "test_features = scaler.fit_transform(X_test)\n",
    "\n",
    "sequence_length = 10\n",
    "batch_size = 32\n",
    "\n",
    "train_sequences = []\n",
    "test_sequences = []\n",
    "\n",
    "for i in range(len(train_features) - sequence_length + 1):\n",
    "    train_sequences.append(train_features[i:i + sequence_length])\n",
    "xtrain = np.array(train_sequences)\n",
    "ytrain = y_train[sequence_length - 1:]\n",
    "\n",
    "\n",
    "for i in range(len(test_features) - sequence_length + 1):\n",
    "    test_sequences.append(test_features[i:i + sequence_length])\n",
    "xtest = np.array(test_sequences)\n",
    "ytest = y_test[sequence_length - 1:]"
   ]
  },
  {
   "cell_type": "markdown",
   "id": "78c38050",
   "metadata": {},
   "source": [
    "## Helper Functions"
   ]
  },
  {
   "cell_type": "code",
   "execution_count": 21,
   "id": "1c1773b3",
   "metadata": {},
   "outputs": [],
   "source": [
    "# This plots the auc against iteration to detect overfitting\n",
    "def plot_hist(hist, metric=\"accuracy\"):\n",
    "    plt.plot(hist.history[metric])\n",
    "    plt.plot(hist.history[\"val_\" + metric])\n",
    "    plt.title(f\"model performance\")\n",
    "    plt.ylabel(\"accuracy\")\n",
    "    plt.xlabel(\"epoch\")\n",
    "    plt.legend([\"train\", \"validation\"], loc=\"upper left\")\n",
    "    plt.show()\n",
    "    return"
   ]
  },
  {
   "cell_type": "markdown",
   "id": "072a902e",
   "metadata": {},
   "source": [
    "## Model Building\n",
    "### Base Model"
   ]
  },
  {
   "cell_type": "code",
   "execution_count": 44,
   "id": "6d4a548d",
   "metadata": {},
   "outputs": [],
   "source": [
    "def create_gru_model(sequence_length, num_features):\n",
    "    model = Sequential()\n",
    "    model.add(GRU(32, input_shape=(sequence_length, num_features), dropout=0.2))\n",
    "    model.add(Dense(1, activation='sigmoid'))\n",
    "    model.compile(optimizer=Adam(), loss='binary_crossentropy', metrics=['accuracy', Precision(), Recall()])\n",
    "    return model"
   ]
  },
  {
   "cell_type": "code",
   "execution_count": 45,
   "id": "338f5fd1",
   "metadata": {
    "scrolled": true
   },
   "outputs": [
    {
     "name": "stdout",
     "output_type": "stream",
     "text": [
      "Model: \"sequential_1\"\n",
      "_________________________________________________________________\n",
      " Layer (type)                Output Shape              Param #   \n",
      "=================================================================\n",
      " gru_1 (GRU)                 (None, 32)                4032      \n",
      "                                                                 \n",
      " dense_1 (Dense)             (None, 1)                 33        \n",
      "                                                                 \n",
      "=================================================================\n",
      "Total params: 4,065\n",
      "Trainable params: 4,065\n",
      "Non-trainable params: 0\n",
      "_________________________________________________________________\n"
     ]
    }
   ],
   "source": [
    "# Create and compile the model\n",
    "sequence_length, num_features = sequence_length, X_train.shape[1]\n",
    "model = create_gru_model(sequence_length, num_features)\n",
    "model.summary()"
   ]
  },
  {
   "cell_type": "code",
   "execution_count": 46,
   "id": "a5f3a71f",
   "metadata": {
    "scrolled": true
   },
   "outputs": [
    {
     "name": "stdout",
     "output_type": "stream",
     "text": [
      "Epoch 1/100\n",
      "280/280 [==============================] - 3s 5ms/step - loss: 0.6538 - accuracy: 0.6305 - precision_1: 0.5212 - recall_1: 0.1356 - val_loss: 0.6303 - val_accuracy: 0.6677 - val_precision_1: 0.6584 - val_recall_1: 0.1337\n",
      "Epoch 2/100\n",
      "280/280 [==============================] - 1s 3ms/step - loss: 0.6420 - accuracy: 0.6395 - precision_1: 0.5901 - recall_1: 0.1144 - val_loss: 0.6268 - val_accuracy: 0.6682 - val_precision_1: 0.6413 - val_recall_1: 0.1488\n",
      "Epoch 3/100\n",
      "280/280 [==============================] - 1s 4ms/step - loss: 0.6415 - accuracy: 0.6436 - precision_1: 0.6174 - recall_1: 0.1210 - val_loss: 0.6287 - val_accuracy: 0.6744 - val_precision_1: 0.6387 - val_recall_1: 0.1917\n",
      "Epoch 4/100\n",
      "280/280 [==============================] - 1s 4ms/step - loss: 0.6389 - accuracy: 0.6485 - precision_1: 0.6256 - recall_1: 0.1473 - val_loss: 0.6252 - val_accuracy: 0.6686 - val_precision_1: 0.6345 - val_recall_1: 0.1576\n",
      "Epoch 5/100\n",
      "280/280 [==============================] - 1s 4ms/step - loss: 0.6397 - accuracy: 0.6472 - precision_1: 0.6295 - recall_1: 0.1350 - val_loss: 0.6255 - val_accuracy: 0.6726 - val_precision_1: 0.6372 - val_recall_1: 0.1816\n",
      "Epoch 6/100\n",
      "280/280 [==============================] - 1s 3ms/step - loss: 0.6362 - accuracy: 0.6487 - precision_1: 0.6309 - recall_1: 0.1440 - val_loss: 0.6244 - val_accuracy: 0.6744 - val_precision_1: 0.6460 - val_recall_1: 0.1841\n",
      "Epoch 7/100\n",
      "280/280 [==============================] - 1s 3ms/step - loss: 0.6370 - accuracy: 0.6485 - precision_1: 0.6237 - recall_1: 0.1491 - val_loss: 0.6241 - val_accuracy: 0.6717 - val_precision_1: 0.6471 - val_recall_1: 0.1665\n",
      "Epoch 8/100\n",
      "280/280 [==============================] - 1s 3ms/step - loss: 0.6361 - accuracy: 0.6503 - precision_1: 0.6401 - recall_1: 0.1461 - val_loss: 0.6270 - val_accuracy: 0.6713 - val_precision_1: 0.6347 - val_recall_1: 0.1753\n",
      "Epoch 9/100\n",
      "280/280 [==============================] - 1s 4ms/step - loss: 0.6363 - accuracy: 0.6492 - precision_1: 0.6353 - recall_1: 0.1431 - val_loss: 0.6239 - val_accuracy: 0.6717 - val_precision_1: 0.6630 - val_recall_1: 0.1538\n",
      "Epoch 10/100\n",
      "280/280 [==============================] - 1s 4ms/step - loss: 0.6357 - accuracy: 0.6503 - precision_1: 0.6438 - recall_1: 0.1431 - val_loss: 0.6242 - val_accuracy: 0.6700 - val_precision_1: 0.6647 - val_recall_1: 0.1425\n",
      "Epoch 11/100\n",
      "280/280 [==============================] - 1s 3ms/step - loss: 0.6333 - accuracy: 0.6515 - precision_1: 0.6452 - recall_1: 0.1494 - val_loss: 0.6247 - val_accuracy: 0.6735 - val_precision_1: 0.6322 - val_recall_1: 0.1929\n",
      "Epoch 12/100\n",
      "280/280 [==============================] - 1s 3ms/step - loss: 0.6351 - accuracy: 0.6494 - precision_1: 0.6226 - recall_1: 0.1563 - val_loss: 0.6247 - val_accuracy: 0.6704 - val_precision_1: 0.6163 - val_recall_1: 0.1904\n",
      "Epoch 13/100\n",
      "280/280 [==============================] - 1s 3ms/step - loss: 0.6353 - accuracy: 0.6487 - precision_1: 0.6229 - recall_1: 0.1515 - val_loss: 0.6246 - val_accuracy: 0.6673 - val_precision_1: 0.6316 - val_recall_1: 0.1513\n",
      "Epoch 14/100\n",
      "280/280 [==============================] - 1s 3ms/step - loss: 0.6345 - accuracy: 0.6521 - precision_1: 0.6501 - recall_1: 0.1488 - val_loss: 0.6244 - val_accuracy: 0.6713 - val_precision_1: 0.6347 - val_recall_1: 0.1753\n",
      "Epoch 15/100\n",
      "280/280 [==============================] - 1s 4ms/step - loss: 0.6319 - accuracy: 0.6516 - precision_1: 0.6368 - recall_1: 0.1572 - val_loss: 0.6258 - val_accuracy: 0.6691 - val_precision_1: 0.6239 - val_recall_1: 0.1715\n",
      "Epoch 16/100\n",
      "280/280 [==============================] - 1s 4ms/step - loss: 0.6345 - accuracy: 0.6501 - precision_1: 0.6227 - recall_1: 0.1607 - val_loss: 0.6235 - val_accuracy: 0.6682 - val_precision_1: 0.6605 - val_recall_1: 0.1349\n",
      "Epoch 17/100\n",
      "280/280 [==============================] - 1s 4ms/step - loss: 0.6328 - accuracy: 0.6502 - precision_1: 0.6378 - recall_1: 0.1473 - val_loss: 0.6228 - val_accuracy: 0.6731 - val_precision_1: 0.6438 - val_recall_1: 0.1778\n",
      "Epoch 18/100\n",
      "280/280 [==============================] - 1s 4ms/step - loss: 0.6334 - accuracy: 0.6517 - precision_1: 0.6389 - recall_1: 0.1560 - val_loss: 0.6247 - val_accuracy: 0.6668 - val_precision_1: 0.6195 - val_recall_1: 0.1602\n",
      "Epoch 19/100\n",
      "280/280 [==============================] - 1s 4ms/step - loss: 0.6303 - accuracy: 0.6554 - precision_1: 0.6578 - recall_1: 0.1619 - val_loss: 0.6256 - val_accuracy: 0.6717 - val_precision_1: 0.6200 - val_recall_1: 0.1955\n",
      "Epoch 20/100\n",
      "280/280 [==============================] - 1s 4ms/step - loss: 0.6330 - accuracy: 0.6549 - precision_1: 0.6434 - recall_1: 0.1709 - val_loss: 0.6235 - val_accuracy: 0.6691 - val_precision_1: 0.6227 - val_recall_1: 0.1728\n",
      "Epoch 21/100\n",
      "280/280 [==============================] - 1s 3ms/step - loss: 0.6309 - accuracy: 0.6536 - precision_1: 0.6393 - recall_1: 0.1673 - val_loss: 0.6231 - val_accuracy: 0.6691 - val_precision_1: 0.6174 - val_recall_1: 0.1791\n",
      "Epoch 22/100\n",
      "280/280 [==============================] - 1s 3ms/step - loss: 0.6276 - accuracy: 0.6568 - precision_1: 0.6444 - recall_1: 0.1814 - val_loss: 0.6232 - val_accuracy: 0.6655 - val_precision_1: 0.6075 - val_recall_1: 0.1639\n",
      "Epoch 23/100\n",
      "280/280 [==============================] - 1s 4ms/step - loss: 0.6297 - accuracy: 0.6557 - precision_1: 0.6472 - recall_1: 0.1721 - val_loss: 0.6241 - val_accuracy: 0.6691 - val_precision_1: 0.6184 - val_recall_1: 0.1778\n",
      "Epoch 24/100\n",
      "280/280 [==============================] - 1s 4ms/step - loss: 0.6300 - accuracy: 0.6534 - precision_1: 0.6357 - recall_1: 0.1694 - val_loss: 0.6249 - val_accuracy: 0.6668 - val_precision_1: 0.6109 - val_recall_1: 0.1702\n",
      "Epoch 25/100\n",
      "280/280 [==============================] - 1s 4ms/step - loss: 0.6290 - accuracy: 0.6552 - precision_1: 0.6473 - recall_1: 0.1694 - val_loss: 0.6267 - val_accuracy: 0.6673 - val_precision_1: 0.6050 - val_recall_1: 0.1816\n",
      "Epoch 26/100\n",
      "280/280 [==============================] - 1s 4ms/step - loss: 0.6275 - accuracy: 0.6587 - precision_1: 0.6562 - recall_1: 0.1814 - val_loss: 0.6259 - val_accuracy: 0.6664 - val_precision_1: 0.5976 - val_recall_1: 0.1854\n",
      "Epoch 27/100\n",
      "280/280 [==============================] - 1s 4ms/step - loss: 0.6277 - accuracy: 0.6512 - precision_1: 0.6154 - recall_1: 0.1769 - val_loss: 0.6258 - val_accuracy: 0.6673 - val_precision_1: 0.6008 - val_recall_1: 0.1879\n",
      "Epoch 28/100\n",
      "280/280 [==============================] - 1s 4ms/step - loss: 0.6280 - accuracy: 0.6539 - precision_1: 0.6276 - recall_1: 0.1808 - val_loss: 0.6236 - val_accuracy: 0.6686 - val_precision_1: 0.6091 - val_recall_1: 0.1866\n",
      "Epoch 29/100\n",
      "280/280 [==============================] - 1s 4ms/step - loss: 0.6261 - accuracy: 0.6539 - precision_1: 0.6328 - recall_1: 0.1751 - val_loss: 0.6245 - val_accuracy: 0.6673 - val_precision_1: 0.6116 - val_recall_1: 0.1728\n",
      "Epoch 30/100\n",
      "280/280 [==============================] - 1s 4ms/step - loss: 0.6244 - accuracy: 0.6565 - precision_1: 0.6439 - recall_1: 0.1805 - val_loss: 0.6283 - val_accuracy: 0.6650 - val_precision_1: 0.5789 - val_recall_1: 0.2081\n",
      "Epoch 31/100\n",
      "280/280 [==============================] - 1s 4ms/step - loss: 0.6243 - accuracy: 0.6590 - precision_1: 0.6426 - recall_1: 0.1966 - val_loss: 0.6275 - val_accuracy: 0.6646 - val_precision_1: 0.5866 - val_recall_1: 0.1879\n",
      "Epoch 32/100\n",
      "280/280 [==============================] - 1s 4ms/step - loss: 0.6247 - accuracy: 0.6577 - precision_1: 0.6359 - recall_1: 0.1957 - val_loss: 0.6300 - val_accuracy: 0.6659 - val_precision_1: 0.5819 - val_recall_1: 0.2106\n",
      "Epoch 33/100\n",
      "280/280 [==============================] - 1s 4ms/step - loss: 0.6196 - accuracy: 0.6625 - precision_1: 0.6543 - recall_1: 0.2047 - val_loss: 0.6300 - val_accuracy: 0.6664 - val_precision_1: 0.5916 - val_recall_1: 0.1955\n",
      "Epoch 34/100\n",
      "280/280 [==============================] - 1s 4ms/step - loss: 0.6224 - accuracy: 0.6579 - precision_1: 0.6348 - recall_1: 0.1984 - val_loss: 0.6295 - val_accuracy: 0.6659 - val_precision_1: 0.5983 - val_recall_1: 0.1803\n",
      "Epoch 35/100\n",
      "280/280 [==============================] - 1s 4ms/step - loss: 0.6200 - accuracy: 0.6602 - precision_1: 0.6433 - recall_1: 0.2032 - val_loss: 0.6280 - val_accuracy: 0.6668 - val_precision_1: 0.5872 - val_recall_1: 0.2081\n",
      "Epoch 36/100\n"
     ]
    },
    {
     "name": "stdout",
     "output_type": "stream",
     "text": [
      "280/280 [==============================] - 1s 4ms/step - loss: 0.6188 - accuracy: 0.6596 - precision_1: 0.6397 - recall_1: 0.2032 - val_loss: 0.6312 - val_accuracy: 0.6628 - val_precision_1: 0.5637 - val_recall_1: 0.2232\n",
      "Epoch 37/100\n",
      "280/280 [==============================] - 1s 4ms/step - loss: 0.6166 - accuracy: 0.6593 - precision_1: 0.6262 - recall_1: 0.2187 - val_loss: 0.6329 - val_accuracy: 0.6614 - val_precision_1: 0.5615 - val_recall_1: 0.2131\n",
      "Epoch 38/100\n",
      "280/280 [==============================] - 1s 4ms/step - loss: 0.6206 - accuracy: 0.6582 - precision_1: 0.6240 - recall_1: 0.2142 - val_loss: 0.6345 - val_accuracy: 0.6628 - val_precision_1: 0.5893 - val_recall_1: 0.1665\n",
      "Epoch 39/100\n",
      "280/280 [==============================] - 1s 4ms/step - loss: 0.6161 - accuracy: 0.6619 - precision_1: 0.6347 - recall_1: 0.2238 - val_loss: 0.6319 - val_accuracy: 0.6543 - val_precision_1: 0.5335 - val_recall_1: 0.2106\n",
      "Epoch 40/100\n",
      "280/280 [==============================] - 1s 4ms/step - loss: 0.6153 - accuracy: 0.6607 - precision_1: 0.6233 - recall_1: 0.2318 - val_loss: 0.6311 - val_accuracy: 0.6614 - val_precision_1: 0.5714 - val_recall_1: 0.1866\n",
      "Epoch 41/100\n",
      "280/280 [==============================] - 1s 4ms/step - loss: 0.6148 - accuracy: 0.6560 - precision_1: 0.6157 - recall_1: 0.2106 - val_loss: 0.6323 - val_accuracy: 0.6583 - val_precision_1: 0.5497 - val_recall_1: 0.2093\n",
      "Epoch 42/100\n",
      "280/280 [==============================] - 1s 4ms/step - loss: 0.6151 - accuracy: 0.6618 - precision_1: 0.6216 - recall_1: 0.2420 - val_loss: 0.6328 - val_accuracy: 0.6655 - val_precision_1: 0.5920 - val_recall_1: 0.1866\n",
      "Epoch 43/100\n",
      "280/280 [==============================] - 1s 4ms/step - loss: 0.6144 - accuracy: 0.6622 - precision_1: 0.6247 - recall_1: 0.2402 - val_loss: 0.6360 - val_accuracy: 0.6614 - val_precision_1: 0.5549 - val_recall_1: 0.2358\n",
      "Epoch 44/100\n",
      "280/280 [==============================] - 1s 4ms/step - loss: 0.6106 - accuracy: 0.6665 - precision_1: 0.6355 - recall_1: 0.2516 - val_loss: 0.6360 - val_accuracy: 0.6610 - val_precision_1: 0.5833 - val_recall_1: 0.1589\n",
      "Epoch 45/100\n",
      "280/280 [==============================] - 1s 4ms/step - loss: 0.6133 - accuracy: 0.6596 - precision_1: 0.6154 - recall_1: 0.2366 - val_loss: 0.6340 - val_accuracy: 0.6601 - val_precision_1: 0.5528 - val_recall_1: 0.2245\n",
      "Epoch 46/100\n",
      "280/280 [==============================] - 1s 4ms/step - loss: 0.6112 - accuracy: 0.6657 - precision_1: 0.6333 - recall_1: 0.2498 - val_loss: 0.6342 - val_accuracy: 0.6637 - val_precision_1: 0.5691 - val_recall_1: 0.2182\n",
      "Epoch 47/100\n",
      "280/280 [==============================] - 1s 4ms/step - loss: 0.6107 - accuracy: 0.6632 - precision_1: 0.6233 - recall_1: 0.2492 - val_loss: 0.6324 - val_accuracy: 0.6588 - val_precision_1: 0.5522 - val_recall_1: 0.2068\n",
      "Epoch 48/100\n",
      "280/280 [==============================] - 1s 4ms/step - loss: 0.6082 - accuracy: 0.6697 - precision_1: 0.6420 - recall_1: 0.2620 - val_loss: 0.6366 - val_accuracy: 0.6570 - val_precision_1: 0.5408 - val_recall_1: 0.2257\n",
      "Epoch 49/100\n",
      "280/280 [==============================] - 1s 4ms/step - loss: 0.6090 - accuracy: 0.6679 - precision_1: 0.6314 - recall_1: 0.2671 - val_loss: 0.6385 - val_accuracy: 0.6525 - val_precision_1: 0.5222 - val_recall_1: 0.2522\n",
      "Epoch 50/100\n",
      "280/280 [==============================] - 1s 4ms/step - loss: 0.6072 - accuracy: 0.6620 - precision_1: 0.6089 - recall_1: 0.2665 - val_loss: 0.6360 - val_accuracy: 0.6552 - val_precision_1: 0.5326 - val_recall_1: 0.2371\n",
      "Epoch 51/100\n",
      "280/280 [==============================] - 1s 4ms/step - loss: 0.6091 - accuracy: 0.6687 - precision_1: 0.6283 - recall_1: 0.2773 - val_loss: 0.6354 - val_accuracy: 0.6605 - val_precision_1: 0.5519 - val_recall_1: 0.2346\n",
      "Epoch 52/100\n",
      "280/280 [==============================] - 1s 4ms/step - loss: 0.6062 - accuracy: 0.6693 - precision_1: 0.6352 - recall_1: 0.2695 - val_loss: 0.6377 - val_accuracy: 0.6619 - val_precision_1: 0.5508 - val_recall_1: 0.2598\n",
      "Epoch 53/100\n",
      "280/280 [==============================] - 1s 4ms/step - loss: 0.6050 - accuracy: 0.6682 - precision_1: 0.6279 - recall_1: 0.2743 - val_loss: 0.6378 - val_accuracy: 0.6614 - val_precision_1: 0.5559 - val_recall_1: 0.2320\n",
      "Epoch 54/100\n",
      "280/280 [==============================] - 1s 4ms/step - loss: 0.6023 - accuracy: 0.6745 - precision_1: 0.6408 - recall_1: 0.2931 - val_loss: 0.6368 - val_accuracy: 0.6547 - val_precision_1: 0.5311 - val_recall_1: 0.2371\n",
      "Epoch 55/100\n",
      "280/280 [==============================] - 1s 4ms/step - loss: 0.6007 - accuracy: 0.6738 - precision_1: 0.6372 - recall_1: 0.2949 - val_loss: 0.6416 - val_accuracy: 0.6543 - val_precision_1: 0.5276 - val_recall_1: 0.2535\n",
      "Epoch 56/100\n",
      "280/280 [==============================] - 1s 4ms/step - loss: 0.6037 - accuracy: 0.6713 - precision_1: 0.6244 - recall_1: 0.3015 - val_loss: 0.6425 - val_accuracy: 0.6543 - val_precision_1: 0.5286 - val_recall_1: 0.2446\n",
      "Epoch 57/100\n",
      "280/280 [==============================] - 1s 4ms/step - loss: 0.6010 - accuracy: 0.6759 - precision_1: 0.6432 - recall_1: 0.2973 - val_loss: 0.6460 - val_accuracy: 0.6444 - val_precision_1: 0.4989 - val_recall_1: 0.2749\n",
      "Epoch 58/100\n",
      "280/280 [==============================] - 1s 4ms/step - loss: 0.5970 - accuracy: 0.6725 - precision_1: 0.6268 - recall_1: 0.3050 - val_loss: 0.6475 - val_accuracy: 0.6404 - val_precision_1: 0.4899 - val_recall_1: 0.3052\n",
      "Epoch 59/100\n",
      "280/280 [==============================] - 1s 4ms/step - loss: 0.6007 - accuracy: 0.6746 - precision_1: 0.6281 - recall_1: 0.3164 - val_loss: 0.6435 - val_accuracy: 0.6480 - val_precision_1: 0.5108 - val_recall_1: 0.2093\n",
      "Epoch 60/100\n",
      "280/280 [==============================] - 1s 4ms/step - loss: 0.5978 - accuracy: 0.6745 - precision_1: 0.6365 - recall_1: 0.3003 - val_loss: 0.6438 - val_accuracy: 0.6489 - val_precision_1: 0.5122 - val_recall_1: 0.2383\n",
      "Epoch 61/100\n",
      "280/280 [==============================] - 1s 4ms/step - loss: 0.5952 - accuracy: 0.6804 - precision_1: 0.6467 - recall_1: 0.3188 - val_loss: 0.6459 - val_accuracy: 0.6435 - val_precision_1: 0.4968 - val_recall_1: 0.2926\n",
      "Epoch 62/100\n",
      "280/280 [==============================] - 1s 4ms/step - loss: 0.5995 - accuracy: 0.6702 - precision_1: 0.6130 - recall_1: 0.3176 - val_loss: 0.6452 - val_accuracy: 0.6494 - val_precision_1: 0.5132 - val_recall_1: 0.2446\n",
      "Epoch 63/100\n",
      "280/280 [==============================] - 1s 4ms/step - loss: 0.5984 - accuracy: 0.6709 - precision_1: 0.6181 - recall_1: 0.3119 - val_loss: 0.6451 - val_accuracy: 0.6574 - val_precision_1: 0.5374 - val_recall_1: 0.2535\n",
      "Epoch 64/100\n",
      "280/280 [==============================] - 1s 4ms/step - loss: 0.5974 - accuracy: 0.6736 - precision_1: 0.6243 - recall_1: 0.3173 - val_loss: 0.6431 - val_accuracy: 0.6534 - val_precision_1: 0.5280 - val_recall_1: 0.2257\n",
      "Epoch 65/100\n",
      "280/280 [==============================] - 1s 4ms/step - loss: 0.5950 - accuracy: 0.6743 - precision_1: 0.6273 - recall_1: 0.3158 - val_loss: 0.6466 - val_accuracy: 0.6413 - val_precision_1: 0.4910 - val_recall_1: 0.2749\n",
      "Epoch 66/100\n",
      "280/280 [==============================] - 1s 4ms/step - loss: 0.5944 - accuracy: 0.6769 - precision_1: 0.6302 - recall_1: 0.3269 - val_loss: 0.6471 - val_accuracy: 0.6444 - val_precision_1: 0.4987 - val_recall_1: 0.2459\n",
      "Epoch 67/100\n",
      "280/280 [==============================] - 1s 4ms/step - loss: 0.5926 - accuracy: 0.6799 - precision_1: 0.6415 - recall_1: 0.3245 - val_loss: 0.6486 - val_accuracy: 0.6422 - val_precision_1: 0.4930 - val_recall_1: 0.2661\n",
      "Epoch 68/100\n",
      "280/280 [==============================] - 1s 4ms/step - loss: 0.5886 - accuracy: 0.6831 - precision_1: 0.6411 - recall_1: 0.3448 - val_loss: 0.6522 - val_accuracy: 0.6359 - val_precision_1: 0.4798 - val_recall_1: 0.2989\n",
      "Epoch 69/100\n",
      "280/280 [==============================] - 1s 4ms/step - loss: 0.5893 - accuracy: 0.6803 - precision_1: 0.6344 - recall_1: 0.3406 - val_loss: 0.6512 - val_accuracy: 0.6305 - val_precision_1: 0.4680 - val_recall_1: 0.2951\n",
      "Epoch 70/100\n",
      "280/280 [==============================] - 1s 4ms/step - loss: 0.5878 - accuracy: 0.6869 - precision_1: 0.6496 - recall_1: 0.3517 - val_loss: 0.6523 - val_accuracy: 0.6467 - val_precision_1: 0.5046 - val_recall_1: 0.2774\n",
      "Epoch 71/100\n"
     ]
    },
    {
     "name": "stdout",
     "output_type": "stream",
     "text": [
      "280/280 [==============================] - 1s 4ms/step - loss: 0.5925 - accuracy: 0.6802 - precision_1: 0.6298 - recall_1: 0.3493 - val_loss: 0.6594 - val_accuracy: 0.6274 - val_precision_1: 0.4680 - val_recall_1: 0.3594\n",
      "Epoch 72/100\n",
      "280/280 [==============================] - 1s 4ms/step - loss: 0.5890 - accuracy: 0.6810 - precision_1: 0.6337 - recall_1: 0.3463 - val_loss: 0.6561 - val_accuracy: 0.6310 - val_precision_1: 0.4674 - val_recall_1: 0.2799\n",
      "Epoch 73/100\n",
      "280/280 [==============================] - 1s 4ms/step - loss: 0.5894 - accuracy: 0.6865 - precision_1: 0.6451 - recall_1: 0.3573 - val_loss: 0.6521 - val_accuracy: 0.6467 - val_precision_1: 0.5047 - val_recall_1: 0.2736\n",
      "Epoch 74/100\n",
      "280/280 [==============================] - 1s 4ms/step - loss: 0.5882 - accuracy: 0.6831 - precision_1: 0.6389 - recall_1: 0.3490 - val_loss: 0.6557 - val_accuracy: 0.6399 - val_precision_1: 0.4884 - val_recall_1: 0.2926\n",
      "Epoch 75/100\n",
      "280/280 [==============================] - 1s 4ms/step - loss: 0.5855 - accuracy: 0.6819 - precision_1: 0.6332 - recall_1: 0.3529 - val_loss: 0.6541 - val_accuracy: 0.6467 - val_precision_1: 0.5054 - val_recall_1: 0.2358\n",
      "Epoch 76/100\n",
      "280/280 [==============================] - 1s 4ms/step - loss: 0.5856 - accuracy: 0.6855 - precision_1: 0.6437 - recall_1: 0.3540 - val_loss: 0.6594 - val_accuracy: 0.6296 - val_precision_1: 0.4676 - val_recall_1: 0.3090\n",
      "Epoch 77/100\n",
      "280/280 [==============================] - 1s 4ms/step - loss: 0.5844 - accuracy: 0.6870 - precision_1: 0.6436 - recall_1: 0.3636 - val_loss: 0.6576 - val_accuracy: 0.6449 - val_precision_1: 0.5000 - val_recall_1: 0.2636\n",
      "Epoch 78/100\n",
      "280/280 [==============================] - 1s 4ms/step - loss: 0.5881 - accuracy: 0.6785 - precision_1: 0.6218 - recall_1: 0.3561 - val_loss: 0.6566 - val_accuracy: 0.6386 - val_precision_1: 0.4857 - val_recall_1: 0.3001\n",
      "Epoch 79/100\n",
      "280/280 [==============================] - 1s 4ms/step - loss: 0.5860 - accuracy: 0.6862 - precision_1: 0.6471 - recall_1: 0.3523 - val_loss: 0.6579 - val_accuracy: 0.6346 - val_precision_1: 0.4782 - val_recall_1: 0.3178\n",
      "Epoch 80/100\n",
      "280/280 [==============================] - 1s 4ms/step - loss: 0.5849 - accuracy: 0.6853 - precision_1: 0.6361 - recall_1: 0.3687 - val_loss: 0.6607 - val_accuracy: 0.6283 - val_precision_1: 0.4622 - val_recall_1: 0.2850\n",
      "Epoch 81/100\n",
      "280/280 [==============================] - 1s 4ms/step - loss: 0.5827 - accuracy: 0.6885 - precision_1: 0.6449 - recall_1: 0.3696 - val_loss: 0.6638 - val_accuracy: 0.6346 - val_precision_1: 0.4785 - val_recall_1: 0.3228\n",
      "Epoch 82/100\n",
      "280/280 [==============================] - 1s 4ms/step - loss: 0.5858 - accuracy: 0.6879 - precision_1: 0.6421 - recall_1: 0.3720 - val_loss: 0.6582 - val_accuracy: 0.6449 - val_precision_1: 0.5000 - val_recall_1: 0.2799\n",
      "Epoch 83/100\n",
      "280/280 [==============================] - 1s 4ms/step - loss: 0.5792 - accuracy: 0.6900 - precision_1: 0.6489 - recall_1: 0.3711 - val_loss: 0.6638 - val_accuracy: 0.6310 - val_precision_1: 0.4713 - val_recall_1: 0.3216\n",
      "Epoch 84/100\n",
      "280/280 [==============================] - 1s 4ms/step - loss: 0.5847 - accuracy: 0.6871 - precision_1: 0.6388 - recall_1: 0.3741 - val_loss: 0.6598 - val_accuracy: 0.6386 - val_precision_1: 0.4856 - val_recall_1: 0.2976\n",
      "Epoch 85/100\n",
      "280/280 [==============================] - 1s 4ms/step - loss: 0.5790 - accuracy: 0.6910 - precision_1: 0.6464 - recall_1: 0.3818 - val_loss: 0.6631 - val_accuracy: 0.6444 - val_precision_1: 0.4989 - val_recall_1: 0.2888\n",
      "Epoch 86/100\n",
      "280/280 [==============================] - 1s 4ms/step - loss: 0.5834 - accuracy: 0.6848 - precision_1: 0.6364 - recall_1: 0.3645 - val_loss: 0.6658 - val_accuracy: 0.6350 - val_precision_1: 0.4796 - val_recall_1: 0.3253\n",
      "Epoch 87/100\n",
      "280/280 [==============================] - 1s 4ms/step - loss: 0.5792 - accuracy: 0.6887 - precision_1: 0.6413 - recall_1: 0.3782 - val_loss: 0.6665 - val_accuracy: 0.6377 - val_precision_1: 0.4842 - val_recall_1: 0.3090\n",
      "Epoch 88/100\n",
      "280/280 [==============================] - 1s 4ms/step - loss: 0.5817 - accuracy: 0.6893 - precision_1: 0.6487 - recall_1: 0.3669 - val_loss: 0.6641 - val_accuracy: 0.6391 - val_precision_1: 0.4871 - val_recall_1: 0.3102\n",
      "Epoch 89/100\n",
      "280/280 [==============================] - 1s 4ms/step - loss: 0.5761 - accuracy: 0.6967 - precision_1: 0.6578 - recall_1: 0.3923 - val_loss: 0.6670 - val_accuracy: 0.6323 - val_precision_1: 0.4711 - val_recall_1: 0.2875\n",
      "Epoch 90/100\n",
      "280/280 [==============================] - 1s 4ms/step - loss: 0.5811 - accuracy: 0.6936 - precision_1: 0.6505 - recall_1: 0.3887 - val_loss: 0.6635 - val_accuracy: 0.6341 - val_precision_1: 0.4763 - val_recall_1: 0.3039\n",
      "Epoch 91/100\n",
      "280/280 [==============================] - 1s 4ms/step - loss: 0.5790 - accuracy: 0.6895 - precision_1: 0.6387 - recall_1: 0.3887 - val_loss: 0.6666 - val_accuracy: 0.6377 - val_precision_1: 0.4847 - val_recall_1: 0.3190\n",
      "Epoch 92/100\n",
      "280/280 [==============================] - 1s 4ms/step - loss: 0.5788 - accuracy: 0.6890 - precision_1: 0.6402 - recall_1: 0.3827 - val_loss: 0.6693 - val_accuracy: 0.6243 - val_precision_1: 0.4613 - val_recall_1: 0.3455\n",
      "Epoch 93/100\n",
      "280/280 [==============================] - 1s 4ms/step - loss: 0.5783 - accuracy: 0.6905 - precision_1: 0.6365 - recall_1: 0.3998 - val_loss: 0.6638 - val_accuracy: 0.6395 - val_precision_1: 0.4871 - val_recall_1: 0.2850\n",
      "Epoch 94/100\n",
      "280/280 [==============================] - 1s 4ms/step - loss: 0.5809 - accuracy: 0.6891 - precision_1: 0.6390 - recall_1: 0.3860 - val_loss: 0.6654 - val_accuracy: 0.6386 - val_precision_1: 0.4850 - val_recall_1: 0.2863\n",
      "Epoch 95/100\n",
      "280/280 [==============================] - 1s 4ms/step - loss: 0.5750 - accuracy: 0.6930 - precision_1: 0.6499 - recall_1: 0.3866 - val_loss: 0.6702 - val_accuracy: 0.6207 - val_precision_1: 0.4521 - val_recall_1: 0.3216\n",
      "Epoch 96/100\n",
      "280/280 [==============================] - 1s 4ms/step - loss: 0.5746 - accuracy: 0.6968 - precision_1: 0.6513 - recall_1: 0.4057 - val_loss: 0.6716 - val_accuracy: 0.6310 - val_precision_1: 0.4705 - val_recall_1: 0.3115\n",
      "Epoch 97/100\n",
      "280/280 [==============================] - 1s 4ms/step - loss: 0.5767 - accuracy: 0.6973 - precision_1: 0.6563 - recall_1: 0.3983 - val_loss: 0.6704 - val_accuracy: 0.6301 - val_precision_1: 0.4678 - val_recall_1: 0.3026\n",
      "Epoch 98/100\n",
      "280/280 [==============================] - 1s 4ms/step - loss: 0.5803 - accuracy: 0.6946 - precision_1: 0.6504 - recall_1: 0.3947 - val_loss: 0.6721 - val_accuracy: 0.6207 - val_precision_1: 0.4525 - val_recall_1: 0.3241\n",
      "Epoch 99/100\n",
      "280/280 [==============================] - 1s 4ms/step - loss: 0.5746 - accuracy: 0.6915 - precision_1: 0.6425 - recall_1: 0.3926 - val_loss: 0.6745 - val_accuracy: 0.6279 - val_precision_1: 0.4649 - val_recall_1: 0.3178\n",
      "Epoch 100/100\n",
      "280/280 [==============================] - 1s 4ms/step - loss: 0.5746 - accuracy: 0.6989 - precision_1: 0.6620 - recall_1: 0.3962 - val_loss: 0.6676 - val_accuracy: 0.6368 - val_precision_1: 0.4812 - val_recall_1: 0.2900\n"
     ]
    }
   ],
   "source": [
    "history = model.fit(xtrain, ytrain, batch_size=batch_size, epochs=100, validation_data=(xtest, ytest))"
   ]
  },
  {
   "cell_type": "code",
   "execution_count": 47,
   "id": "2df9ca69",
   "metadata": {
    "scrolled": false
   },
   "outputs": [
    {
     "data": {
      "image/png": "[encoded data removed]",
      "text/plain": [
       "<Figure size 640x480 with 1 Axes>"
      ]
     },
     "metadata": {},
     "output_type": "display_data"
    }
   ],
   "source": [
    "plot_hist(history)"
   ]
  },
  {
   "cell_type": "code",
   "execution_count": 48,
   "id": "486ff6c8",
   "metadata": {},
   "outputs": [
    {
     "name": "stdout",
     "output_type": "stream",
     "text": [
      "70/70 [==============================] - 0s 1ms/step\n",
      "Accuracy:  0.6368114643976713\n",
      "\n",
      "Confusion Matrix: \n",
      " [[1192  248]\n",
      " [ 563  230]]\n",
      "\n",
      "classification_report: \n",
      "               precision    recall  f1-score   support\n",
      "\n",
      "         0.0       0.68      0.83      0.75      1440\n",
      "         1.0       0.48      0.29      0.36       793\n",
      "\n",
      "    accuracy                           0.64      2233\n",
      "   macro avg       0.58      0.56      0.55      2233\n",
      "weighted avg       0.61      0.64      0.61      2233\n",
      "\n"
     ]
    }
   ],
   "source": [
    "y_pred = model.predict(xtest)\n",
    "y_pred = np.where(y_pred > 0.5, 1, 0)\n",
    "cm = confusion_matrix(ytest, y_pred)\n",
    "print(\"Accuracy: \", accuracy_score(ytest, y_pred))\n",
    "print(\"\\nConfusion Matrix: \\n\", cm)\n",
    "print(\"\\nclassification_report: \\n\", classification_report(ytest, y_pred))"
   ]
  },
  {
   "cell_type": "markdown",
   "id": "6f3093eb",
   "metadata": {},
   "source": [
    "### Tuned Model"
   ]
  },
  {
   "cell_type": "code",
   "execution_count": 35,
   "id": "cbc4e08a",
   "metadata": {},
   "outputs": [],
   "source": [
    "def build_model(hp):\n",
    "    model = Sequential()\n",
    "    model.add(GRU(\n",
    "        units=hp.Int(\"units\", min_value=32, max_value=256, step=32),\n",
    "        return_sequences=False,\n",
    "        input_shape=(sequence_length, X_train.shape[1]),\n",
    "    ))\n",
    "    model.add(Dropout(hp.Float(\"dropout_1\", min_value=0.2, max_value=0.5, step=0.1)))\n",
    "    model.add(Dense(1, activation='sigmoid'))\n",
    "    \n",
    "    model.compile(\n",
    "        optimizer=hp.Choice(\"optimizer\", [\"adam\", \"rmsprop\", \"sgd\"]),\n",
    "        loss=hp.Choice(\"loss\", [\"binary_crossentropy\", \"mean_squared_error\"]),\n",
    "        metrics=[\"accuracy\", Precision(), Recall()],\n",
    "    )\n",
    "    return model"
   ]
  },
  {
   "cell_type": "code",
   "execution_count": 36,
   "id": "1f9ff3ad",
   "metadata": {
    "scrolled": true
   },
   "outputs": [
    {
     "name": "stdout",
     "output_type": "stream",
     "text": [
      "Trial 30 Complete [00h 00m 07s]\n",
      "accuracy: 0.6480071544647217\n",
      "\n",
      "Best accuracy So Far: 0.6771159768104553\n",
      "Total elapsed time: 00h 02m 07s\n",
      "INFO:tensorflow:Oracle triggered exit\n"
     ]
    }
   ],
   "source": [
    "# RandomSearch to find the best hyperparameters\n",
    "tuner = RandomSearch(\n",
    "    build_model,\n",
    "    objective='accuracy',\n",
    "    max_trials=30,  # Adjust the number of trials as needed\n",
    "    directory='tuned_models',\n",
    "    project_name='gru'\n",
    ")\n",
    "\n",
    "tuner.search(\n",
    "    xtrain,\n",
    "    ytrain,\n",
    "    validation_data=(xtest, ytest),\n",
    "    callbacks=[tf.keras.callbacks.EarlyStopping(patience=5)],\n",
    ")"
   ]
  },
  {
   "cell_type": "code",
   "execution_count": 39,
   "id": "041766d9",
   "metadata": {},
   "outputs": [
    {
     "data": {
      "text/plain": [
       "{'units': 128,\n",
       " 'dropout_1': 0.2,\n",
       " 'optimizer': 'adam',\n",
       " 'loss': 'binary_crossentropy'}"
      ]
     },
     "execution_count": 39,
     "metadata": {},
     "output_type": "execute_result"
    }
   ],
   "source": [
    "# get params of best model\n",
    "best_hps = tuner.get_best_hyperparameters(num_trials=1)[0]\n",
    "best_hps.values"
   ]
  },
  {
   "cell_type": "code",
   "execution_count": 40,
   "id": "50cfa4ac",
   "metadata": {
    "scrolled": false
   },
   "outputs": [
    {
     "name": "stdout",
     "output_type": "stream",
     "text": [
      "Model: \"sequential\"\n",
      "_________________________________________________________________\n",
      " Layer (type)                Output Shape              Param #   \n",
      "=================================================================\n",
      " gru (GRU)                   (None, 128)               52992     \n",
      "                                                                 \n",
      " dropout (Dropout)           (None, 128)               0         \n",
      "                                                                 \n",
      " dense (Dense)               (None, 1)                 129       \n",
      "                                                                 \n",
      "=================================================================\n",
      "Total params: 53,121\n",
      "Trainable params: 53,121\n",
      "Non-trainable params: 0\n",
      "_________________________________________________________________\n"
     ]
    }
   ],
   "source": [
    "best_model = tuner.get_best_models(num_models=1)[0]\n",
    "best_model.summary()"
   ]
  },
  {
   "cell_type": "code",
   "execution_count": 41,
   "id": "f304ca0b",
   "metadata": {},
   "outputs": [
    {
     "name": "stdout",
     "output_type": "stream",
     "text": [
      "Epoch 1/100\n",
      "280/280 [==============================] - 4s 8ms/step - loss: 0.6392 - accuracy: 0.6484 - precision: 0.6221 - recall: 0.1500 - val_loss: 0.6251 - val_accuracy: 0.6695 - val_precision: 0.6519 - val_recall: 0.1488\n",
      "Epoch 2/100\n",
      "280/280 [==============================] - 2s 7ms/step - loss: 0.6377 - accuracy: 0.6501 - precision: 0.6332 - recall: 0.1506 - val_loss: 0.6251 - val_accuracy: 0.6686 - val_precision: 0.6178 - val_recall: 0.1753\n",
      "Epoch 3/100\n",
      "280/280 [==============================] - 2s 7ms/step - loss: 0.6366 - accuracy: 0.6469 - precision: 0.6090 - recall: 0.1536 - val_loss: 0.6265 - val_accuracy: 0.6735 - val_precision: 0.6495 - val_recall: 0.1753\n",
      "Epoch 4/100\n",
      "280/280 [==============================] - 2s 8ms/step - loss: 0.6362 - accuracy: 0.6500 - precision: 0.6254 - recall: 0.1572 - val_loss: 0.6254 - val_accuracy: 0.6708 - val_precision: 0.6272 - val_recall: 0.1803\n",
      "Epoch 5/100\n",
      "280/280 [==============================] - 2s 8ms/step - loss: 0.6341 - accuracy: 0.6488 - precision: 0.6141 - recall: 0.1616 - val_loss: 0.6254 - val_accuracy: 0.6700 - val_precision: 0.6308 - val_recall: 0.1702\n",
      "Epoch 6/100\n",
      "280/280 [==============================] - 2s 7ms/step - loss: 0.6332 - accuracy: 0.6509 - precision: 0.6226 - recall: 0.1661 - val_loss: 0.6305 - val_accuracy: 0.6695 - val_precision: 0.6329 - val_recall: 0.1652\n",
      "Epoch 7/100\n",
      "280/280 [==============================] - 2s 7ms/step - loss: 0.6313 - accuracy: 0.6501 - precision: 0.6283 - recall: 0.1551 - val_loss: 0.6260 - val_accuracy: 0.6695 - val_precision: 0.6519 - val_recall: 0.1488\n",
      "Epoch 8/100\n",
      "280/280 [==============================] - 2s 7ms/step - loss: 0.6283 - accuracy: 0.6542 - precision: 0.6400 - recall: 0.1700 - val_loss: 0.6381 - val_accuracy: 0.6673 - val_precision: 0.5812 - val_recall: 0.2257\n",
      "Epoch 9/100\n",
      "280/280 [==============================] - 2s 7ms/step - loss: 0.6277 - accuracy: 0.6543 - precision: 0.6281 - recall: 0.1831 - val_loss: 0.6289 - val_accuracy: 0.6650 - val_precision: 0.6098 - val_recall: 0.1576\n",
      "Epoch 10/100\n",
      "280/280 [==============================] - 2s 7ms/step - loss: 0.6245 - accuracy: 0.6558 - precision: 0.6354 - recall: 0.1843 - val_loss: 0.6299 - val_accuracy: 0.6704 - val_precision: 0.6557 - val_recall: 0.1513\n",
      "Epoch 11/100\n",
      "280/280 [==============================] - 2s 7ms/step - loss: 0.6188 - accuracy: 0.6581 - precision: 0.6371 - recall: 0.1972 - val_loss: 0.6327 - val_accuracy: 0.6570 - val_precision: 0.5440 - val_recall: 0.2106\n",
      "Epoch 12/100\n",
      "280/280 [==============================] - 2s 7ms/step - loss: 0.6157 - accuracy: 0.6624 - precision: 0.6258 - recall: 0.2393 - val_loss: 0.6337 - val_accuracy: 0.6637 - val_precision: 0.5827 - val_recall: 0.1866\n",
      "Epoch 13/100\n",
      "280/280 [==============================] - 2s 8ms/step - loss: 0.6085 - accuracy: 0.6639 - precision: 0.6205 - recall: 0.2584 - val_loss: 0.6387 - val_accuracy: 0.6637 - val_precision: 0.5820 - val_recall: 0.1879\n",
      "Epoch 14/100\n",
      "280/280 [==============================] - 2s 7ms/step - loss: 0.6010 - accuracy: 0.6692 - precision: 0.6334 - recall: 0.2716 - val_loss: 0.6451 - val_accuracy: 0.6565 - val_precision: 0.5417 - val_recall: 0.2131\n",
      "Epoch 15/100\n",
      "280/280 [==============================] - 2s 7ms/step - loss: 0.5928 - accuracy: 0.6760 - precision: 0.6386 - recall: 0.3056 - val_loss: 0.6564 - val_accuracy: 0.6417 - val_precision: 0.4925 - val_recall: 0.2900\n",
      "Epoch 16/100\n",
      "280/280 [==============================] - 2s 7ms/step - loss: 0.5816 - accuracy: 0.6840 - precision: 0.6419 - recall: 0.3487 - val_loss: 0.6608 - val_accuracy: 0.6462 - val_precision: 0.5037 - val_recall: 0.2547\n",
      "Epoch 17/100\n",
      "280/280 [==============================] - 2s 7ms/step - loss: 0.5678 - accuracy: 0.6970 - precision: 0.6599 - recall: 0.3896 - val_loss: 0.6752 - val_accuracy: 0.6444 - val_precision: 0.4989 - val_recall: 0.2926\n",
      "Epoch 18/100\n",
      "280/280 [==============================] - 2s 7ms/step - loss: 0.5502 - accuracy: 0.7098 - precision: 0.6702 - recall: 0.4395 - val_loss: 0.6931 - val_accuracy: 0.6431 - val_precision: 0.4955 - val_recall: 0.2799\n",
      "Epoch 19/100\n",
      "280/280 [==============================] - 2s 7ms/step - loss: 0.5329 - accuracy: 0.7223 - precision: 0.6847 - recall: 0.4756 - val_loss: 0.7064 - val_accuracy: 0.6229 - val_precision: 0.4609 - val_recall: 0.3644\n",
      "Epoch 20/100\n",
      "280/280 [==============================] - 2s 7ms/step - loss: 0.5113 - accuracy: 0.7433 - precision: 0.7088 - recall: 0.5309 - val_loss: 0.7271 - val_accuracy: 0.6225 - val_precision: 0.4539 - val_recall: 0.3102\n",
      "Epoch 21/100\n",
      "280/280 [==============================] - 2s 8ms/step - loss: 0.4877 - accuracy: 0.7522 - precision: 0.7107 - recall: 0.5680 - val_loss: 0.7795 - val_accuracy: 0.6153 - val_precision: 0.4486 - val_recall: 0.3632\n",
      "Epoch 22/100\n",
      "280/280 [==============================] - 2s 7ms/step - loss: 0.4611 - accuracy: 0.7700 - precision: 0.7378 - recall: 0.5961 - val_loss: 0.7958 - val_accuracy: 0.6095 - val_precision: 0.4427 - val_recall: 0.3846\n",
      "Epoch 23/100\n",
      "280/280 [==============================] - 2s 7ms/step - loss: 0.4309 - accuracy: 0.7910 - precision: 0.7578 - recall: 0.6477 - val_loss: 0.8599 - val_accuracy: 0.6086 - val_precision: 0.4360 - val_recall: 0.3480\n",
      "Epoch 24/100\n",
      "280/280 [==============================] - 2s 7ms/step - loss: 0.3991 - accuracy: 0.8129 - precision: 0.7831 - recall: 0.6905 - val_loss: 0.8805 - val_accuracy: 0.6135 - val_precision: 0.4468 - val_recall: 0.3707\n",
      "Epoch 25/100\n",
      "280/280 [==============================] - 2s 7ms/step - loss: 0.3638 - accuracy: 0.8331 - precision: 0.8058 - recall: 0.7290 - val_loss: 0.9438 - val_accuracy: 0.6028 - val_precision: 0.4327 - val_recall: 0.3808\n",
      "Epoch 26/100\n",
      "280/280 [==============================] - 2s 7ms/step - loss: 0.3292 - accuracy: 0.8561 - precision: 0.8337 - recall: 0.7682 - val_loss: 1.0178 - val_accuracy: 0.5907 - val_precision: 0.4227 - val_recall: 0.4174\n",
      "Epoch 27/100\n",
      "280/280 [==============================] - 2s 7ms/step - loss: 0.2900 - accuracy: 0.8770 - precision: 0.8565 - recall: 0.8058 - val_loss: 1.0814 - val_accuracy: 0.5755 - val_precision: 0.4032 - val_recall: 0.4073\n",
      "Epoch 28/100\n",
      "280/280 [==============================] - 2s 7ms/step - loss: 0.2630 - accuracy: 0.8893 - precision: 0.8676 - recall: 0.8303 - val_loss: 1.1511 - val_accuracy: 0.5862 - val_precision: 0.4176 - val_recall: 0.4187\n",
      "Epoch 29/100\n",
      "280/280 [==============================] - 2s 8ms/step - loss: 0.2245 - accuracy: 0.9120 - precision: 0.8909 - recall: 0.8712 - val_loss: 1.2370 - val_accuracy: 0.5831 - val_precision: 0.4034 - val_recall: 0.3632\n",
      "Epoch 30/100\n",
      "280/280 [==============================] - 2s 7ms/step - loss: 0.1919 - accuracy: 0.9231 - precision: 0.9074 - recall: 0.8844 - val_loss: 1.3448 - val_accuracy: 0.5880 - val_precision: 0.4201 - val_recall: 0.4212\n",
      "Epoch 31/100\n",
      "280/280 [==============================] - 2s 7ms/step - loss: 0.1597 - accuracy: 0.9378 - precision: 0.9245 - recall: 0.9077 - val_loss: 1.4558 - val_accuracy: 0.5755 - val_precision: 0.4008 - val_recall: 0.3947\n",
      "Epoch 32/100\n",
      "280/280 [==============================] - 2s 7ms/step - loss: 0.1322 - accuracy: 0.9522 - precision: 0.9424 - recall: 0.9289 - val_loss: 1.5747 - val_accuracy: 0.5692 - val_precision: 0.3956 - val_recall: 0.4035\n",
      "Epoch 33/100\n",
      "280/280 [==============================] - 2s 7ms/step - loss: 0.1018 - accuracy: 0.9666 - precision: 0.9579 - recall: 0.9525 - val_loss: 1.6736 - val_accuracy: 0.5813 - val_precision: 0.4094 - val_recall: 0.4048\n",
      "Epoch 34/100\n",
      "280/280 [==============================] - 2s 7ms/step - loss: 0.0901 - accuracy: 0.9708 - precision: 0.9645 - recall: 0.9570 - val_loss: 1.7932 - val_accuracy: 0.5661 - val_precision: 0.3967 - val_recall: 0.4262\n",
      "Epoch 35/100\n",
      "280/280 [==============================] - 2s 7ms/step - loss: 0.0772 - accuracy: 0.9757 - precision: 0.9714 - recall: 0.9633 - val_loss: 1.9006 - val_accuracy: 0.5714 - val_precision: 0.3978 - val_recall: 0.4023\n",
      "Epoch 36/100\n",
      "280/280 [==============================] - 2s 7ms/step - loss: 0.0668 - accuracy: 0.9785 - precision: 0.9730 - recall: 0.9692 - val_loss: 2.0012 - val_accuracy: 0.5804 - val_precision: 0.4120 - val_recall: 0.4250\n",
      "Epoch 37/100\n"
     ]
    },
    {
     "name": "stdout",
     "output_type": "stream",
     "text": [
      "280/280 [==============================] - 2s 8ms/step - loss: 0.0611 - accuracy: 0.9798 - precision: 0.9723 - recall: 0.9737 - val_loss: 2.0541 - val_accuracy: 0.5714 - val_precision: 0.3938 - val_recall: 0.3834\n",
      "Epoch 38/100\n",
      "280/280 [==============================] - 2s 7ms/step - loss: 0.0511 - accuracy: 0.9865 - precision: 0.9835 - recall: 0.9803 - val_loss: 2.1590 - val_accuracy: 0.5737 - val_precision: 0.3992 - val_recall: 0.3972\n",
      "Epoch 39/100\n",
      "280/280 [==============================] - 2s 7ms/step - loss: 0.0471 - accuracy: 0.9866 - precision: 0.9835 - recall: 0.9806 - val_loss: 2.2309 - val_accuracy: 0.5822 - val_precision: 0.4093 - val_recall: 0.3985\n",
      "Epoch 40/100\n",
      "280/280 [==============================] - 2s 7ms/step - loss: 0.0384 - accuracy: 0.9894 - precision: 0.9857 - recall: 0.9860 - val_loss: 2.3074 - val_accuracy: 0.5687 - val_precision: 0.3973 - val_recall: 0.4149\n",
      "Epoch 41/100\n",
      "280/280 [==============================] - 2s 7ms/step - loss: 0.0402 - accuracy: 0.9876 - precision: 0.9830 - recall: 0.9839 - val_loss: 2.3973 - val_accuracy: 0.5781 - val_precision: 0.4013 - val_recall: 0.3821\n",
      "Epoch 42/100\n",
      "280/280 [==============================] - 2s 7ms/step - loss: 0.0406 - accuracy: 0.9876 - precision: 0.9847 - recall: 0.9821 - val_loss: 2.4405 - val_accuracy: 0.5616 - val_precision: 0.3817 - val_recall: 0.3783\n",
      "Epoch 43/100\n",
      "280/280 [==============================] - 2s 7ms/step - loss: 0.0320 - accuracy: 0.9905 - precision: 0.9892 - recall: 0.9854 - val_loss: 2.5458 - val_accuracy: 0.5643 - val_precision: 0.3905 - val_recall: 0.4048\n",
      "Epoch 44/100\n",
      "280/280 [==============================] - 2s 7ms/step - loss: 0.0328 - accuracy: 0.9903 - precision: 0.9889 - recall: 0.9851 - val_loss: 2.5106 - val_accuracy: 0.5629 - val_precision: 0.3855 - val_recall: 0.3884\n",
      "Epoch 45/100\n",
      "280/280 [==============================] - 2s 8ms/step - loss: 0.0410 - accuracy: 0.9877 - precision: 0.9836 - recall: 0.9836 - val_loss: 2.5099 - val_accuracy: 0.5759 - val_precision: 0.3948 - val_recall: 0.3644\n",
      "Epoch 46/100\n",
      "280/280 [==============================] - 2s 8ms/step - loss: 0.0325 - accuracy: 0.9896 - precision: 0.9863 - recall: 0.9860 - val_loss: 2.5873 - val_accuracy: 0.5674 - val_precision: 0.3917 - val_recall: 0.3947\n",
      "Epoch 47/100\n",
      "280/280 [==============================] - 2s 7ms/step - loss: 0.0196 - accuracy: 0.9946 - precision: 0.9934 - recall: 0.9922 - val_loss: 2.6835 - val_accuracy: 0.5678 - val_precision: 0.3928 - val_recall: 0.3972\n",
      "Epoch 48/100\n",
      "280/280 [==============================] - 2s 7ms/step - loss: 0.0134 - accuracy: 0.9970 - precision: 0.9958 - recall: 0.9961 - val_loss: 2.7331 - val_accuracy: 0.5652 - val_precision: 0.3856 - val_recall: 0.3783\n",
      "Epoch 49/100\n",
      "280/280 [==============================] - 2s 7ms/step - loss: 0.0173 - accuracy: 0.9960 - precision: 0.9955 - recall: 0.9937 - val_loss: 2.8458 - val_accuracy: 0.5741 - val_precision: 0.3997 - val_recall: 0.3972\n",
      "Epoch 50/100\n",
      "280/280 [==============================] - 2s 7ms/step - loss: 0.0400 - accuracy: 0.9881 - precision: 0.9844 - recall: 0.9836 - val_loss: 2.7626 - val_accuracy: 0.5728 - val_precision: 0.3985 - val_recall: 0.3985\n",
      "Epoch 51/100\n",
      "280/280 [==============================] - 2s 7ms/step - loss: 0.0574 - accuracy: 0.9810 - precision: 0.9772 - recall: 0.9719 - val_loss: 2.7159 - val_accuracy: 0.5714 - val_precision: 0.4047 - val_recall: 0.4388\n",
      "Epoch 52/100\n",
      "280/280 [==============================] - 2s 7ms/step - loss: 0.0283 - accuracy: 0.9904 - precision: 0.9857 - recall: 0.9886 - val_loss: 2.7317 - val_accuracy: 0.5817 - val_precision: 0.4061 - val_recall: 0.3846\n",
      "Epoch 53/100\n",
      "280/280 [==============================] - 2s 8ms/step - loss: 0.0143 - accuracy: 0.9970 - precision: 0.9967 - recall: 0.9952 - val_loss: 2.8626 - val_accuracy: 0.5799 - val_precision: 0.4076 - val_recall: 0.4035\n",
      "Epoch 54/100\n",
      "280/280 [==============================] - 2s 7ms/step - loss: 0.0105 - accuracy: 0.9975 - precision: 0.9961 - recall: 0.9973 - val_loss: 2.9091 - val_accuracy: 0.5822 - val_precision: 0.4144 - val_recall: 0.4275\n",
      "Epoch 55/100\n",
      "280/280 [==============================] - 2s 7ms/step - loss: 0.0099 - accuracy: 0.9981 - precision: 0.9973 - recall: 0.9976 - val_loss: 2.9466 - val_accuracy: 0.5844 - val_precision: 0.4129 - val_recall: 0.4035\n",
      "Epoch 56/100\n",
      "280/280 [==============================] - 2s 9ms/step - loss: 0.0323 - accuracy: 0.9892 - precision: 0.9874 - recall: 0.9836 - val_loss: 2.9683 - val_accuracy: 0.5781 - val_precision: 0.4079 - val_recall: 0.4161\n",
      "Epoch 57/100\n",
      "280/280 [==============================] - 2s 7ms/step - loss: 0.0365 - accuracy: 0.9860 - precision: 0.9826 - recall: 0.9800 - val_loss: 2.9509 - val_accuracy: 0.5826 - val_precision: 0.4128 - val_recall: 0.4149\n",
      "Epoch 58/100\n",
      "280/280 [==============================] - 2s 7ms/step - loss: 0.0262 - accuracy: 0.9916 - precision: 0.9886 - recall: 0.9889 - val_loss: 2.9249 - val_accuracy: 0.5853 - val_precision: 0.4140 - val_recall: 0.4035\n",
      "Epoch 59/100\n",
      "280/280 [==============================] - 2s 7ms/step - loss: 0.0327 - accuracy: 0.9892 - precision: 0.9848 - recall: 0.9863 - val_loss: 2.9560 - val_accuracy: 0.5889 - val_precision: 0.4191 - val_recall: 0.4086\n",
      "Epoch 60/100\n",
      "280/280 [==============================] - 2s 7ms/step - loss: 0.0248 - accuracy: 0.9924 - precision: 0.9893 - recall: 0.9904 - val_loss: 2.9771 - val_accuracy: 0.5795 - val_precision: 0.4092 - val_recall: 0.4149\n",
      "Epoch 61/100\n",
      "280/280 [==============================] - 2s 8ms/step - loss: 0.0310 - accuracy: 0.9907 - precision: 0.9851 - recall: 0.9901 - val_loss: 2.9319 - val_accuracy: 0.5867 - val_precision: 0.4142 - val_recall: 0.3960\n",
      "Epoch 62/100\n",
      "280/280 [==============================] - 2s 7ms/step - loss: 0.0229 - accuracy: 0.9912 - precision: 0.9889 - recall: 0.9875 - val_loss: 3.0201 - val_accuracy: 0.5884 - val_precision: 0.4184 - val_recall: 0.4073\n",
      "Epoch 63/100\n",
      "280/280 [==============================] - 2s 7ms/step - loss: 0.0141 - accuracy: 0.9961 - precision: 0.9949 - recall: 0.9946 - val_loss: 3.0965 - val_accuracy: 0.5661 - val_precision: 0.3919 - val_recall: 0.4023\n",
      "Epoch 64/100\n",
      "280/280 [==============================] - 2s 7ms/step - loss: 0.0112 - accuracy: 0.9970 - precision: 0.9967 - recall: 0.9952 - val_loss: 3.1078 - val_accuracy: 0.5634 - val_precision: 0.3815 - val_recall: 0.3695\n",
      "Epoch 65/100\n",
      "280/280 [==============================] - 2s 7ms/step - loss: 0.0075 - accuracy: 0.9984 - precision: 0.9988 - recall: 0.9970 - val_loss: 3.1261 - val_accuracy: 0.5652 - val_precision: 0.3909 - val_recall: 0.4023\n",
      "Epoch 66/100\n",
      "280/280 [==============================] - 2s 7ms/step - loss: 0.0092 - accuracy: 0.9980 - precision: 0.9970 - recall: 0.9976 - val_loss: 3.1424 - val_accuracy: 0.5692 - val_precision: 0.3956 - val_recall: 0.4035\n",
      "Epoch 67/100\n",
      "280/280 [==============================] - 2s 7ms/step - loss: 0.0319 - accuracy: 0.9897 - precision: 0.9880 - recall: 0.9845 - val_loss: 3.1045 - val_accuracy: 0.5759 - val_precision: 0.4047 - val_recall: 0.4124\n",
      "Epoch 68/100\n",
      "280/280 [==============================] - 2s 7ms/step - loss: 0.0559 - accuracy: 0.9826 - precision: 0.9753 - recall: 0.9782 - val_loss: 3.0434 - val_accuracy: 0.5907 - val_precision: 0.4199 - val_recall: 0.3997\n",
      "Epoch 69/100\n",
      "280/280 [==============================] - 2s 8ms/step - loss: 0.0302 - accuracy: 0.9900 - precision: 0.9871 - recall: 0.9860 - val_loss: 3.0267 - val_accuracy: 0.5853 - val_precision: 0.4085 - val_recall: 0.3745\n",
      "Epoch 70/100\n",
      "280/280 [==============================] - 2s 7ms/step - loss: 0.0172 - accuracy: 0.9949 - precision: 0.9940 - recall: 0.9922 - val_loss: 3.1304 - val_accuracy: 0.5777 - val_precision: 0.4055 - val_recall: 0.4061\n",
      "Epoch 71/100\n",
      "280/280 [==============================] - 2s 7ms/step - loss: 0.0175 - accuracy: 0.9953 - precision: 0.9949 - recall: 0.9925 - val_loss: 3.1601 - val_accuracy: 0.5804 - val_precision: 0.4075 - val_recall: 0.3997\n",
      "Epoch 72/100\n",
      "280/280 [==============================] - 2s 7ms/step - loss: 0.0081 - accuracy: 0.9979 - precision: 0.9979 - recall: 0.9964 - val_loss: 3.2121 - val_accuracy: 0.5759 - val_precision: 0.4013 - val_recall: 0.3947\n",
      "Epoch 73/100\n"
     ]
    },
    {
     "name": "stdout",
     "output_type": "stream",
     "text": [
      "280/280 [==============================] - 2s 7ms/step - loss: 0.0052 - accuracy: 0.9993 - precision: 0.9988 - recall: 0.9994 - val_loss: 3.2762 - val_accuracy: 0.5817 - val_precision: 0.4046 - val_recall: 0.3770\n",
      "Epoch 74/100\n",
      "280/280 [==============================] - 2s 7ms/step - loss: 0.0086 - accuracy: 0.9973 - precision: 0.9961 - recall: 0.9967 - val_loss: 3.2323 - val_accuracy: 0.5790 - val_precision: 0.3995 - val_recall: 0.3682\n",
      "Epoch 75/100\n",
      "280/280 [==============================] - 2s 7ms/step - loss: 0.0391 - accuracy: 0.9886 - precision: 0.9851 - recall: 0.9845 - val_loss: 3.2499 - val_accuracy: 0.5822 - val_precision: 0.4028 - val_recall: 0.3657\n",
      "Epoch 76/100\n",
      "280/280 [==============================] - 2s 7ms/step - loss: 0.0291 - accuracy: 0.9907 - precision: 0.9886 - recall: 0.9866 - val_loss: 3.2309 - val_accuracy: 0.5750 - val_precision: 0.4035 - val_recall: 0.4111\n",
      "Epoch 77/100\n",
      "280/280 [==============================] - 2s 8ms/step - loss: 0.0251 - accuracy: 0.9922 - precision: 0.9904 - recall: 0.9886 - val_loss: 3.2565 - val_accuracy: 0.5701 - val_precision: 0.3955 - val_recall: 0.3985\n",
      "Epoch 78/100\n",
      "280/280 [==============================] - 2s 7ms/step - loss: 0.0233 - accuracy: 0.9925 - precision: 0.9907 - recall: 0.9892 - val_loss: 3.1846 - val_accuracy: 0.5773 - val_precision: 0.4050 - val_recall: 0.4061\n",
      "Epoch 79/100\n",
      "280/280 [==============================] - 2s 7ms/step - loss: 0.0248 - accuracy: 0.9925 - precision: 0.9907 - recall: 0.9892 - val_loss: 3.2012 - val_accuracy: 0.5786 - val_precision: 0.4049 - val_recall: 0.3972\n",
      "Epoch 80/100\n",
      "280/280 [==============================] - 2s 7ms/step - loss: 0.0221 - accuracy: 0.9930 - precision: 0.9919 - recall: 0.9892 - val_loss: 3.2895 - val_accuracy: 0.5647 - val_precision: 0.3918 - val_recall: 0.4086\n",
      "Epoch 81/100\n",
      "280/280 [==============================] - 2s 7ms/step - loss: 0.0179 - accuracy: 0.9941 - precision: 0.9931 - recall: 0.9910 - val_loss: 3.2446 - val_accuracy: 0.5853 - val_precision: 0.4110 - val_recall: 0.3871\n",
      "Epoch 82/100\n",
      "280/280 [==============================] - 2s 7ms/step - loss: 0.0137 - accuracy: 0.9955 - precision: 0.9943 - recall: 0.9937 - val_loss: 3.2539 - val_accuracy: 0.5781 - val_precision: 0.4081 - val_recall: 0.4174\n",
      "Epoch 83/100\n",
      "280/280 [==============================] - 2s 7ms/step - loss: 0.0201 - accuracy: 0.9937 - precision: 0.9908 - recall: 0.9925 - val_loss: 3.2470 - val_accuracy: 0.5773 - val_precision: 0.4050 - val_recall: 0.4061\n",
      "Epoch 84/100\n",
      "280/280 [==============================] - 2s 7ms/step - loss: 0.0192 - accuracy: 0.9935 - precision: 0.9916 - recall: 0.9910 - val_loss: 3.2041 - val_accuracy: 0.5822 - val_precision: 0.4134 - val_recall: 0.4212\n",
      "Epoch 85/100\n",
      "280/280 [==============================] - 2s 8ms/step - loss: 0.0163 - accuracy: 0.9948 - precision: 0.9931 - recall: 0.9928 - val_loss: 3.2736 - val_accuracy: 0.5858 - val_precision: 0.4149 - val_recall: 0.4061\n",
      "Epoch 86/100\n",
      "280/280 [==============================] - 2s 7ms/step - loss: 0.0234 - accuracy: 0.9922 - precision: 0.9907 - recall: 0.9883 - val_loss: 3.1496 - val_accuracy: 0.5790 - val_precision: 0.4085 - val_recall: 0.4136\n",
      "Epoch 87/100\n",
      "280/280 [==============================] - 2s 7ms/step - loss: 0.0206 - accuracy: 0.9931 - precision: 0.9907 - recall: 0.9907 - val_loss: 3.2298 - val_accuracy: 0.5813 - val_precision: 0.4101 - val_recall: 0.4086\n",
      "Epoch 88/100\n",
      "280/280 [==============================] - 2s 7ms/step - loss: 0.0155 - accuracy: 0.9954 - precision: 0.9943 - recall: 0.9934 - val_loss: 3.3133 - val_accuracy: 0.5768 - val_precision: 0.4033 - val_recall: 0.3997\n",
      "Epoch 89/100\n",
      "280/280 [==============================] - 2s 7ms/step - loss: 0.0067 - accuracy: 0.9987 - precision: 0.9982 - recall: 0.9982 - val_loss: 3.3891 - val_accuracy: 0.5737 - val_precision: 0.4005 - val_recall: 0.4035\n",
      "Epoch 90/100\n",
      "280/280 [==============================] - 2s 7ms/step - loss: 0.0055 - accuracy: 0.9990 - precision: 0.9991 - recall: 0.9982 - val_loss: 3.4356 - val_accuracy: 0.5652 - val_precision: 0.3930 - val_recall: 0.4124\n",
      "Epoch 91/100\n",
      "280/280 [==============================] - 2s 7ms/step - loss: 0.0097 - accuracy: 0.9971 - precision: 0.9946 - recall: 0.9976 - val_loss: 3.5100 - val_accuracy: 0.5759 - val_precision: 0.4010 - val_recall: 0.3934\n",
      "Epoch 92/100\n",
      "280/280 [==============================] - 2s 7ms/step - loss: 0.0124 - accuracy: 0.9962 - precision: 0.9949 - recall: 0.9949 - val_loss: 3.4519 - val_accuracy: 0.5826 - val_precision: 0.4052 - val_recall: 0.3745\n",
      "Epoch 93/100\n",
      "280/280 [==============================] - 2s 8ms/step - loss: 0.0427 - accuracy: 0.9862 - precision: 0.9815 - recall: 0.9815 - val_loss: 3.2368 - val_accuracy: 0.5934 - val_precision: 0.4182 - val_recall: 0.3707\n",
      "Epoch 94/100\n",
      "280/280 [==============================] - 2s 7ms/step - loss: 0.0466 - accuracy: 0.9831 - precision: 0.9773 - recall: 0.9776 - val_loss: 3.1760 - val_accuracy: 0.5781 - val_precision: 0.4053 - val_recall: 0.4023\n",
      "Epoch 95/100\n",
      "280/280 [==============================] - 2s 7ms/step - loss: 0.0248 - accuracy: 0.9905 - precision: 0.9895 - recall: 0.9851 - val_loss: 3.2394 - val_accuracy: 0.5647 - val_precision: 0.3910 - val_recall: 0.4048\n",
      "Epoch 96/100\n",
      "280/280 [==============================] - 2s 7ms/step - loss: 0.0114 - accuracy: 0.9960 - precision: 0.9952 - recall: 0.9940 - val_loss: 3.2542 - val_accuracy: 0.5902 - val_precision: 0.4195 - val_recall: 0.4010\n",
      "Epoch 97/100\n",
      "280/280 [==============================] - 2s 7ms/step - loss: 0.0088 - accuracy: 0.9973 - precision: 0.9958 - recall: 0.9970 - val_loss: 3.2881 - val_accuracy: 0.5759 - val_precision: 0.4028 - val_recall: 0.4023\n",
      "Epoch 98/100\n",
      "280/280 [==============================] - 2s 7ms/step - loss: 0.0101 - accuracy: 0.9971 - precision: 0.9958 - recall: 0.9964 - val_loss: 3.3045 - val_accuracy: 0.5808 - val_precision: 0.4022 - val_recall: 0.3707\n",
      "Epoch 99/100\n",
      "280/280 [==============================] - 2s 7ms/step - loss: 0.0147 - accuracy: 0.9955 - precision: 0.9940 - recall: 0.9940 - val_loss: 3.3960 - val_accuracy: 0.5831 - val_precision: 0.4122 - val_recall: 0.4086\n",
      "Epoch 100/100\n",
      "280/280 [==============================] - 2s 7ms/step - loss: 0.0213 - accuracy: 0.9930 - precision: 0.9904 - recall: 0.9907 - val_loss: 3.3420 - val_accuracy: 0.5893 - val_precision: 0.4129 - val_recall: 0.3707\n"
     ]
    }
   ],
   "source": [
    "# build and fit best model\n",
    "best_model.build(xtrain.shape)\n",
    "history = best_model.fit(xtrain, ytrain, batch_size=batch_size, epochs=100, validation_data=(xtest, ytest))"
   ]
  },
  {
   "cell_type": "code",
   "execution_count": 42,
   "id": "7131bebb",
   "metadata": {},
   "outputs": [
    {
     "data": {
      "image/png": "[encoded data removed]",
      "text/plain": [
       "<Figure size 640x480 with 1 Axes>"
      ]
     },
     "metadata": {},
     "output_type": "display_data"
    }
   ],
   "source": [
    "plot_hist(history)"
   ]
  },
  {
   "cell_type": "code",
   "execution_count": 43,
   "id": "37ca4161",
   "metadata": {},
   "outputs": [
    {
     "name": "stdout",
     "output_type": "stream",
     "text": [
      "70/70 [==============================] - 0s 1ms/step\n",
      "Accuracy:  0.6556202418271384\n",
      "\n",
      "Confusion Matrix: \n",
      " [[1261  179]\n",
      " [ 590  203]]\n",
      "\n",
      "classification_report: \n",
      "               precision    recall  f1-score   support\n",
      "\n",
      "         0.0       0.68      0.88      0.77      1440\n",
      "         1.0       0.53      0.26      0.35       793\n",
      "\n",
      "    accuracy                           0.66      2233\n",
      "   macro avg       0.61      0.57      0.56      2233\n",
      "weighted avg       0.63      0.66      0.62      2233\n",
      "\n"
     ]
    }
   ],
   "source": [
    "y_pred = model.predict(xtest)\n",
    "y_pred = np.where(y_pred > 0.5, 1, 0)\n",
    "cm = confusion_matrix(ytest, y_pred)\n",
    "print(\"Accuracy: \", accuracy_score(ytest, y_pred))\n",
    "print(\"\\nConfusion Matrix: \\n\", cm)\n",
    "print(\"\\nclassification_report: \\n\", classification_report(ytest, y_pred))"
   ]
  }
 ],
 "metadata": {
  "kernelspec": {
   "display_name": "Python 3 (ipykernel)",
   "language": "python",
   "name": "python3"
  },
  "language_info": {
   "codemirror_mode": {
    "name": "ipython",
    "version": 3
   },
   "file_extension": ".py",
   "mimetype": "text/x-python",
   "name": "python",
   "nbconvert_exporter": "python",
   "pygments_lexer": "ipython3",
   "version": "3.9.13"
  }
 },
 "nbformat": 4,
 "nbformat_minor": 5
}
